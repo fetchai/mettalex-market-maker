{
 "cells": [
  {
   "cell_type": "markdown",
   "metadata": {},
   "source": [
    "# Mettalex Autonomous Market Maker\n",
    "Date: 2020-12-17\n",
    "\n",
    "Author: Matt McDonnell, Fetch.ai/Mettalex\n",
    "\n",
    "This notebook describes calcuations used to design an improved version of the Mettalex Autonomous Market Maker (AMM) to provide fair liquidity-sensitive pricing.\n",
    "\n",
    "Currently the Mettalex system is running on the Ethereum blockchain which has the benefit of allowing reuse of existing DeFi protocols at the expense of some limitations in the allowed efficient mathematical operations. The Mettalex system roadmap plans to transition the autonomous market making functionality to the Fetch.ai network to make use of more advanced optimization techniques. As such the functionality described here should be regarded as an intial version of the AMM that will be extended as more network capabilities become available.\n",
    "\n",
    "The initial version of the Mettalex AMM described in [amm_balancer.ipynb](amm_balancer.ipynb) makes use of a private Balancer Smart Pool internally to provide the functionality of swapping between coin token (USDT intially) and long or short position tokens. The internal Balancer AMM is controlled to set prices of long and short tokens to reflect market demand and constraints on the token prices.\n",
    "\n",
    "The new version of the Mettalex AMM discussed in this notebook builds on the analysis of the previous notebook to propose changes to the Balancer invariant to achieve system constraints."
   ]
  },
  {
   "cell_type": "code",
   "execution_count": 1,
   "metadata": {},
   "outputs": [],
   "source": [
    "# Initial notebook setup: functions are stored in ./calc/amm_math.py \n",
    "%load_ext autoreload\n",
    "%autoreload 2\n",
    "\n",
    "import sys\n",
    "import os\n",
    "sys.path.append(os.path.join(os.getcwd(), 'calc'))\n",
    "\n",
    "from amm_math import (\n",
    "    calc_spot_price, calc_token_balance, calc_out_given_in, calc_in_given_out, \n",
    "    set_amm_state, set_amm_state_rebalance, get_amm_spot_prices, get_amm_balance, \n",
    "    simple_swap_from_coin, simple_swap_to_coin, simulate_swaps_from_coin,\n",
    "    calc_balancer_invariant, mint_redeem, deposit_withdraw, perform_action,\n",
    "    plot_action, plot_action_orderbook, print_state_change, perform_action_sequence\n",
    ")\n",
    "\n",
    "import sympy as sp\n",
    "import matplotlib.pyplot as plt\n",
    "import numpy as np\n",
    "import seaborn as sns\n",
    "\n",
    "%matplotlib inline"
   ]
  },
  {
   "cell_type": "code",
   "execution_count": 2,
   "metadata": {},
   "outputs": [],
   "source": [
    "# Weights\n",
    "w_c, w_l, w_s = sp.symbols('w_c w_l w_s', positive=True)\n",
    "# Token balances\n",
    "x_c, x_l, x_s = sp.symbols('x_c x_l x_s', positive=True)\n",
    "# Prices - in units of locked up collateral\n",
    "v = sp.symbols('v', positive=True) \n",
    "# Swap fee in fraction of input tokens\n",
    "s_f = sp.symbols('s_f')\n",
    "# Decimal scaling \n",
    "d_c, d_p = sp.symbols('d_c d_p', positive=True)\n",
    "# Collateral backing L + S \n",
    "# e.g. for $100.000_000_000_000_000_000 = 1.000_000 mt\n",
    "# this is 100*10**18 / 1*10**6 = 10**14\n",
    "C = sp.symbols('C', positive=True)\n",
    "\n",
    "# Input token amounts for swaps\n",
    "a_c, a_l, a_s = sp.symbols('a_c a_l a_s', positive=True)\n",
    "x_m = sp.symbols('x_m')  # Amount of coin tokens used for minting long and short"
   ]
  },
  {
   "cell_type": "code",
   "execution_count": 3,
   "metadata": {},
   "outputs": [
    {
     "name": "stdout",
     "output_type": "stream",
     "text": [
      "Help on function calc_spot_price in module amm_math:\n",
      "\n",
      "calc_spot_price(bI, wI, bO, wO, sF=0)\n",
      "    calcSpotPrice                                                                             //\n",
      "     sP = spotPrice                                                                            //\n",
      "     bI = tokenBalanceIn                ( bI / wI )         1                                  //\n",
      "     bO = tokenBalanceOut         sP =  -----------  *  ----------                             //\n",
      "     wI = tokenWeightIn                 ( bO / wO )     ( 1 - sF )                             //\n",
      "     wO = tokenWeightOut                                                                       //\n",
      "     sF = swapFee\n",
      "\n"
     ]
    }
   ],
   "source": [
    "help(calc_spot_price)"
   ]
  },
  {
   "cell_type": "code",
   "execution_count": 4,
   "metadata": {},
   "outputs": [
    {
     "name": "stdout",
     "output_type": "stream",
     "text": [
      "Help on function calc_balancer_invariant in module amm_math:\n",
      "\n",
      "calc_balancer_invariant(x_c, x_l, x_s, w_c, w_l, w_s)\n",
      "    calcBalancerInvariant - return invariant satisfied by Balancer pool for swaps\n",
      "    Uses discrete inputs rather than state vector for ease of vectorized plotting use.\n",
      "    To use state vector: calc_balancer_invariant(*state)\n",
      "\n"
     ]
    }
   ],
   "source": [
    "help(calc_balancer_invariant)"
   ]
  },
  {
   "cell_type": "markdown",
   "metadata": {},
   "source": [
    "From the [Balancer whitepaper](https://balancer.finance/whitepaper/):\n",
    "\n",
    "> The bedrock of Balancer’s exchange functions is a surface defined by constraining a value function $V$\n",
    " — a function of the pool’s weights and balances — to a constant. We will prove that this surface implies a spot price at each point such that, no matter what exchanges are carried out, the share of value of each token in the pool remains constant."
   ]
  },
  {
   "cell_type": "code",
   "execution_count": 5,
   "metadata": {},
   "outputs": [],
   "source": [
    "V_0 = calc_balancer_invariant(x_c, x_l, x_s, w_c, w_l, w_s)"
   ]
  },
  {
   "cell_type": "code",
   "execution_count": 6,
   "metadata": {},
   "outputs": [
    {
     "data": {
      "text/latex": [
       "$\\displaystyle x_{c}^{w_{c}} x_{l}^{w_{l}} x_{s}^{w_{s}}$"
      ],
      "text/plain": [
       "x_c**w_c*x_l**w_l*x_s**w_s"
      ]
     },
     "execution_count": 6,
     "metadata": {},
     "output_type": "execute_result"
    }
   ],
   "source": [
    "V_0"
   ]
  },
  {
   "cell_type": "markdown",
   "metadata": {},
   "source": [
    "The [Balancer whitepaper](https://balancer.finance/whitepaper/) shows that the vaulue function is related to the token spot prices by the ratio of partial derivative.  This is shown below by comparing the partial derivative ratio with the explict expression for the spot price."
   ]
  },
  {
   "cell_type": "code",
   "execution_count": 7,
   "metadata": {},
   "outputs": [
    {
     "data": {
      "text/latex": [
       "$\\displaystyle \\frac{w_{l} x_{c}}{w_{c} x_{l}}$"
      ],
      "text/plain": [
       "w_l*x_c/(w_c*x_l)"
      ]
     },
     "execution_count": 7,
     "metadata": {},
     "output_type": "execute_result"
    }
   ],
   "source": [
    "# Spot price is given by tangent to invariant\n",
    "V_0.diff(x_l)/V_0.diff(x_c)"
   ]
  },
  {
   "cell_type": "code",
   "execution_count": 8,
   "metadata": {},
   "outputs": [
    {
     "data": {
      "text/latex": [
       "$\\displaystyle \\frac{w_{l} x_{c}}{w_{c} x_{l}}$"
      ],
      "text/plain": [
       "w_l*x_c/(w_c*x_l)"
      ]
     },
     "execution_count": 8,
     "metadata": {},
     "output_type": "execute_result"
    }
   ],
   "source": [
    "calc_spot_price(x_c, w_c, x_l, w_l)"
   ]
  },
  {
   "cell_type": "markdown",
   "metadata": {},
   "source": [
    "# Modifying the Invariant\n",
    "Investigate simple modifications to the Balancer invariant such as adding a function, multiplying a function or scaling the inputs by a function, such that we preserve the sum $1L + 1S = \\$C$.\n",
    "\n",
    "(a day later) some further thought about how the constraints work leads to the feeling that this approach may need modification, see section 'Starting from the Constraints' below."
   ]
  },
  {
   "cell_type": "code",
   "execution_count": 9,
   "metadata": {},
   "outputs": [],
   "source": [
    "def sum_of_spots(V):\n",
    "    return V.diff(x_l)/V.diff(x_c) + V.diff(x_s)/V.diff(x_c)"
   ]
  },
  {
   "cell_type": "code",
   "execution_count": 10,
   "metadata": {},
   "outputs": [
    {
     "data": {
      "text/latex": [
       "$\\displaystyle \\frac{w_{l} x_{c}}{w_{c} x_{l}} + \\frac{w_{s} x_{c}}{w_{c} x_{s}}$"
      ],
      "text/plain": [
       "w_l*x_c/(w_c*x_l) + w_s*x_c/(w_c*x_s)"
      ]
     },
     "execution_count": 10,
     "metadata": {},
     "output_type": "execute_result"
    }
   ],
   "source": [
    "sum_of_spots(V_0)"
   ]
  },
  {
   "cell_type": "code",
   "execution_count": 11,
   "metadata": {},
   "outputs": [],
   "source": [
    "f = sp.Function('f')"
   ]
  },
  {
   "cell_type": "markdown",
   "metadata": {},
   "source": [
    "## Add function\n",
    "Try adding a function that only depends on the coin balance first. Solving the sum of position tokens invariant condition requires solving a differential equation."
   ]
  },
  {
   "cell_type": "code",
   "execution_count": 12,
   "metadata": {},
   "outputs": [],
   "source": [
    "f_a = sp.dsolve(sum_of_spots(V_0 + f(x_c)).simplify() - C, f(x_c), ics={f(0): 0})"
   ]
  },
  {
   "cell_type": "code",
   "execution_count": 13,
   "metadata": {},
   "outputs": [
    {
     "data": {
      "text/latex": [
       "$\\displaystyle f{\\left(x_{c} \\right)} = \\frac{x_{c}^{w_{c}} x_{l}^{w_{l} - 1} x_{s}^{w_{s} - 1} \\left(- C w_{c} x_{l} x_{s} - C x_{l} x_{s} + w_{l} x_{c} x_{s} + w_{s} x_{c} x_{l}\\right)}{C \\left(w_{c} + 1\\right)}$"
      ],
      "text/plain": [
       "Eq(f(x_c), x_c**w_c*x_l**(w_l - 1)*x_s**(w_s - 1)*(-C*w_c*x_l*x_s - C*x_l*x_s + w_l*x_c*x_s + w_s*x_c*x_l)/(C*(w_c + 1)))"
      ]
     },
     "execution_count": 13,
     "metadata": {},
     "output_type": "execute_result"
    }
   ],
   "source": [
    "f_a"
   ]
  },
  {
   "cell_type": "code",
   "execution_count": 14,
   "metadata": {},
   "outputs": [
    {
     "data": {
      "text/latex": [
       "$\\displaystyle x_{c}^{w_{c}} x_{l}^{w_{l}} x_{s}^{w_{s}} + \\frac{x_{c}^{w_{c}} x_{l}^{w_{l} - 1} x_{s}^{w_{s} - 1} \\left(- C w_{c} x_{l} x_{s} - C x_{l} x_{s} + w_{l} x_{c} x_{s} + w_{s} x_{c} x_{l}\\right)}{C \\left(w_{c} + 1\\right)}$"
      ],
      "text/plain": [
       "x_c**w_c*x_l**w_l*x_s**w_s + x_c**w_c*x_l**(w_l - 1)*x_s**(w_s - 1)*(-C*w_c*x_l*x_s - C*x_l*x_s + w_l*x_c*x_s + w_s*x_c*x_l)/(C*(w_c + 1))"
      ]
     },
     "execution_count": 14,
     "metadata": {},
     "output_type": "execute_result"
    }
   ],
   "source": [
    "V_0 + f_a.rhs"
   ]
  },
  {
   "cell_type": "code",
   "execution_count": 15,
   "metadata": {},
   "outputs": [
    {
     "data": {
      "text/latex": [
       "$\\displaystyle x_{s}^{w_{s}} \\left(a_{c} + x_{c}\\right)^{w_{c}} \\left(- a_{l} + x_{l}\\right)^{w_{l}} + \\frac{x_{s}^{w_{s} - 1} \\left(a_{c} + x_{c}\\right)^{w_{c}} \\left(- a_{l} + x_{l}\\right)^{w_{l} - 1} \\left(- C w_{c} x_{s} \\left(- a_{l} + x_{l}\\right) - C x_{s} \\left(- a_{l} + x_{l}\\right) + w_{l} x_{s} \\left(a_{c} + x_{c}\\right) + w_{s} \\left(a_{c} + x_{c}\\right) \\left(- a_{l} + x_{l}\\right)\\right)}{C \\left(w_{c} + 1\\right)}$"
      ],
      "text/plain": [
       "x_s**w_s*(a_c + x_c)**w_c*(-a_l + x_l)**w_l + x_s**(w_s - 1)*(a_c + x_c)**w_c*(-a_l + x_l)**(w_l - 1)*(-C*w_c*x_s*(-a_l + x_l) - C*x_s*(-a_l + x_l) + w_l*x_s*(a_c + x_c) + w_s*(a_c + x_c)*(-a_l + x_l))/(C*(w_c + 1))"
      ]
     },
     "execution_count": 15,
     "metadata": {},
     "output_type": "execute_result"
    }
   ],
   "source": [
    "(V_0 + f_a.rhs).subs({x_c: x_c + a_c, x_l: x_l - a_l})"
   ]
  },
  {
   "cell_type": "code",
   "execution_count": 16,
   "metadata": {},
   "outputs": [
    {
     "data": {
      "text/latex": [
       "$\\displaystyle \\frac{C x_{s}^{w_{s}} \\left(w_{c} + 1\\right) \\left(- x_{c}^{w_{c}} x_{l}^{w_{l}} + \\left(a_{c} + x_{c}\\right)^{w_{c}} \\left(- a_{l} + x_{l}\\right)^{w_{l}}\\right) + x_{c}^{w_{c}} x_{l}^{w_{l} - 1} x_{s}^{w_{s} - 1} \\left(C w_{c} x_{l} x_{s} + C x_{l} x_{s} - w_{l} x_{c} x_{s} - w_{s} x_{c} x_{l}\\right) + x_{s}^{w_{s} - 1} \\left(a_{c} + x_{c}\\right)^{w_{c}} \\left(- a_{l} + x_{l}\\right)^{w_{l} - 1} \\left(C w_{c} x_{s} \\left(a_{l} - x_{l}\\right) + C x_{s} \\left(a_{l} - x_{l}\\right) + w_{l} x_{s} \\left(a_{c} + x_{c}\\right) - w_{s} \\left(a_{c} + x_{c}\\right) \\left(a_{l} - x_{l}\\right)\\right)}{C \\left(w_{c} + 1\\right)}$"
      ],
      "text/plain": [
       "(C*x_s**w_s*(w_c + 1)*(-x_c**w_c*x_l**w_l + (a_c + x_c)**w_c*(-a_l + x_l)**w_l) + x_c**w_c*x_l**(w_l - 1)*x_s**(w_s - 1)*(C*w_c*x_l*x_s + C*x_l*x_s - w_l*x_c*x_s - w_s*x_c*x_l) + x_s**(w_s - 1)*(a_c + x_c)**w_c*(-a_l + x_l)**(w_l - 1)*(C*w_c*x_s*(a_l - x_l) + C*x_s*(a_l - x_l) + w_l*x_s*(a_c + x_c) - w_s*(a_c + x_c)*(a_l - x_l)))/(C*(w_c + 1))"
      ]
     },
     "execution_count": 16,
     "metadata": {},
     "output_type": "execute_result"
    }
   ],
   "source": [
    "((V_0 + f_a.rhs).subs({x_c: x_c + a_c, x_l: x_l - a_l}) - (V_0 + f_a.rhs)).simplify()"
   ]
  },
  {
   "cell_type": "code",
   "execution_count": 17,
   "metadata": {},
   "outputs": [],
   "source": [
    "# Solver fails\n",
    "# sp.solve(\n",
    "#     (V_0 + f_a.rhs).subs({x_c: x_c + a_c, x_l: x_l - a_l}) - (V_0 + f_a.rhs),\n",
    "#     a_l\n",
    "# )"
   ]
  },
  {
   "cell_type": "code",
   "execution_count": 18,
   "metadata": {},
   "outputs": [
    {
     "data": {
      "text/latex": [
       "$\\displaystyle - \\frac{C w_{c} x_{c}^{w_{c}} x_{l}^{w_{l}} x_{s}^{w_{s}}}{C w_{c} + C} - \\frac{C x_{c}^{w_{c}} x_{l}^{w_{l}} x_{s}^{w_{s}}}{C w_{c} + C} + \\frac{w_{l} x_{c} x_{c}^{w_{c}} x_{l}^{w_{l}} x_{s}^{w_{s}}}{C w_{c} x_{l} + C x_{l}} + \\frac{w_{s} x_{c} x_{c}^{w_{c}} x_{l}^{w_{l}} x_{s}^{w_{s}}}{C w_{c} x_{s} + C x_{s}}$"
      ],
      "text/plain": [
       "-C*w_c*x_c**w_c*x_l**w_l*x_s**w_s/(C*w_c + C) - C*x_c**w_c*x_l**w_l*x_s**w_s/(C*w_c + C) + w_l*x_c*x_c**w_c*x_l**w_l*x_s**w_s/(C*w_c*x_l + C*x_l) + w_s*x_c*x_c**w_c*x_l**w_l*x_s**w_s/(C*w_c*x_s + C*x_s)"
      ]
     },
     "execution_count": 18,
     "metadata": {},
     "output_type": "execute_result"
    }
   ],
   "source": [
    "f_a.rhs.expand()"
   ]
  },
  {
   "cell_type": "code",
   "execution_count": 19,
   "metadata": {},
   "outputs": [
    {
     "data": {
      "text/latex": [
       "$\\displaystyle - x_{c}^{\\frac{w_{c}}{w_{l}}} x_{l} \\left(a_{c} + x_{c}\\right)^{- \\frac{w_{c}}{w_{l}}} + x_{l}$"
      ],
      "text/plain": [
       "-x_c**(w_c/w_l)*x_l*(a_c + x_c)**(-w_c/w_l) + x_l"
      ]
     },
     "execution_count": 19,
     "metadata": {},
     "output_type": "execute_result"
    }
   ],
   "source": [
    "sp.solve(\n",
    "    V_0.subs({x_c: x_c + a_c, x_l: x_l - a_l}) - V_0,\n",
    "    a_l\n",
    ")[0].simplify()"
   ]
  },
  {
   "cell_type": "markdown",
   "metadata": {},
   "source": [
    "## Multiply function"
   ]
  },
  {
   "cell_type": "code",
   "execution_count": 20,
   "metadata": {},
   "outputs": [],
   "source": [
    "f_m = sp.dsolve(sum_of_spots(V_0 * f(x_c)).simplify() - C, f(x_c))"
   ]
  },
  {
   "cell_type": "code",
   "execution_count": 21,
   "metadata": {},
   "outputs": [
    {
     "data": {
      "text/latex": [
       "$\\displaystyle f{\\left(x_{c} \\right)} = C_{1} x_{c}^{- w_{c}} e^{\\frac{x_{c} \\left(\\frac{w_{l}}{x_{l}} + \\frac{w_{s}}{x_{s}}\\right)}{C}}$"
      ],
      "text/plain": [
       "Eq(f(x_c), C1*x_c**(-w_c)*exp(x_c*(w_l/x_l + w_s/x_s)/C))"
      ]
     },
     "execution_count": 21,
     "metadata": {},
     "output_type": "execute_result"
    }
   ],
   "source": [
    "f_m"
   ]
  },
  {
   "cell_type": "markdown",
   "metadata": {},
   "source": [
    "## Scale coin balance"
   ]
  },
  {
   "cell_type": "code",
   "execution_count": 22,
   "metadata": {},
   "outputs": [],
   "source": [
    "V_1 = calc_balancer_invariant(f(x_c), x_l, x_s, w_c, w_l, w_s)"
   ]
  },
  {
   "cell_type": "code",
   "execution_count": 23,
   "metadata": {},
   "outputs": [],
   "source": [
    "f_c = sp.dsolve(sum_of_spots(V_1).simplify() - C, f(x_c), ics={f(0): 1})"
   ]
  },
  {
   "cell_type": "code",
   "execution_count": 24,
   "metadata": {},
   "outputs": [
    {
     "data": {
      "text/latex": [
       "$\\displaystyle f{\\left(x_{c} \\right)} = e^{\\frac{x_{c} \\left(w_{l} x_{s} + w_{s} x_{l}\\right)}{C w_{c} x_{l} x_{s}}}$"
      ],
      "text/plain": [
       "Eq(f(x_c), exp(x_c*(w_l*x_s + w_s*x_l)/(C*w_c*x_l*x_s)))"
      ]
     },
     "execution_count": 24,
     "metadata": {},
     "output_type": "execute_result"
    }
   ],
   "source": [
    "f_c"
   ]
  },
  {
   "cell_type": "code",
   "execution_count": 25,
   "metadata": {},
   "outputs": [
    {
     "data": {
      "text/latex": [
       "$\\displaystyle \\frac{w_{l} x_{c}}{C w_{c} x_{l}} + \\frac{w_{s} x_{c}}{C w_{c} x_{s}}$"
      ],
      "text/plain": [
       "w_l*x_c/(C*w_c*x_l) + w_s*x_c/(C*w_c*x_s)"
      ]
     },
     "execution_count": 25,
     "metadata": {},
     "output_type": "execute_result"
    }
   ],
   "source": [
    "sp.log(f_c.rhs).expand()"
   ]
  },
  {
   "cell_type": "code",
   "execution_count": 26,
   "metadata": {},
   "outputs": [],
   "source": [
    "# Solver fails\n",
    "# sp.solve(\n",
    "#     V_1.subs({f(x_c): f_c.rhs}).subs({x_c: x_c + a_c, x_l: x_l - a_l}) - V_1.subs({f(x_c): f_c.rhs}),\n",
    "#     a_l\n",
    "# )[0].simplify()"
   ]
  },
  {
   "cell_type": "code",
   "execution_count": 27,
   "metadata": {},
   "outputs": [
    {
     "data": {
      "text/latex": [
       "$\\displaystyle x_{l}^{w_{l}} x_{s}^{w_{s}} e^{\\frac{x_{c} \\left(w_{l} x_{s} + w_{s} x_{l}\\right)}{C x_{l} x_{s}}}$"
      ],
      "text/plain": [
       "x_l**w_l*x_s**w_s*exp(x_c*(w_l*x_s + w_s*x_l)/(C*x_l*x_s))"
      ]
     },
     "execution_count": 27,
     "metadata": {},
     "output_type": "execute_result"
    }
   ],
   "source": [
    "V_1.subs({f(x_c): f_c.rhs})"
   ]
  },
  {
   "cell_type": "markdown",
   "metadata": {},
   "source": [
    "# Starting from the Constraints\n",
    "The idea of constant level sets of a value function creating constraints on system state (including prices) is discussed in ['From Curved Bonding to Configuration Spaces'](https://epub.wu.ac.at/7385/) by Zargham, Shorish, and Paruch (2020).  \n",
    "\n",
    "The previous section started to investigate ways to alter the value function to introduce new constraints. However, some further thought leads to the conclusion that the existing Balancer value function implicit state constraint 'the share of value of each token in the pool remains constant' may conflict with the desired new constraint 'the sum of position token spot prices equals the underlying collateral'.\n",
    "\n",
    "In this section we look at starting from a set of constraints and see if it is possible to derive the corresponding value function.  We can then use this value function to determine allowed state changes e.g. for a swap the number of output tokens for an initial state and given number of input tokens.\n",
    "\n",
    "This approach feels familiar to the Lagrangian dynamics approach in classical physics (the author's background).  In economics the standard approach seems to be start from a value function (a.k.a. utility function) and derive substitution functions that give prices.  Here we attempt to solve the inverse problem."
   ]
  },
  {
   "cell_type": "markdown",
   "metadata": {},
   "source": [
    "As a starting point, we consider deriving the Balancer value function (a [Cobb-Douglas Utility Function](https://www.wikiwand.com/en/Cobb%E2%80%93Douglas_production_function)) from the set of constraints for swaps 'the share of value of each token in the pool remains constant'.  \n",
    "\n",
    "The state of the system can be defined by three token balances $x_c$, $x_l$, $x_s$, and three weights $w_c$, $w_l$, $w_s$, giving 6 variables in total.\n",
    "\n",
    "The share of value constraints on token swaps gives 3 constraints, and we can choose to introduce a further token weight sum to 1 constraint.  This leaves 2 free parameters and by inspection we see that the value function we hope to derive is invariant to scaling of the function (and possibly all parameters).  While this proves nothing it is at least reassuring that we might be on the right track."
   ]
  },
  {
   "cell_type": "code",
   "execution_count": 28,
   "metadata": {},
   "outputs": [],
   "source": [
    "V_b = sp.Function('V')(x_c, x_l, x_s, w_c, w_l, w_s)"
   ]
  },
  {
   "cell_type": "code",
   "execution_count": 29,
   "metadata": {},
   "outputs": [
    {
     "data": {
      "text/latex": [
       "$\\displaystyle \\frac{\\frac{\\partial}{\\partial x_{c}} V{\\left(x_{c},x_{l},x_{s},w_{c},w_{l},w_{s} \\right)}}{\\frac{\\partial}{\\partial x_{l}} V{\\left(x_{c},x_{l},x_{s},w_{c},w_{l},w_{s} \\right)}} = - \\frac{w_{c} x_{l}}{w_{l} x_{c}}$"
      ],
      "text/plain": [
       "Eq(Derivative(V(x_c, x_l, x_s, w_c, w_l, w_s), x_c)/Derivative(V(x_c, x_l, x_s, w_c, w_l, w_s), x_l), -w_c*x_l/(w_l*x_c))"
      ]
     },
     "execution_count": 29,
     "metadata": {},
     "output_type": "execute_result"
    }
   ],
   "source": [
    "sp.Equality(V_b.diff(x_c)/V_b.diff(x_l), -x_l/x_c*w_c/w_l)  # TODO: check signs and ratio direction"
   ]
  },
  {
   "cell_type": "markdown",
   "metadata": {},
   "source": [
    "To do: read [SymPy PDE Solver doc](https://docs.sympy.org/latest/modules/solvers/pde.html) and author to refresh their memory on PDEs.  Multiplicative separable function $X_c(x_c)*X_l(x_l)*X_s(x_s)$ is actual solution with $X_i(x_i) = x_i^{w_i}$ so see if we can find that solution with the SymPy tools."
   ]
  },
  {
   "cell_type": "markdown",
   "metadata": {},
   "source": [
    "Try two asset case first"
   ]
  },
  {
   "cell_type": "code",
   "execution_count": 30,
   "metadata": {},
   "outputs": [],
   "source": [
    "x, y, w_x, w_y = sp.symbols('x y w_x w_y', positive=True)\n",
    "k = sp.symbols('k', real=True)\n",
    "X, Y = map(sp.Function, 'XY')\n",
    "V = sp.Function('V')"
   ]
  },
  {
   "cell_type": "markdown",
   "metadata": {},
   "source": [
    "As an initial check we do separation of variables by hand for the share of value constraint, and check that the solution results in original Coob-Douglas form:"
   ]
  },
  {
   "cell_type": "code",
   "execution_count": 31,
   "metadata": {},
   "outputs": [],
   "source": [
    "X_s = sp.dsolve(X(x).diff() -k/w_y/x*X(x), X(x), ics={X(1): 1}).rhs.simplify()"
   ]
  },
  {
   "cell_type": "code",
   "execution_count": 32,
   "metadata": {},
   "outputs": [],
   "source": [
    "Y_s = sp.dsolve(Y(y).diff() -k/w_x/y*Y(y), Y(y), ics={Y(1): 1}).rhs.simplify()"
   ]
  },
  {
   "cell_type": "code",
   "execution_count": 33,
   "metadata": {},
   "outputs": [
    {
     "data": {
      "text/latex": [
       "$\\displaystyle x^{w_{x}} y^{w_{y}}$"
      ],
      "text/plain": [
       "x**w_x*y**w_y"
      ]
     },
     "execution_count": 33,
     "metadata": {},
     "output_type": "execute_result"
    }
   ],
   "source": [
    "(X_s*Y_s).subs({k: w_x*w_y}).simplify()"
   ]
  },
  {
   "cell_type": "markdown",
   "metadata": {},
   "source": [
    "Satisfied that the approach will work, we then go back to the original equations $x + y\\frac{\\partial{x}}{\\partial{y}} = w_x$, subsitituting $\\frac{\\partial{x}}{\\partial{y}} = \\frac{\\partial{V}}{\\partial{y}}/\\frac{\\partial{V}}{\\partial{x}}$"
   ]
  },
  {
   "cell_type": "code",
   "execution_count": 34,
   "metadata": {},
   "outputs": [
    {
     "data": {
      "text/latex": [
       "$\\displaystyle \\frac{x}{x + \\frac{y \\frac{\\partial}{\\partial y} V{\\left(x,y \\right)}}{\\frac{\\partial}{\\partial x} V{\\left(x,y \\right)}}} = w_{x}$"
      ],
      "text/plain": [
       "Eq(x/(x + y*Derivative(V(x, y), y)/Derivative(V(x, y), x)), w_x)"
      ]
     },
     "execution_count": 34,
     "metadata": {},
     "output_type": "execute_result"
    }
   ],
   "source": [
    "sp.Eq(x/(x + y*V(x,y).diff(y)/V(x,y).diff(x)), w_x)"
   ]
  },
  {
   "cell_type": "markdown",
   "metadata": {},
   "source": [
    "SymPy's PDE solver balks at this equation as written, so multiply through to make things easier."
   ]
  },
  {
   "cell_type": "code",
   "execution_count": 35,
   "metadata": {},
   "outputs": [],
   "source": [
    "const_share_eq = sp.Eq(x*V(x,y).diff(x), w_x*(x*V(x,y).diff(x) + y*V(x,y).diff(y)))"
   ]
  },
  {
   "cell_type": "code",
   "execution_count": 36,
   "metadata": {},
   "outputs": [
    {
     "data": {
      "text/latex": [
       "$\\displaystyle x \\frac{\\partial}{\\partial x} V{\\left(x,y \\right)} = w_{x} \\left(x \\frac{\\partial}{\\partial x} V{\\left(x,y \\right)} + y \\frac{\\partial}{\\partial y} V{\\left(x,y \\right)}\\right)$"
      ],
      "text/plain": [
       "Eq(x*Derivative(V(x, y), x), w_x*(x*Derivative(V(x, y), x) + y*Derivative(V(x, y), y)))"
      ]
     },
     "execution_count": 36,
     "metadata": {},
     "output_type": "execute_result"
    }
   ],
   "source": [
    "const_share_eq"
   ]
  },
  {
   "cell_type": "markdown",
   "metadata": {},
   "source": [
    "We can solve this via separation of variables"
   ]
  },
  {
   "cell_type": "code",
   "execution_count": 37,
   "metadata": {},
   "outputs": [],
   "source": [
    "sep_var_sol = list(map(lambda s: sp.dsolve(s-k), sp.pde_separate(const_share_eq, V(x,y), [X(x), Y(y)])))"
   ]
  },
  {
   "cell_type": "code",
   "execution_count": 38,
   "metadata": {},
   "outputs": [
    {
     "data": {
      "text/latex": [
       "$\\displaystyle X{\\left(x \\right)} = e^{\\frac{C_{1} - k \\log{\\left(x \\right)}}{w_{x} - 1}}$"
      ],
      "text/plain": [
       "Eq(X(x), exp((C1 - k*log(x))/(w_x - 1)))"
      ]
     },
     "execution_count": 38,
     "metadata": {},
     "output_type": "execute_result"
    }
   ],
   "source": [
    "sep_var_sol[0]"
   ]
  },
  {
   "cell_type": "code",
   "execution_count": 39,
   "metadata": {},
   "outputs": [
    {
     "data": {
      "text/latex": [
       "$\\displaystyle Y{\\left(y \\right)} = e^{\\frac{C_{1} + k \\log{\\left(y \\right)}}{w_{x}}}$"
      ],
      "text/plain": [
       "Eq(Y(y), exp((C1 + k*log(y))/w_x))"
      ]
     },
     "execution_count": 39,
     "metadata": {},
     "output_type": "execute_result"
    }
   ],
   "source": [
    "sep_var_sol[1]"
   ]
  },
  {
   "cell_type": "code",
   "execution_count": 40,
   "metadata": {},
   "outputs": [
    {
     "data": {
      "text/latex": [
       "$\\displaystyle e^{\\frac{C_{1} - k \\log{\\left(x \\right)}}{w_{x} - 1} + \\frac{C_{1} + k \\log{\\left(y \\right)}}{w_{x}}}$"
      ],
      "text/plain": [
       "exp((C1 - k*log(x))/(w_x - 1) + (C1 + k*log(y))/w_x)"
      ]
     },
     "execution_count": 40,
     "metadata": {},
     "output_type": "execute_result"
    }
   ],
   "source": [
    "# Multiplying these solutions together doesn't treat the constants C1 correctly\n",
    "# but indicates the final form\n",
    "(sep_var_sol[0].rhs * sep_var_sol[1].rhs).simplify()"
   ]
  },
  {
   "cell_type": "markdown",
   "metadata": {},
   "source": [
    "It turns out that SymPy is capable of solving the PDE directly to give a general solution."
   ]
  },
  {
   "cell_type": "code",
   "execution_count": 41,
   "metadata": {},
   "outputs": [],
   "source": [
    "V_sol = sp.pdsolve(const_share_eq).subs({(1-w_x): w_y})"
   ]
  },
  {
   "cell_type": "code",
   "execution_count": 42,
   "metadata": {},
   "outputs": [
    {
     "data": {
      "text/latex": [
       "$\\displaystyle V{\\left(x,y \\right)} = F{\\left(- \\frac{\\log{\\left(x^{- w_{x}} y^{- w_{y}} \\right)}}{w_{y}} \\right)}$"
      ],
      "text/plain": [
       "Eq(V(x, y), F(-log(x**(-w_x)*y**(-w_y))/w_y))"
      ]
     },
     "execution_count": 42,
     "metadata": {},
     "output_type": "execute_result"
    }
   ],
   "source": [
    "V_sol"
   ]
  },
  {
   "cell_type": "code",
   "execution_count": 43,
   "metadata": {},
   "outputs": [
    {
     "data": {
      "text/latex": [
       "$\\displaystyle F{\\left(\\frac{w_{x} \\log{\\left(x \\right)}}{w_{y}} + \\log{\\left(y \\right)} \\right)}$"
      ],
      "text/plain": [
       "F(w_x*log(x)/w_y + log(y))"
      ]
     },
     "execution_count": 43,
     "metadata": {},
     "output_type": "execute_result"
    }
   ],
   "source": [
    "V_sol.rhs.simplify()"
   ]
  },
  {
   "cell_type": "markdown",
   "metadata": {},
   "source": [
    "We get a solution!  Below we see that the spot price is as expected regardless of the exact form of $F$ and if a specific form is chosen we achieve the desired Cobb-Douglas form.  \n",
    "\n",
    "Interestingly, the general solution offers the opportunity to use different functional forms to achieve the same constant share of value contraint.  "
   ]
  },
  {
   "cell_type": "code",
   "execution_count": 44,
   "metadata": {},
   "outputs": [
    {
     "data": {
      "text/latex": [
       "$\\displaystyle \\frac{w_{y} x}{w_{x} y}$"
      ],
      "text/plain": [
       "w_y*x/(w_x*y)"
      ]
     },
     "execution_count": 44,
     "metadata": {},
     "output_type": "execute_result"
    }
   ],
   "source": [
    "V_sol.rhs.diff(y)/V_sol.rhs.diff(x)"
   ]
  },
  {
   "cell_type": "code",
   "execution_count": 45,
   "metadata": {},
   "outputs": [
    {
     "data": {
      "text/latex": [
       "$\\displaystyle x^{w_{x}} y^{w_{y}}$"
      ],
      "text/plain": [
       "x**w_x*y**w_y"
      ]
     },
     "execution_count": 45,
     "metadata": {},
     "output_type": "execute_result"
    }
   ],
   "source": [
    "sp.exp(w_y*V_sol.rhs.args[0]).simplify()"
   ]
  },
  {
   "cell_type": "code",
   "execution_count": 46,
   "metadata": {},
   "outputs": [
    {
     "data": {
      "text/latex": [
       "$\\displaystyle w_{x} \\log{\\left(x \\right)} + w_{y} \\log{\\left(y \\right)}$"
      ],
      "text/plain": [
       "w_x*log(x) + w_y*log(y)"
      ]
     },
     "execution_count": 46,
     "metadata": {},
     "output_type": "execute_result"
    }
   ],
   "source": [
    "(w_y*V_sol.rhs.args[0]).expand()"
   ]
  },
  {
   "cell_type": "markdown",
   "metadata": {},
   "source": [
    "To do: derive the swap formulae for each form.  Would the formulae from log form of invariant be easier to implement on the Ethererum blockchain? "
   ]
  },
  {
   "cell_type": "code",
   "execution_count": null,
   "metadata": {},
   "outputs": [],
   "source": []
  }
 ],
 "metadata": {
  "kernelspec": {
   "display_name": "Python 3",
   "language": "python",
   "name": "python3"
  },
  "language_info": {
   "codemirror_mode": {
    "name": "ipython",
    "version": 3
   },
   "file_extension": ".py",
   "mimetype": "text/x-python",
   "name": "python",
   "nbconvert_exporter": "python",
   "pygments_lexer": "ipython3",
   "version": "3.7.5"
  }
 },
 "nbformat": 4,
 "nbformat_minor": 4
}
