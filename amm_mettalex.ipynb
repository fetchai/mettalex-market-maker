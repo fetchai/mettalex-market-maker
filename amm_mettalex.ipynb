{
 "cells": [
  {
   "cell_type": "markdown",
   "metadata": {},
   "source": [
    "# Mettalex Autonomous Market Maker\n",
    "Date: 2021-01-07\n",
    "\n",
    "Author: Matt McDonnell, Fetch.ai/Mettalex\n",
    "\n",
    "This notebook describes calcuations used to design an improved version of the Mettalex Autonomous Market Maker (AMM) to provide fair liquidity-sensitive pricing.  We present a new approach using [method of characteristics](https://en.wikipedia.org/wiki/Method_of_characteristics) solutions of partial differential equations (PDEs) to examine existing AMM invariants such as Uniswap, Balancer and Curve (a.k.a. Stableswap).  This approach is then extended to take into account the additional constraints imposed by the Mettalex position token price invariants.\n",
    "\n",
    "Currently the Mettalex system is running on the Ethereum blockchain which has the benefit of allowing reuse of existing DeFi protocols at the expense of some limitations in the allowed efficient mathematical operations. The Mettalex system roadmap plans to transition the autonomous market making functionality to the Fetch.ai network to make use of more advanced optimization techniques. As such the functionality described here should be regarded as an intial version of the AMM that will be extended as more network capabilities become available.\n",
    "\n",
    "The initial version of the Mettalex AMM described in [amm_balancer.ipynb](amm_balancer.ipynb) makes use of a private Balancer Smart Pool internally to provide the functionality of swapping between coin token (USDT intially) and long or short position tokens. The internal Balancer AMM is controlled to set prices of long and short tokens to reflect market demand and constraints on the token prices.\n",
    "\n",
    "The new version of the Mettalex AMM discussed in this notebook builds on the analysis of the previous notebook to propose changes to the Balancer invariant to achieve system constraints."
   ]
  },
  {
   "cell_type": "code",
   "execution_count": 1,
   "metadata": {},
   "outputs": [],
   "source": [
    "# Initial notebook setup: functions are stored in ./calc/amm_math.py \n",
    "%load_ext autoreload\n",
    "%autoreload 2\n",
    "\n",
    "from IPython.display import HTML\n",
    "# Hide code cells https://gist.github.com/uolter/970adfedf44962b47d32347d262fe9be  \n",
    "def hide_code():\n",
    "    return HTML('''<script>\n",
    "    code_show=true; \n",
    "    function code_toggle() {\n",
    "        if (code_show){\n",
    "        $(\"div.input\").hide();\n",
    "        } else {\n",
    "        $(\"div.input\").show();\n",
    "        }\n",
    "    code_show = !code_show\n",
    "    } \n",
    "    $( document ).ready(code_toggle);\n",
    "    </script>\n",
    "    The raw code for this IPython notebook is by default hidden for easier reading.\n",
    "    To toggle on/off the raw code, click <a href=\"javascript:code_toggle()\">here</a>.''')\n",
    "\n",
    "import sys\n",
    "import os\n",
    "sys.path.append(os.path.join(os.getcwd(), 'calc'))\n",
    "\n",
    "from amm_math import (\n",
    "    calc_spot_price, calc_token_balance, calc_out_given_in, calc_in_given_out, \n",
    "    set_amm_state, set_amm_state_rebalance, get_amm_spot_prices, get_amm_balance, \n",
    "    simple_swap_from_coin, simple_swap_to_coin, simulate_swaps_from_coin,\n",
    "    calc_balancer_invariant, mint_redeem, deposit_withdraw, perform_action,\n",
    "    plot_action, plot_action_orderbook, print_state_change, perform_action_sequence\n",
    ")\n",
    "\n",
    "import sympy as sp\n",
    "import matplotlib.pyplot as plt\n",
    "import numpy as np\n",
    "import seaborn as sns\n",
    "\n",
    "%matplotlib inline"
   ]
  },
  {
   "cell_type": "code",
   "execution_count": 2,
   "metadata": {},
   "outputs": [
    {
     "data": {
      "text/html": [
       "<script>\n",
       "    code_show=true; \n",
       "    function code_toggle() {\n",
       "        if (code_show){\n",
       "        $(\"div.input\").hide();\n",
       "        } else {\n",
       "        $(\"div.input\").show();\n",
       "        }\n",
       "    code_show = !code_show\n",
       "    } \n",
       "    $( document ).ready(code_toggle);\n",
       "    </script>\n",
       "    The raw code for this IPython notebook is by default hidden for easier reading.\n",
       "    To toggle on/off the raw code, click <a href=\"javascript:code_toggle()\">here</a>."
      ],
      "text/plain": [
       "<IPython.core.display.HTML object>"
      ]
     },
     "execution_count": 2,
     "metadata": {},
     "output_type": "execute_result"
    }
   ],
   "source": [
    "hide_code()"
   ]
  },
  {
   "cell_type": "code",
   "execution_count": 3,
   "metadata": {},
   "outputs": [],
   "source": [
    "# Weights\n",
    "w_c, w_l, w_s = sp.symbols('w_c w_l w_s', positive=True)\n",
    "# Token balances\n",
    "x_c, x_l, x_s = sp.symbols('x_c x_l x_s', positive=True)\n",
    "# Prices - in units of locked up collateral\n",
    "v = sp.symbols('v', positive=True) \n",
    "# Swap fee in fraction of input tokens\n",
    "s_f = sp.symbols('s_f')\n",
    "# Decimal scaling \n",
    "d_c, d_p = sp.symbols('d_c d_p', positive=True)\n",
    "# Collateral backing L + S \n",
    "# e.g. for $100.000_000_000_000_000_000 = 1.000_000 mt\n",
    "# this is 100*10**18 / 1*10**6 = 10**14\n",
    "C = sp.symbols('C', positive=True)\n",
    "\n",
    "# Input token amounts for swaps\n",
    "a_c, a_l, a_s = sp.symbols('a_c a_l a_s', positive=True)\n",
    "x_m = sp.symbols('x_m')  # Amount of coin tokens used for minting long and short"
   ]
  },
  {
   "cell_type": "markdown",
   "metadata": {},
   "source": [
    "From the [Balancer whitepaper](https://balancer.finance/whitepaper/):\n",
    "\n",
    "> The bedrock of Balancer’s exchange functions is a surface defined by constraining a value function $V$\n",
    " — a function of the pool’s weights and balances — to a constant. We will prove that this surface implies a spot price at each point such that, no matter what exchanges are carried out, the share of value of each token in the pool remains constant."
   ]
  },
  {
   "cell_type": "code",
   "execution_count": 4,
   "metadata": {},
   "outputs": [],
   "source": [
    "V_0 = calc_balancer_invariant(x_c, x_l, x_s, w_c, w_l, w_s)"
   ]
  },
  {
   "cell_type": "code",
   "execution_count": 5,
   "metadata": {},
   "outputs": [
    {
     "data": {
      "text/latex": [
       "$\\displaystyle x_{c}^{w_{c}} x_{l}^{w_{l}} x_{s}^{w_{s}}$"
      ],
      "text/plain": [
       "x_c**w_c*x_l**w_l*x_s**w_s"
      ]
     },
     "execution_count": 5,
     "metadata": {},
     "output_type": "execute_result"
    }
   ],
   "source": [
    "V_0"
   ]
  },
  {
   "cell_type": "markdown",
   "metadata": {},
   "source": [
    "The [Balancer whitepaper](https://balancer.finance/whitepaper/) shows that the value function is related to the token spot prices by the ratio of partial derivative.  This is shown below by comparing the partial derivative ratio with the explict expression for the spot price."
   ]
  },
  {
   "cell_type": "code",
   "execution_count": 6,
   "metadata": {},
   "outputs": [
    {
     "data": {
      "text/latex": [
       "$\\displaystyle \\frac{\\frac{\\partial}{\\partial x_{l}} x_{c}^{w_{c}} x_{l}^{w_{l}} x_{s}^{w_{s}}}{\\frac{\\partial}{\\partial x_{c}} x_{c}^{w_{c}} x_{l}^{w_{l}} x_{s}^{w_{s}}} = \\frac{w_{l} x_{c}}{w_{c} x_{l}}$"
      ],
      "text/plain": [
       "Eq(Derivative(x_c**w_c*x_l**w_l*x_s**w_s, x_l)/Derivative(x_c**w_c*x_l**w_l*x_s**w_s, x_c), w_l*x_c/(w_c*x_l))"
      ]
     },
     "execution_count": 6,
     "metadata": {},
     "output_type": "execute_result"
    }
   ],
   "source": [
    "# Spot price is given by tangent to invariant\n",
    "sp.Eq(sp.Derivative(V_0,x_l)/sp.Derivative(V_0, x_c), V_0.diff(x_l)/V_0.diff(x_c))"
   ]
  },
  {
   "cell_type": "markdown",
   "metadata": {},
   "source": [
    "# Starting from the Constraints\n",
    "The idea of constant level sets of a value function creating constraints on system state (including prices) is discussed in ['From Curved Bonding to Configuration Spaces'](https://epub.wu.ac.at/7385/) by Zargham, Shorish, and Paruch (2020).  \n",
    "\n",
    "The existing Balancer value function implicit state constraint is 'the share of value of each token in the pool remains constant'.  We seek to introduce a new constraint 'the sum of position token spot prices equals the underlying collateral' for Mettalex position tokens.\n",
    "\n",
    "In this section we look at starting from a set of constraints and see if it is possible to derive the corresponding value function.  We can then use this value function to determine allowed state changes e.g. for a swap the number of output tokens for an initial state and given number of input tokens.\n",
    "\n",
    "This approach feels familiar to the Lagrangian dynamics approach in classical physics (the author's background).  In economics the standard approach seems to be start from a value function (a.k.a. utility function) and derive substitution functions that give prices.  Here we attempt to solve the inverse problem."
   ]
  },
  {
   "cell_type": "markdown",
   "metadata": {},
   "source": [
    "As a starting point, we consider deriving the Balancer value function (a [Cobb-Douglas Utility Function](https://www.wikiwand.com/en/Cobb%E2%80%93Douglas_production_function)) from the set of constraints for swaps 'the share of value of each token in the pool remains constant'.  \n",
    "\n",
    "The state of the system can be defined by three token balances $x_c$, $x_l$, $x_s$, and three weights $w_c$, $w_l$, $w_s$, giving 6 variables in total.\n",
    "\n",
    "The share of value constraints on token swaps gives 3 constraints, and we can choose to introduce a further token weight sum to 1 constraint.  This leaves 2 free parameters and by inspection we see that the value function we hope to derive is invariant to scaling of the function (and possibly all parameters).  While this proves nothing it is at least reassuring that we might be on the right track."
   ]
  },
  {
   "cell_type": "markdown",
   "metadata": {},
   "source": [
    "## Uniswap\n",
    "The two asset case is a generalized form of [Uniswap](https://uniswap.org/docs/v2/protocol-overview/how-uniswap-works/) having token weights $w_x$ and $w_y$ summing to 1.  Uniswap uses $w_x = w_y = \\frac{1}{2}$.  Here we use $x$ and $y$ to represent the token X and token Y balances.\n",
    "\n",
    "The total value of the pool in tems of token X is  \n",
    "$$x - \\frac{\\partial{x}}{\\partial{y}}y$$\n",
    "i.e. number of tokens X plus the spot price of converting Y tokens into X tokens.\n",
    "\n",
    "The constant share of value constraint is hence represented by the equations: \n",
    "$$w_x = \\frac{x}{x - \\frac{\\partial{x}}{\\partial{y}}y} \\\\\n",
    "w_y = \\frac{- \\frac{\\partial{x}}{\\partial{y}}y}{x - \\frac{\\partial{x}}{\\partial{y}}y}$$\n",
    "where in the two asset case the second equation is redundant since the weights sum to 1. "
   ]
  },
  {
   "cell_type": "code",
   "execution_count": 7,
   "metadata": {},
   "outputs": [],
   "source": [
    "x, y, w_x, w_y = sp.symbols('x y w_x w_y', positive=True)\n",
    "k = sp.symbols('k', real=True)\n",
    "X, Y = map(sp.Function, 'XY')\n",
    "V = sp.Function('V')"
   ]
  },
  {
   "cell_type": "markdown",
   "metadata": {},
   "source": [
    "We can specify that swaps happen on some invariant surface $V(x,y)$ which allows us to replace the spot price $-\\frac{\\partial{x}}{\\partial{y}}$ in  $x - y\\frac{\\partial{x}}{\\partial{y}} = w_x$, subsitituting $-\\frac{\\partial{x}}{\\partial{y}} = \\frac{\\partial{V}}{\\partial{y}}/\\frac{\\partial{V}}{\\partial{x}}$ via the [implicit function theorem](https://en.wikipedia.org/wiki/Implicit_function_theorem)."
   ]
  },
  {
   "cell_type": "code",
   "execution_count": 8,
   "metadata": {},
   "outputs": [
    {
     "data": {
      "text/latex": [
       "$\\displaystyle \\frac{x}{x + \\frac{y \\frac{\\partial}{\\partial y} V{\\left(x,y \\right)}}{\\frac{\\partial}{\\partial x} V{\\left(x,y \\right)}}} = w_{x}$"
      ],
      "text/plain": [
       "Eq(x/(x + y*Derivative(V(x, y), y)/Derivative(V(x, y), x)), w_x)"
      ]
     },
     "execution_count": 8,
     "metadata": {},
     "output_type": "execute_result"
    }
   ],
   "source": [
    "sp.Eq(x/(x + y*V(x,y).diff(y)/V(x,y).diff(x)), w_x)"
   ]
  },
  {
   "cell_type": "markdown",
   "metadata": {},
   "source": [
    "SymPy's PDE solver balks at this equation as written, so multiply through to make things easier."
   ]
  },
  {
   "cell_type": "code",
   "execution_count": 9,
   "metadata": {},
   "outputs": [],
   "source": [
    "const_share_eq = sp.Eq(x*V(x,y).diff(x), w_x*(x*V(x,y).diff(x) + y*V(x,y).diff(y)))"
   ]
  },
  {
   "cell_type": "code",
   "execution_count": 10,
   "metadata": {},
   "outputs": [
    {
     "data": {
      "text/latex": [
       "$\\displaystyle x \\frac{\\partial}{\\partial x} V{\\left(x,y \\right)} = w_{x} \\left(x \\frac{\\partial}{\\partial x} V{\\left(x,y \\right)} + y \\frac{\\partial}{\\partial y} V{\\left(x,y \\right)}\\right)$"
      ],
      "text/plain": [
       "Eq(x*Derivative(V(x, y), x), w_x*(x*Derivative(V(x, y), x) + y*Derivative(V(x, y), y)))"
      ]
     },
     "execution_count": 10,
     "metadata": {},
     "output_type": "execute_result"
    }
   ],
   "source": [
    "const_share_eq"
   ]
  },
  {
   "cell_type": "markdown",
   "metadata": {},
   "source": [
    "It turns out that SymPy is capable of solving the PDE directly to give a general solution."
   ]
  },
  {
   "cell_type": "code",
   "execution_count": 11,
   "metadata": {},
   "outputs": [],
   "source": [
    "V_sol = sp.pdsolve(const_share_eq).subs({(1-w_x): w_y})"
   ]
  },
  {
   "cell_type": "code",
   "execution_count": 12,
   "metadata": {},
   "outputs": [
    {
     "data": {
      "text/latex": [
       "$\\displaystyle V{\\left(x,y \\right)} = F{\\left(- \\frac{\\log{\\left(x^{- w_{x}} y^{- w_{y}} \\right)}}{w_{y}} \\right)}$"
      ],
      "text/plain": [
       "Eq(V(x, y), F(-log(x**(-w_x)*y**(-w_y))/w_y))"
      ]
     },
     "execution_count": 12,
     "metadata": {},
     "output_type": "execute_result"
    }
   ],
   "source": [
    "V_sol"
   ]
  },
  {
   "cell_type": "markdown",
   "metadata": {},
   "source": [
    "We can simplify the solution:"
   ]
  },
  {
   "cell_type": "code",
   "execution_count": 13,
   "metadata": {},
   "outputs": [
    {
     "data": {
      "text/latex": [
       "$\\displaystyle F{\\left(\\frac{w_{x} \\log{\\left(x \\right)}}{w_{y}} + \\log{\\left(y \\right)} \\right)}$"
      ],
      "text/plain": [
       "F(w_x*log(x)/w_y + log(y))"
      ]
     },
     "execution_count": 13,
     "metadata": {},
     "output_type": "execute_result"
    }
   ],
   "source": [
    "V_sol.rhs.simplify()"
   ]
  },
  {
   "cell_type": "markdown",
   "metadata": {},
   "source": [
    "We show below that the spot price is as expected regardless of the exact form of $F$ and if a specific form is chosen we achieve the desired Cobb-Douglas form.  "
   ]
  },
  {
   "cell_type": "code",
   "execution_count": 14,
   "metadata": {},
   "outputs": [
    {
     "data": {
      "text/latex": [
       "$\\displaystyle \\frac{\\frac{\\partial}{\\partial y} V{\\left(x,y \\right)}}{\\frac{\\partial}{\\partial x} V{\\left(x,y \\right)}} = \\frac{w_{y} x}{w_{x} y}$"
      ],
      "text/plain": [
       "Eq(Derivative(V(x, y), y)/Derivative(V(x, y), x), w_y*x/(w_x*y))"
      ]
     },
     "execution_count": 14,
     "metadata": {},
     "output_type": "execute_result"
    }
   ],
   "source": [
    "sp.Eq((V(x,y).diff(y)/V(x,y).diff(x)), V_sol.rhs.diff(y)/V_sol.rhs.diff(x))"
   ]
  },
  {
   "cell_type": "markdown",
   "metadata": {},
   "source": [
    "By taking the exponential of the constant we obtain the general Uniswap invariant."
   ]
  },
  {
   "cell_type": "code",
   "execution_count": 15,
   "metadata": {},
   "outputs": [
    {
     "data": {
      "text/latex": [
       "$\\displaystyle x^{w_{x}} y^{w_{y}}$"
      ],
      "text/plain": [
       "x**w_x*y**w_y"
      ]
     },
     "execution_count": 15,
     "metadata": {},
     "output_type": "execute_result"
    }
   ],
   "source": [
    "sp.exp(w_y*V_sol.rhs.args[0]).simplify()"
   ]
  },
  {
   "cell_type": "markdown",
   "metadata": {},
   "source": [
    "Interestingly, the general solution offers the opportunity to use different functional forms to achieve the same constant share of value contraint.  "
   ]
  },
  {
   "cell_type": "code",
   "execution_count": 16,
   "metadata": {},
   "outputs": [
    {
     "data": {
      "text/latex": [
       "$\\displaystyle w_{x} \\log{\\left(x \\right)} + w_{y} \\log{\\left(y \\right)}$"
      ],
      "text/plain": [
       "w_x*log(x) + w_y*log(y)"
      ]
     },
     "execution_count": 16,
     "metadata": {},
     "output_type": "execute_result"
    }
   ],
   "source": [
    "(w_y*V_sol.rhs.args[0]).expand()"
   ]
  },
  {
   "cell_type": "markdown",
   "metadata": {},
   "source": [
    "We could derive the swap formulae for each form.  Would the formulae from log form of invariant be easier to implement on the Ethererum blockchain?  This is left as an exercise for the reader."
   ]
  },
  {
   "cell_type": "markdown",
   "metadata": {},
   "source": [
    "## Balancer\n",
    "We now consider the general case of a Balancer pool with $n$ assets and weights summing to 1.  Here we examine the three asset case and identify the geometric constraints imposed by the share of value conditions\n",
    "$$\n",
    "w_x = \\frac{x}{x - \\frac{\\partial{x}}{\\partial{y}}y - \\frac{\\partial{x}}{\\partial{z}}z}\\\\\n",
    "w_y = \\frac{-\\frac{\\partial{x}}{\\partial{y}}y}{x - \\frac{\\partial{x}}{\\partial{y}}y - \\frac{\\partial{x}}{\\partial{z}}z}\\\\\n",
    "w_z = \\frac{-\\frac{\\partial{x}}{\\partial{z}}z}{x - \\frac{\\partial{x}}{\\partial{y}}y - \\frac{\\partial{x}}{\\partial{z}}z}\n",
    "$$\n",
    "for tokens X, Y and Z having total value $x - \\frac{\\partial{x}}{\\partial{y}}y - \\frac{\\partial{x}}{\\partial{z}}z$.\n",
    "\n",
    "As before we can replace the spot prices given by the partial derivatives with expressions for the invariant surface V.  Below we show the $w_x$ condition, the others are similar.  The weight sum to 1 condition again allows us to eliminate one of the constraint equations."
   ]
  },
  {
   "cell_type": "code",
   "execution_count": 17,
   "metadata": {},
   "outputs": [],
   "source": [
    "x, y, z, w_x, w_y, w_z = sp.symbols('x y z w_x w_y w_z', positive=True)\n",
    "u, v, w = sp.symbols('u v w', positive=True)\n",
    "xi = sp.Function('xi')\n",
    "eta = sp.Function('eta')\n",
    "zeta = sp.Function('zeta')\n",
    "V = sp.Function('V')"
   ]
  },
  {
   "cell_type": "code",
   "execution_count": 18,
   "metadata": {},
   "outputs": [],
   "source": [
    "const_share_eq_3_1 = sp.Eq(x*V(x,y,z).diff(x), w_x*(x*V(x,y,z).diff(x) + y*V(x,y,z).diff(y) + z*V(x,y,z).diff(z)))"
   ]
  },
  {
   "cell_type": "code",
   "execution_count": 19,
   "metadata": {},
   "outputs": [
    {
     "data": {
      "text/latex": [
       "$\\displaystyle x \\frac{\\partial}{\\partial x} V{\\left(x,y,z \\right)} = w_{x} \\left(x \\frac{\\partial}{\\partial x} V{\\left(x,y,z \\right)} + y \\frac{\\partial}{\\partial y} V{\\left(x,y,z \\right)} + z \\frac{\\partial}{\\partial z} V{\\left(x,y,z \\right)}\\right)$"
      ],
      "text/plain": [
       "Eq(x*Derivative(V(x, y, z), x), w_x*(x*Derivative(V(x, y, z), x) + y*Derivative(V(x, y, z), y) + z*Derivative(V(x, y, z), z)))"
      ]
     },
     "execution_count": 19,
     "metadata": {},
     "output_type": "execute_result"
    }
   ],
   "source": [
    "const_share_eq_3_1"
   ]
  },
  {
   "cell_type": "markdown",
   "metadata": {},
   "source": [
    "We can simplify this to a constant coefficient first order PDE by the change of variables \n",
    "$$\n",
    "u = \\xi(x) = \\log{x}\\\\\n",
    "v = \\eta(y) = \\log{y}\\\\\n",
    "w = \\zeta(z) = \\log{z}\n",
    "$$"
   ]
  },
  {
   "cell_type": "code",
   "execution_count": 20,
   "metadata": {},
   "outputs": [
    {
     "data": {
      "text/latex": [
       "$\\displaystyle x \\frac{\\partial}{\\partial \\xi{\\left(x \\right)}} V{\\left(\\xi{\\left(x \\right)},\\eta{\\left(y \\right)},\\zeta{\\left(z \\right)} \\right)} \\frac{d}{d x} \\xi{\\left(x \\right)} = w_{x} \\left(x \\frac{\\partial}{\\partial \\xi{\\left(x \\right)}} V{\\left(\\xi{\\left(x \\right)},\\eta{\\left(y \\right)},\\zeta{\\left(z \\right)} \\right)} \\frac{d}{d x} \\xi{\\left(x \\right)} + y \\frac{\\partial}{\\partial \\eta{\\left(y \\right)}} V{\\left(\\xi{\\left(x \\right)},\\eta{\\left(y \\right)},\\zeta{\\left(z \\right)} \\right)} \\frac{d}{d y} \\eta{\\left(y \\right)} + z \\frac{\\partial}{\\partial \\zeta{\\left(z \\right)}} V{\\left(\\xi{\\left(x \\right)},\\eta{\\left(y \\right)},\\zeta{\\left(z \\right)} \\right)} \\frac{d}{d z} \\zeta{\\left(z \\right)}\\right)$"
      ],
      "text/plain": [
       "Eq(x*Derivative(V(xi(x), eta(y), zeta(z)), xi(x))*Derivative(xi(x), x), w_x*(x*Derivative(V(xi(x), eta(y), zeta(z)), xi(x))*Derivative(xi(x), x) + y*Derivative(V(xi(x), eta(y), zeta(z)), eta(y))*Derivative(eta(y), y) + z*Derivative(V(xi(x), eta(y), zeta(z)), zeta(z))*Derivative(zeta(z), z)))"
      ]
     },
     "execution_count": 20,
     "metadata": {},
     "output_type": "execute_result"
    }
   ],
   "source": [
    "const_share_eq_3_1.subs({\n",
    "    V(x,y,z): V(xi(x),eta(y),zeta(z)),\n",
    "}).simplify()"
   ]
  },
  {
   "cell_type": "code",
   "execution_count": 21,
   "metadata": {},
   "outputs": [
    {
     "data": {
      "text/latex": [
       "$\\displaystyle \\left. \\frac{\\partial}{\\partial \\xi_{1}} V{\\left(\\xi_{1},\\log{\\left(y \\right)},\\log{\\left(z \\right)} \\right)} \\right|_{\\substack{ \\xi_{1}=\\log{\\left(x \\right)} }} = w_{x} \\left(\\left. \\frac{\\partial}{\\partial \\xi_{1}} V{\\left(\\xi_{1},\\log{\\left(y \\right)},\\log{\\left(z \\right)} \\right)} \\right|_{\\substack{ \\xi_{1}=\\log{\\left(x \\right)} }} + \\left. \\frac{\\partial}{\\partial \\xi_{2}} V{\\left(\\log{\\left(x \\right)},\\xi_{2},\\log{\\left(z \\right)} \\right)} \\right|_{\\substack{ \\xi_{2}=\\log{\\left(y \\right)} }} + \\left. \\frac{\\partial}{\\partial \\xi_{3}} V{\\left(\\log{\\left(x \\right)},\\log{\\left(y \\right)},\\xi_{3} \\right)} \\right|_{\\substack{ \\xi_{3}=\\log{\\left(z \\right)} }}\\right)$"
      ],
      "text/plain": [
       "Eq(Subs(Derivative(V(_xi_1, log(y), log(z)), _xi_1), _xi_1, log(x)), w_x*(Subs(Derivative(V(_xi_1, log(y), log(z)), _xi_1), _xi_1, log(x)) + Subs(Derivative(V(log(x), _xi_2, log(z)), _xi_2), _xi_2, log(y)) + Subs(Derivative(V(log(x), log(y), _xi_3), _xi_3), _xi_3, log(z))))"
      ]
     },
     "execution_count": 21,
     "metadata": {},
     "output_type": "execute_result"
    }
   ],
   "source": [
    "const_share_eq_3_1.subs({\n",
    "    V(x,y,z): V(xi(x),eta(y),zeta(z)),\n",
    "    xi(x): sp.log(x),\n",
    "    eta(y): sp.log(y), \n",
    "    zeta(z): sp.log(z)\n",
    "}).simplify()"
   ]
  },
  {
   "cell_type": "markdown",
   "metadata": {},
   "source": [
    "The share of value weight constraints can written as a matrix equation:"
   ]
  },
  {
   "cell_type": "code",
   "execution_count": 22,
   "metadata": {},
   "outputs": [],
   "source": [
    "balancer_constraints = sp.ImmutableMatrix([\n",
    "    [1-w_x, -w_x, -w_x],\n",
    "    [-w_y, 1-w_y, -w_y],\n",
    "    [-w_z, -w_z, 1-w_z]\n",
    "])\n",
    "v_grad = sp.ImmutableMatrix([V(u,v,w).diff(i) for i in [u,v,w]])"
   ]
  },
  {
   "cell_type": "code",
   "execution_count": 23,
   "metadata": {},
   "outputs": [
    {
     "data": {
      "text/latex": [
       "$\\displaystyle \\left[\\begin{matrix}1 - w_{x} & - w_{x} & - w_{x}\\\\- w_{y} & 1 - w_{y} & - w_{y}\\\\- w_{z} & - w_{z} & 1 - w_{z}\\end{matrix}\\right] \\left[\\begin{matrix}\\frac{\\partial}{\\partial u} V{\\left(u,v,w \\right)}\\\\\\frac{\\partial}{\\partial v} V{\\left(u,v,w \\right)}\\\\\\frac{\\partial}{\\partial w} V{\\left(u,v,w \\right)}\\end{matrix}\\right] = \\left[\\begin{matrix}- w_{x} \\frac{\\partial}{\\partial v} V{\\left(u,v,w \\right)} - w_{x} \\frac{\\partial}{\\partial w} V{\\left(u,v,w \\right)} + \\left(1 - w_{x}\\right) \\frac{\\partial}{\\partial u} V{\\left(u,v,w \\right)}\\\\- w_{y} \\frac{\\partial}{\\partial u} V{\\left(u,v,w \\right)} - w_{y} \\frac{\\partial}{\\partial w} V{\\left(u,v,w \\right)} + \\left(1 - w_{y}\\right) \\frac{\\partial}{\\partial v} V{\\left(u,v,w \\right)}\\\\- w_{z} \\frac{\\partial}{\\partial u} V{\\left(u,v,w \\right)} - w_{z} \\frac{\\partial}{\\partial v} V{\\left(u,v,w \\right)} + \\left(1 - w_{z}\\right) \\frac{\\partial}{\\partial w} V{\\left(u,v,w \\right)}\\end{matrix}\\right]$"
      ],
      "text/plain": [
       "Eq(Matrix([\n",
       "[1 - w_x,    -w_x,    -w_x],\n",
       "[   -w_y, 1 - w_y,    -w_y],\n",
       "[   -w_z,    -w_z, 1 - w_z]])*Matrix([\n",
       "[Derivative(V(u, v, w), u)],\n",
       "[Derivative(V(u, v, w), v)],\n",
       "[Derivative(V(u, v, w), w)]]), Matrix([\n",
       "[-w_x*Derivative(V(u, v, w), v) - w_x*Derivative(V(u, v, w), w) + (1 - w_x)*Derivative(V(u, v, w), u)],\n",
       "[-w_y*Derivative(V(u, v, w), u) - w_y*Derivative(V(u, v, w), w) + (1 - w_y)*Derivative(V(u, v, w), v)],\n",
       "[-w_z*Derivative(V(u, v, w), u) - w_z*Derivative(V(u, v, w), v) + (1 - w_z)*Derivative(V(u, v, w), w)]]))"
      ]
     },
     "execution_count": 23,
     "metadata": {},
     "output_type": "execute_result"
    }
   ],
   "source": [
    "sp.Eq(sp.MatMul(balancer_constraints, sp.UnevaluatedExpr(v_grad), evaluate=False),\n",
    "      balancer_constraints*v_grad, \n",
    "     evaluate=False)"
   ]
  },
  {
   "cell_type": "markdown",
   "metadata": {},
   "source": [
    "We can use the weights summing to 1 condition to eliminate one of these equations.  The nullspace of the constraint matrix then defines a plane of constant value of the invariant in $u,v,w$ space which we can then map back to the original X, Y, Z token balances."
   ]
  },
  {
   "cell_type": "code",
   "execution_count": 24,
   "metadata": {},
   "outputs": [
    {
     "data": {
      "text/latex": [
       "$\\displaystyle \\left[\\begin{matrix}w_{x} \\log{\\left(x \\right)} + w_{y} \\log{\\left(y \\right)} + w_{z} \\log{\\left(z \\right)}\\end{matrix}\\right]$"
      ],
      "text/plain": [
       "Matrix([[w_x*log(x) + w_y*log(y) + w_z*log(z)]])"
      ]
     },
     "execution_count": 24,
     "metadata": {},
     "output_type": "execute_result"
    }
   ],
   "source": [
    "(sp.simplify(sp.ImmutableMatrix([\n",
    "#     [1-w_x, -w_x, -w_x],\n",
    "    [-w_y, 1-w_y, -w_y],\n",
    "    [-w_z, -w_z, 1-w_z]\n",
    "]).nullspace()[0]).subs({(1-w_y-w_z): w_x})*w_z\n",
    ").T*sp.ImmutableMatrix([sp.log(x), sp.log(y), sp.log(z)])"
   ]
  },
  {
   "cell_type": "markdown",
   "metadata": {},
   "source": [
    "It can be seen by inspection that exponentiating this invariant results in the original Balancer form.  As for the two asset case it is also possible to retain the value function in this form and derive new forms for the trading functions, which is again an exercise left to the reader."
   ]
  },
  {
   "cell_type": "markdown",
   "metadata": {},
   "source": [
    "## Curve \n",
    "Curve uses the [StableSwap](https://www.curve.fi/stableswap-paper.pdf) invariant to reduce slippage for stablecoins all having equivalent value.  For example a pool could consist of USDC, USDT, BUSD and DAI, all of which are designed to track USD.  Pools tracking other assets are possible e.g. a BTC pool backed by sBTC, renBTC, wBTC.  The market maker token pool ideally consists of a balanced mix of each token type.  We consider a two asset pool below, this analysis extends to an arbitrary number of assets.\n",
    "\n",
    "The StableSwap invariant is designed to act as a constant sum market maker $x+y=1$ for small imbalances, and a constant product Uniswap market maker $xy=k$ as the pool becomes more imbalanced.  These are the price constraints defining the system i.e.\n",
    "\n",
    "* at small imbalance $-\\frac{\\partial{x}}{\\partial{y}}=1$ and tokens are freely interchangeable\n",
    "* at larger imbalance $-\\frac{\\partial{x}}{\\partial{y}}=x/y$ as for Uniswap (or in general an equal weight Balancer pool)\n",
    "\n",
    "The StableSwap invariant can be written as $V{\\left(x,y \\right)} = s \\left(x + y\\right) + x^{w_{x}} y^{w_{y}}$ where $s$ is an amplification parameter that determines the transition between constant sum and constant product behaviour.\n"
   ]
  },
  {
   "cell_type": "code",
   "execution_count": 25,
   "metadata": {},
   "outputs": [],
   "source": [
    "s = sp.symbols('s', positive=True)"
   ]
  },
  {
   "cell_type": "code",
   "execution_count": 26,
   "metadata": {},
   "outputs": [],
   "source": [
    "V_ss = s*(x+y) + x**w_x*y**w_y"
   ]
  },
  {
   "cell_type": "code",
   "execution_count": 27,
   "metadata": {},
   "outputs": [
    {
     "data": {
      "text/latex": [
       "$\\displaystyle V{\\left(x,y \\right)} = s \\left(x + y\\right) + x^{w_{x}} y^{w_{y}}$"
      ],
      "text/plain": [
       "Eq(V(x, y), s*(x + y) + x**w_x*y**w_y)"
      ]
     },
     "execution_count": 27,
     "metadata": {},
     "output_type": "execute_result"
    }
   ],
   "source": [
    "sp.Eq(V(x,y), V_ss)"
   ]
  },
  {
   "cell_type": "markdown",
   "metadata": {},
   "source": [
    "Below we show the spot price of Y tokens in terms of X tokens that results from this invariant function.  We can see that the limit $s \\rightarrow \\infty$ gives the constant sum behaviour while the $s \\rightarrow 0$ limit gives constant product behaviour."
   ]
  },
  {
   "cell_type": "code",
   "execution_count": 28,
   "metadata": {},
   "outputs": [
    {
     "data": {
      "text/latex": [
       "$\\displaystyle \\frac{\\frac{\\partial}{\\partial y} V{\\left(x,y \\right)}}{\\frac{\\partial}{\\partial x} V{\\left(x,y \\right)}} = \\frac{s + \\frac{\\sqrt{x}}{2 \\sqrt{y}}}{s + \\frac{\\sqrt{y}}{2 \\sqrt{x}}}$"
      ],
      "text/plain": [
       "Eq(Derivative(V(x, y), y)/Derivative(V(x, y), x), (s + sqrt(x)/(2*sqrt(y)))/(s + sqrt(y)/(2*sqrt(x))))"
      ]
     },
     "execution_count": 28,
     "metadata": {},
     "output_type": "execute_result"
    }
   ],
   "source": [
    "V_x = (V_ss).diff(x).subs({w_x: sp.Rational(1,2), w_y: sp.Rational(1,2)}).simplify()\n",
    "V_y = (V_ss).diff(y).subs({w_x: sp.Rational(1,2), w_y: sp.Rational(1,2)}).simplify()\n",
    "ss_spot = V_y/V_x.simplify()\n",
    "ss_spot_eq = sp.Eq(V(x,y).diff(y)/V(x,y).diff(x), ss_spot)\n",
    "ss_spot_eq\n",
    "# sp.pdsolve(V_x*V(x,y).diff(y) - V_y*V(x,y).diff(x), V(x,y))\n",
    "# sp.pdsolve(V_x*V(x,y).diff(y) - V_y*V(x,y).diff(x), V(x,y))\n",
    "# (V_y/V_x).simplify()\n"
   ]
  },
  {
   "cell_type": "code",
   "execution_count": 29,
   "metadata": {},
   "outputs": [
    {
     "data": {
      "text/latex": [
       "$\\displaystyle \\lim_{s \\to \\infty}\\left(\\frac{s + \\frac{\\sqrt{x}}{2 \\sqrt{y}}}{s + \\frac{\\sqrt{y}}{2 \\sqrt{x}}}\\right) = 1$"
      ],
      "text/plain": [
       "Eq(Limit((s + sqrt(x)/(2*sqrt(y)))/(s + sqrt(y)/(2*sqrt(x))), s, oo, dir='-'), 1)"
      ]
     },
     "execution_count": 29,
     "metadata": {},
     "output_type": "execute_result"
    }
   ],
   "source": [
    "sp.Eq(sp.Limit(ss_spot, s, sp.oo), (ss_spot).limit(s, sp.oo))"
   ]
  },
  {
   "cell_type": "code",
   "execution_count": 30,
   "metadata": {},
   "outputs": [
    {
     "data": {
      "text/latex": [
       "$\\displaystyle \\lim_{s \\to 0^+}\\left(\\frac{s + \\frac{\\sqrt{x}}{2 \\sqrt{y}}}{s + \\frac{\\sqrt{y}}{2 \\sqrt{x}}}\\right) = \\frac{x}{y}$"
      ],
      "text/plain": [
       "Eq(Limit((s + sqrt(x)/(2*sqrt(y)))/(s + sqrt(y)/(2*sqrt(x))), s, 0), x/y)"
      ]
     },
     "execution_count": 30,
     "metadata": {},
     "output_type": "execute_result"
    }
   ],
   "source": [
    "sp.Eq(sp.Limit(ss_spot, s, 0), (ss_spot).limit(s, 0))"
   ]
  },
  {
   "cell_type": "markdown",
   "metadata": {},
   "source": [
    "Following the previous procedure we'd hope to be able to solve the PDE for $V(x,y)$ from the spot price constraint:\n",
    "$$\\left(s + \\frac{\\sqrt{y}}{2 \\sqrt{x}}\\right) \\frac{\\partial}{\\partial y} V{\\left(x,y \\right)} = \\left(s + \\frac{\\sqrt{x}}{2 \\sqrt{y}}\\right) \\frac{\\partial}{\\partial x} V{\\left(x,y \\right)}$$\n",
    "Attempting this with the actual StableSwap spot price above doesn't immediately work although it should be possible to solve numerically.  "
   ]
  },
  {
   "cell_type": "code",
   "execution_count": 31,
   "metadata": {},
   "outputs": [
    {
     "data": {
      "text/latex": [
       "$\\displaystyle \\left(s + \\frac{\\sqrt{y}}{2 \\sqrt{x}}\\right) \\frac{\\partial}{\\partial y} V{\\left(x,y \\right)} = \\left(s + \\frac{\\sqrt{x}}{2 \\sqrt{y}}\\right) \\frac{\\partial}{\\partial x} V{\\left(x,y \\right)}$"
      ],
      "text/plain": [
       "Eq((s + sqrt(y)/(2*sqrt(x)))*Derivative(V(x, y), y), (s + sqrt(x)/(2*sqrt(y)))*Derivative(V(x, y), x))"
      ]
     },
     "execution_count": 31,
     "metadata": {},
     "output_type": "execute_result"
    }
   ],
   "source": [
    "ss_spot_denom = sp.denom(ss_spot_eq.rhs)* sp.denom(ss_spot_eq.lhs)\n",
    "sp.Eq(ss_spot_eq.lhs * ss_spot_denom, ss_spot_eq.rhs * ss_spot_denom)"
   ]
  },
  {
   "cell_type": "markdown",
   "metadata": {},
   "source": [
    "## A new Curve\n",
    "We can look at the form of the PDE from the StableSwap constraint and explore related functional forms.  It looks like the same limiting behaviour could be achieved with any ratio of $x/y$ i.e. without requiring the $\\surd$.  We hence try $$\\left(s x y + y\\right) \\frac{\\partial}{\\partial y} V{\\left(x,y \\right)} = \\left(s x y + x\\right) \\frac{\\partial}{\\partial x} V{\\left(x,y \\right)}$$\n",
    "which is easily solvable by SymPy and results in a new Curve invariant:"
   ]
  },
  {
   "cell_type": "code",
   "execution_count": 32,
   "metadata": {},
   "outputs": [
    {
     "data": {
      "text/latex": [
       "$\\displaystyle V{\\left(x,y \\right)} = s x + s y + \\log{\\left(x \\right)} + \\log{\\left(y \\right)}$"
      ],
      "text/plain": [
       "Eq(V(x, y), s*x + s*y + log(x) + log(y))"
      ]
     },
     "execution_count": 32,
     "metadata": {},
     "output_type": "execute_result"
    }
   ],
   "source": [
    "sol2 = sp.pdsolve((s*x*y + y)*V(x,y).diff(y) - (s*x*y + x)*V(x,y).diff(x), V(x,y)).rhs\n",
    "V_ss_new = sp.log(sol2.args[0]).expand()\n",
    "sp.Eq(V(x,y),V_ss_new)"
   ]
  },
  {
   "cell_type": "markdown",
   "metadata": {},
   "source": [
    "We see that the spot price has the same desired limiting behaviour: "
   ]
  },
  {
   "cell_type": "code",
   "execution_count": 33,
   "metadata": {},
   "outputs": [],
   "source": [
    "ss_spot_new = (V_ss_new.diff(y)/V_ss_new.diff(x)).simplify()"
   ]
  },
  {
   "cell_type": "code",
   "execution_count": 34,
   "metadata": {},
   "outputs": [
    {
     "data": {
      "text/latex": [
       "$\\displaystyle \\frac{x \\left(s y + 1\\right)}{y \\left(s x + 1\\right)}$"
      ],
      "text/plain": [
       "x*(s*y + 1)/(y*(s*x + 1))"
      ]
     },
     "execution_count": 34,
     "metadata": {},
     "output_type": "execute_result"
    }
   ],
   "source": [
    "ss_spot_new"
   ]
  },
  {
   "cell_type": "code",
   "execution_count": 35,
   "metadata": {},
   "outputs": [
    {
     "data": {
      "text/latex": [
       "$\\displaystyle \\lim_{s \\to \\infty}\\left(\\frac{x \\left(s y + 1\\right)}{y \\left(s x + 1\\right)}\\right) = 1$"
      ],
      "text/plain": [
       "Eq(Limit(x*(s*y + 1)/(y*(s*x + 1)), s, oo, dir='-'), 1)"
      ]
     },
     "execution_count": 35,
     "metadata": {},
     "output_type": "execute_result"
    }
   ],
   "source": [
    "sp.Eq(sp.Limit(ss_spot_new, s, sp.oo), (ss_spot_new).limit(s, sp.oo))"
   ]
  },
  {
   "cell_type": "code",
   "execution_count": 36,
   "metadata": {},
   "outputs": [
    {
     "data": {
      "text/latex": [
       "$\\displaystyle \\lim_{s \\to 0^+}\\left(\\frac{x \\left(s y + 1\\right)}{y \\left(s x + 1\\right)}\\right) = \\frac{x}{y}$"
      ],
      "text/plain": [
       "Eq(Limit(x*(s*y + 1)/(y*(s*x + 1)), s, 0), x/y)"
      ]
     },
     "execution_count": 36,
     "metadata": {},
     "output_type": "execute_result"
    }
   ],
   "source": [
    "sp.Eq(sp.Limit(ss_spot_new, s, 0), (ss_spot_new).limit(s, 0))"
   ]
  },
  {
   "cell_type": "markdown",
   "metadata": {},
   "source": [
    "Comparing to the characteristic surfaces obtained for Uniswap and Balancer using this approach, we see that the functional form is quite similar i.e. a plane in $\\log{x}-\\log{y}$ space now with the addition of an exponential surface for the imbalance part.  \n",
    "\n",
    "A nice feature of this new form is the possibility of investigating weighted Curve pools, and this may be useful for introducing the necessary constraints for Mettalex position tokens."
   ]
  },
  {
   "cell_type": "markdown",
   "metadata": {},
   "source": [
    "# Mettalex\n",
    "The Mettalex AMM consists of a pool containing coin (collateral), long and short tokens.  To simplify notation we will use\n",
    "$$x = x_c\\\\y = x_l\\\\z = x_s\n",
    "$$\n",
    "for the token balances and $w_x, w_y, w_z$ for the corresponding weights.  \n",
    "\n",
    "The position tokens track an underlying asset price that is supplied to the AMM by an oracle.  A pair of long and short position tokens is backed by collateral $C$ proportional to the price range of the allowed floor to cap trading band.  Without loss of generality we set $C = p_{cap} - p_{floor}$ and assume a multiplier of 1 here.\n",
    "\n",
    "Within the allowed trading band the fair value of the tokens are \n",
    "$$v_{long} = v C\\\\v_{short}=(1-v) C$$\n",
    "where \n",
    "$$v = \\frac{p_{spot}-p_{floor}}{p_{cap}-p_{floor}}$$"
   ]
  },
  {
   "cell_type": "markdown",
   "metadata": {},
   "source": [
    "We start by modelling the Mettalex AMM as a Balancer pool with dynamic weights, and use spot price $p_y$ in place of $-\\frac{\\partial{x}}{\\partial{y}}$ etc to simplify notation.  The share of weight for each token is then given by\n",
    "$$\n",
    "w_x = \\frac{x}{x + p_y y + p_z z}\\\\\n",
    "w_y = \\frac{p_y y}{x + p_y y + p_z z}\\\\\n",
    "w_z = \\frac{p_z z}{x + p_y y + p_z z}\n",
    "$$\n",
    "We can eliminate the $w_x$ equation via the weight sum constraint, leaving a system of 2 equations and 2 unknowns for the prices."
   ]
  },
  {
   "cell_type": "code",
   "execution_count": 37,
   "metadata": {},
   "outputs": [],
   "source": [
    "p_y, p_z = sp.symbols('p_y p_z', positive=True)"
   ]
  },
  {
   "cell_type": "code",
   "execution_count": 38,
   "metadata": {},
   "outputs": [],
   "source": [
    "pool_total = x + y*p_y + z*p_z\n",
    "price_sum = p_y + p_z\n",
    "prices = sp.solve([p_y*y/pool_total - w_y, p_z*z/pool_total - w_z], [p_y, p_z])"
   ]
  },
  {
   "cell_type": "markdown",
   "metadata": {},
   "source": [
    "The expression of the sum of prices reduces to a simple form, where $w_x = 1 - w_y - w_z$ has been substituted in below."
   ]
  },
  {
   "cell_type": "code",
   "execution_count": 39,
   "metadata": {},
   "outputs": [
    {
     "data": {
      "text/latex": [
       "$\\displaystyle \\frac{x \\left(w_{y} z + w_{z} y\\right)}{w_{x} y z} = C$"
      ],
      "text/plain": [
       "Eq(x*(w_y*z + w_z*y)/(w_x*y*z), C)"
      ]
     },
     "execution_count": 39,
     "metadata": {},
     "output_type": "execute_result"
    }
   ],
   "source": [
    "sp.Eq(price_sum.subs(prices).subs({1-w_y-w_z: w_x}).simplify(), C)"
   ]
  },
  {
   "cell_type": "markdown",
   "metadata": {},
   "source": [
    "We can introduce another equation for the token prices at zero imbalance i.e. at $y=z$ we have \n",
    "$$\n",
    "\\frac{p_y}{p_z} = \\frac{v}{1-v}\n",
    "$$"
   ]
  },
  {
   "cell_type": "code",
   "execution_count": 40,
   "metadata": {},
   "outputs": [
    {
     "data": {
      "text/latex": [
       "$\\displaystyle \\frac{w_{y}}{w_{z}} = \\frac{v}{1 - v}$"
      ],
      "text/plain": [
       "Eq(w_y/w_z, v/(1 - v))"
      ]
     },
     "execution_count": 40,
     "metadata": {},
     "output_type": "execute_result"
    }
   ],
   "source": [
    "sp.Eq((p_y/p_z).subs(prices), v/(1-v)).subs({z: y})"
   ]
  },
  {
   "cell_type": "code",
   "execution_count": 41,
   "metadata": {},
   "outputs": [],
   "source": [
    "w_z_inter = sp.solve(sp.Eq((p_y/p_z).subs(prices), v/(1-v)).subs({z: y}), w_z)[0]"
   ]
  },
  {
   "cell_type": "markdown",
   "metadata": {},
   "source": [
    "We can then solve for $w_y$ and hence for all weights"
   ]
  },
  {
   "cell_type": "code",
   "execution_count": 43,
   "metadata": {},
   "outputs": [],
   "source": [
    "w_y_sol = sp.solve(\n",
    "    sp.Eq(price_sum.subs(prices).subs({w_z: w_z_inter}).simplify(), C), w_y\n",
    ")[0].collect([v,x]).simplify()"
   ]
  },
  {
   "cell_type": "code",
   "execution_count": 44,
   "metadata": {},
   "outputs": [],
   "source": [
    "w_z_sol = w_z_inter.subs({w_y: w_y_sol}).simplify()"
   ]
  },
  {
   "cell_type": "code",
   "execution_count": 46,
   "metadata": {},
   "outputs": [],
   "source": [
    "w_x_sol = (1- w_y_sol - w_z_sol).simplify().collect([v,x])"
   ]
  },
  {
   "cell_type": "markdown",
   "metadata": {},
   "source": [
    "## Balance Sensitive Weights\n",
    "Below we show these Balancer pool weights needed to take into account position token imbalance for a given underlying scaled asset price $v$."
   ]
  },
  {
   "cell_type": "code",
   "execution_count": 47,
   "metadata": {},
   "outputs": [
    {
     "data": {
      "text/latex": [
       "$\\displaystyle w_{x} = \\frac{x \\left(v \\left(y - z\\right) - y\\right)}{- C y z + v \\left(x y - x z\\right) - x y}$"
      ],
      "text/plain": [
       "Eq(w_x, x*(v*(y - z) - y)/(-C*y*z + v*(x*y - x*z) - x*y))"
      ]
     },
     "execution_count": 47,
     "metadata": {},
     "output_type": "execute_result"
    }
   ],
   "source": [
    "sp.Eq(w_x, w_x_sol)"
   ]
  },
  {
   "cell_type": "code",
   "execution_count": 48,
   "metadata": {},
   "outputs": [
    {
     "data": {
      "text/latex": [
       "$\\displaystyle w_{y} = \\frac{C v y z}{C y z - v x \\left(y - z\\right) + x y}$"
      ],
      "text/plain": [
       "Eq(w_y, C*v*y*z/(C*y*z - v*x*(y - z) + x*y))"
      ]
     },
     "execution_count": 48,
     "metadata": {},
     "output_type": "execute_result"
    }
   ],
   "source": [
    "sp.Eq(w_y, w_y_sol)"
   ]
  },
  {
   "cell_type": "code",
   "execution_count": 49,
   "metadata": {},
   "outputs": [
    {
     "data": {
      "text/latex": [
       "$\\displaystyle w_{z} = \\frac{C y z \\left(1 - v\\right)}{C y z - v x \\left(y - z\\right) + x y}$"
      ],
      "text/plain": [
       "Eq(w_z, C*y*z*(1 - v)/(C*y*z - v*x*(y - z) + x*y))"
      ]
     },
     "execution_count": 49,
     "metadata": {},
     "output_type": "execute_result"
    }
   ],
   "source": [
    "sp.Eq(w_z, w_z_sol)"
   ]
  },
  {
   "cell_type": "markdown",
   "metadata": {},
   "source": [
    "### Spot price check\n",
    "For a Balancer pool the spot price of token Y in terms of token X is given by \n",
    "$$\n",
    "p_y = \\frac{\\frac{x}{w_x}}{\\frac{y}{w_y}} = \\frac{w_y}{w_x}\\frac{x}{y}\n",
    "$$\n",
    "as shown in Spot Price section, equation 2 of the [Balancer whitepaper](https://balancer.finance/whitepaper/).\n",
    "\n",
    "We check below that the spot prices for long (Y) and short (Z) tokens at zero imbalance $y = z$ are as expected."
   ]
  },
  {
   "cell_type": "code",
   "execution_count": 50,
   "metadata": {},
   "outputs": [
    {
     "data": {
      "text/latex": [
       "$\\displaystyle \\lim_{z \\to y^+}\\left(- \\frac{C v z}{v \\left(y - z\\right) - y}\\right) = C v$"
      ],
      "text/plain": [
       "Eq(Limit(-C*v*z/(v*(y - z) - y), z, y), C*v)"
      ]
     },
     "execution_count": 50,
     "metadata": {},
     "output_type": "execute_result"
    }
   ],
   "source": [
    "spot_y_limit = sp.Limit((w_y_sol/w_x_sol*x/y).simplify(), z, y)\n",
    "sp.Eq(spot_y_limit, spot_y_limit.simplify())"
   ]
  },
  {
   "cell_type": "code",
   "execution_count": 51,
   "metadata": {},
   "outputs": [
    {
     "data": {
      "text/latex": [
       "$\\displaystyle \\lim_{z \\to y^+}\\left(\\frac{C y \\left(v - 1\\right)}{v \\left(y - z\\right) - y}\\right) = C \\left(1 - v\\right)$"
      ],
      "text/plain": [
       "Eq(Limit(C*y*(v - 1)/(v*(y - z) - y), z, y), C*(1 - v))"
      ]
     },
     "execution_count": 51,
     "metadata": {},
     "output_type": "execute_result"
    }
   ],
   "source": [
    "spot_z_limit = sp.Limit((w_z_sol/w_x_sol*x/z).simplify(), z, y)\n",
    "sp.Eq(spot_z_limit, spot_z_limit.simplify().collect(C))"
   ]
  },
  {
   "cell_type": "markdown",
   "metadata": {},
   "source": [
    "### Comparison with previous version\n",
    "A previous version of the Mettalex AMM used a simpler approach to setting the Balancer pool weights.  The constraints\n",
    "\n",
    "* $w_x + w_y + w_z = 1$ for weights\n",
    "* $\\frac{w_y}{w_x}\\frac{x}{y} = v C$ for long token price\n",
    "* $\\frac{w_z}{w_x}\\frac{x}{z} = (1-v) C$ for short token price\n",
    "\n",
    "can be used to solve for weights that meet an arbitrary price target.  The simple approach taken was to calculate rescaled position token prices after a swap so that the sum of the prices equaled $C$, then calculate the corresponding weights and update the Balancer pool parameters.\n",
    "\n",
    "The original simple weights are shown below."
   ]
  },
  {
   "cell_type": "code",
   "execution_count": 52,
   "metadata": {},
   "outputs": [],
   "source": [
    "_, _, _, w_x_simple, w_y_simple, w_z_simple = set_amm_state(x,y,z,v,C)"
   ]
  },
  {
   "cell_type": "code",
   "execution_count": 53,
   "metadata": {},
   "outputs": [
    {
     "data": {
      "text/latex": [
       "$\\displaystyle w_{x} = \\frac{x}{C v y - C z \\left(v - 1\\right) + x}$"
      ],
      "text/plain": [
       "Eq(w_x, x/(C*v*y - C*z*(v - 1) + x))"
      ]
     },
     "execution_count": 53,
     "metadata": {},
     "output_type": "execute_result"
    }
   ],
   "source": [
    "sp.Eq(w_x, w_x_simple)"
   ]
  },
  {
   "cell_type": "code",
   "execution_count": 54,
   "metadata": {},
   "outputs": [
    {
     "data": {
      "text/latex": [
       "$\\displaystyle w_{y} = \\frac{C v y}{C v y - C z \\left(v - 1\\right) + x}$"
      ],
      "text/plain": [
       "Eq(w_y, C*v*y/(C*v*y - C*z*(v - 1) + x))"
      ]
     },
     "execution_count": 54,
     "metadata": {},
     "output_type": "execute_result"
    }
   ],
   "source": [
    "sp.Eq(w_y, w_y_simple)"
   ]
  },
  {
   "cell_type": "code",
   "execution_count": 55,
   "metadata": {},
   "outputs": [
    {
     "data": {
      "text/latex": [
       "$\\displaystyle w_{z} = - \\frac{C z \\left(v - 1\\right)}{C v y - C z \\left(v - 1\\right) + x}$"
      ],
      "text/plain": [
       "Eq(w_z, -C*z*(v - 1)/(C*v*y - C*z*(v - 1) + x))"
      ]
     },
     "execution_count": 55,
     "metadata": {},
     "output_type": "execute_result"
    }
   ],
   "source": [
    "sp.Eq(w_z, w_z_simple)"
   ]
  },
  {
   "cell_type": "markdown",
   "metadata": {},
   "source": [
    "The drawback of the simple approach is the ad hoc approach to rescaling token prices introduces large changes to the Balancer pool invariant.  It is left as an exercise to the reader to compare the relative weight changes for a given amount swapped between the simple weight calculation and the Balance Sensitive Weights."
   ]
  },
  {
   "cell_type": "markdown",
   "metadata": {},
   "source": [
    "# Future work\n",
    "The above **balance sensitive weights** are sufficient to create a Balancer smart pool that takes into account the imbalance between long and short positions.  It can also respond to underlying asset price updates by reweighting.  \n",
    "Some straight forward algebraic areas of future investigation are:\n",
    "\n",
    "* Weight impact calculation in terms of a given amount of swapped tokens\n",
    "* Comparison between the impact on balance sensitive weights and simple weights as mentioned in previous section\n",
    "* Changing the weights of the pool also changes the Balancer invariant.  We can however mint or redeem pairs of long and short position tokens to maintain the invariant.  Can we solve for the amount to mint or redeem analytically?\n",
    "\n",
    "A more fundamental task would be to use the PDE approach discussed in the bulk of this paper to derive a new invariant function for the Mettalex AMM.  This should just involve solving the expression for $p_y$ in terms of invariant function\n",
    "$$\n",
    "p_y = -\\frac{\\partial{x}}{\\partial{y}} = \\frac{\\frac{\\partial{V}}{\\partial{y}}}{\\frac{\\partial{V}}{\\partial{x}}} = \\frac{vCyz}{x(v(y-z)-y)}\n",
    "$$"
   ]
  },
  {
   "cell_type": "markdown",
   "metadata": {},
   "source": [
    "(work in progress below)"
   ]
  },
  {
   "cell_type": "code",
   "execution_count": 56,
   "metadata": {},
   "outputs": [
    {
     "data": {
      "text/latex": [
       "$\\displaystyle \\frac{C v z}{v \\left(- y + z\\right) + y}$"
      ],
      "text/plain": [
       "C*v*z/(v*(-y + z) + y)"
      ]
     },
     "execution_count": 56,
     "metadata": {},
     "output_type": "execute_result"
    }
   ],
   "source": [
    "prices[p_y].subs({w_y: w_y_sol, w_z: w_z_sol}).simplify().collect(v)"
   ]
  },
  {
   "cell_type": "code",
   "execution_count": 57,
   "metadata": {},
   "outputs": [
    {
     "data": {
      "text/latex": [
       "$\\displaystyle - C \\left(v - 1\\right)$"
      ],
      "text/plain": [
       "-C*(v - 1)"
      ]
     },
     "execution_count": 57,
     "metadata": {},
     "output_type": "execute_result"
    }
   ],
   "source": [
    "(w_z_sol/w_x_sol).subs({y: z}).simplify()*x/z"
   ]
  },
  {
   "cell_type": "code",
   "execution_count": 58,
   "metadata": {},
   "outputs": [
    {
     "data": {
      "text/latex": [
       "$\\displaystyle d_{p} \\left(- \\frac{C v^{2}}{y} + \\frac{C v}{y}\\right) + d_{p}^{2} \\left(\\frac{C v^{3}}{y^{2}} - \\frac{C v^{2}}{y^{2}}\\right) + C v + O\\left(d_{p}^{3}\\right)$"
      ],
      "text/plain": [
       "d_p*(-C*v**2/y + C*v/y) + d_p**2*(C*v**3/y**2 - C*v**2/y**2) + C*v + O(d_p**3)"
      ]
     },
     "execution_count": 58,
     "metadata": {},
     "output_type": "execute_result"
    }
   ],
   "source": [
    "sp.series((w_y_sol/w_x_sol).subs({z: y + d_p}).simplify()*x/y, d_p, n=3)"
   ]
  },
  {
   "cell_type": "code",
   "execution_count": 59,
   "metadata": {},
   "outputs": [
    {
     "data": {
      "text/latex": [
       "$\\displaystyle d_{p}^{2} \\left(\\frac{C v^{3}}{z^{2}} - \\frac{C v^{2}}{z^{2}}\\right) + C v - \\frac{C d_{p} v^{2}}{z} + O\\left(d_{p}^{3}\\right)$"
      ],
      "text/plain": [
       "d_p**2*(C*v**3/z**2 - C*v**2/z**2) + C*v - C*d_p*v**2/z + O(d_p**3)"
      ]
     },
     "execution_count": 59,
     "metadata": {},
     "output_type": "execute_result"
    }
   ],
   "source": [
    "sp.series((w_y_sol/w_x_sol).subs({y: z - d_p}).simplify()*x/z, d_p, n=3)"
   ]
  },
  {
   "cell_type": "code",
   "execution_count": 60,
   "metadata": {},
   "outputs": [
    {
     "data": {
      "text/plain": [
       "[x,\n",
       " y,\n",
       " z,\n",
       " x/(C*v*y - C*z*(v - 1) + x),\n",
       " C*v*y/(C*v*y - C*z*(v - 1) + x),\n",
       " -C*z*(v - 1)/(C*v*y - C*z*(v - 1) + x)]"
      ]
     },
     "execution_count": 60,
     "metadata": {},
     "output_type": "execute_result"
    }
   ],
   "source": [
    "set_amm_state(x,y,z, v, C)"
   ]
  },
  {
   "cell_type": "code",
   "execution_count": null,
   "metadata": {},
   "outputs": [],
   "source": []
  }
 ],
 "metadata": {
  "kernelspec": {
   "display_name": "Python 3",
   "language": "python",
   "name": "python3"
  },
  "language_info": {
   "codemirror_mode": {
    "name": "ipython",
    "version": 3
   },
   "file_extension": ".py",
   "mimetype": "text/x-python",
   "name": "python",
   "nbconvert_exporter": "python",
   "pygments_lexer": "ipython3",
   "version": "3.7.5"
  }
 },
 "nbformat": 4,
 "nbformat_minor": 4
}
