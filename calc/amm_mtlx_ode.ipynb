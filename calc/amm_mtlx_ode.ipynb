{
 "cells": [
  {
   "cell_type": "markdown",
   "id": "efcaa14c",
   "metadata": {},
   "source": [
    "# Mettalex DEX Simulations\n",
    "Date: 2022-06-06\n",
    "\n",
    "Author: Matt McDonnell, Fetch.ai/Mettalex\n",
    "\n",
    "This notebook examines continuous trades on the Mettalex DEX by linearising the state change for a small swap\n",
    "(Balancer swap and reweight) then solving analytically.\n",
    "\n",
    "The bulk of the notebook is work in SymPy to simplify the difference in state before and after a swap to \n",
    "a form that can be linearized.  This can then be used to define ordinary differential equations (ODEs) that can be solved to give explicit forms for the swaps, allowing replacement of the existing Balancer pool implementation of the DEX with an optimized low slippage form."
   ]
  },
  {
   "cell_type": "markdown",
   "id": "04a55d69",
   "metadata": {},
   "source": [
    "The final results for swap equations are shown below: \n",
    "\n",
    "\n",
    "Coin to Long swap: $\\Delta_{l} = \\frac{- v x_{s} + x_{l} \\left(v - 1\\right) + \\left(- v x_{l} + v x_{s} + x_{l}\\right) e^{\\frac{\\Delta_{c} \\left(v - 1\\right)}{C v x_{s}}}}{v - 1}$\n",
    "\n",
    "<!-- \n",
    "Long to Coin swap: $\\Delta_{c} = - \\frac{C v x_{s} \\log{\\left(- \\frac{\\Delta_{l} \\left(v - 1\\right) - v x_{s} + x_{l} \\left(v - 1\\right)}{- v x_{l} + v x_{s} + x_{l}} \\right)}}{v - 1}$\n",
    " -->\n",
    "Coin to Short swap: $\\Delta_{s} = \\left(- v x_{l} + v x_{s} + x_{l} + \\left(v x_{l} - v x_{s} - x_{l}\\right) e^{\\frac{\\Delta_{c} v}{C x_{l} \\left(v - 1\\right)}}\\right) / v$\n",
    "<!-- \n",
    "Short to Coin swap: $\\Delta_{c} = C x_{l} \\left(1 - v\\right) \\log{\\left(\\frac{\\Delta_{s} v - v x_{l} + v x_{s} + x_{l}}{- v x_{l} + v x_{s} + x_{l}} \\right)} / v$\n",
    " -->\n",
    "Long to Short swap: $\\Delta_{s} = x_{s} \\left(1 - e^{\\frac{\\Delta_{l} v}{x_{l} \\left(v - 1\\right)}}\\right)$\n",
    "\n",
    "Short to Long swap: $\\Delta_{l} = x_{l} \\left(1 - e^{\\Delta_{s} \\left(v - 1\\right) / v x_{s}}\\right)$\n",
    "\n",
    "where:\n",
    "* $v$ is the position of the underlying asset price within the trading band, $v=0$ being floor and $v=1$ being cap, * $C$ is the collateral backing a long and short token pair, usually cap minus floor (sometime multiplied by a scaling factor)\n",
    "* $x_c$ is the coin balance in the AMM\n",
    "* $x_l$ is the long token balance in the AMM\n",
    "* $x_s$ is the short token balance in the AMM\n"
   ]
  },
  {
   "cell_type": "code",
   "execution_count": 1,
   "id": "7ecfdb27",
   "metadata": {},
   "outputs": [],
   "source": [
    "%load_ext autoreload\n",
    "%autoreload 2"
   ]
  },
  {
   "cell_type": "code",
   "execution_count": 2,
   "id": "518331a2",
   "metadata": {},
   "outputs": [],
   "source": [
    "from IPython.display import HTML\n",
    "# Hide code cells https://gist.github.com/uolter/970adfedf44962b47d32347d262fe9be  \n",
    "def hide_code():\n",
    "    return HTML('''<script>\n",
    "    code_show=true; \n",
    "    function code_toggle() {\n",
    "        if (code_show){\n",
    "        $(\"div.input\").hide();\n",
    "        } else {\n",
    "        $(\"div.input\").show();\n",
    "        }\n",
    "    code_show = !code_show\n",
    "    } \n",
    "    $( document ).ready(code_toggle);\n",
    "    </script>\n",
    "    The raw code for this IPython notebook is by default hidden for easier reading.\n",
    "    To toggle on/off the raw code, click <a href=\"javascript:code_toggle()\">here</a>.''')"
   ]
  },
  {
   "cell_type": "code",
   "execution_count": 3,
   "id": "83227ec5",
   "metadata": {},
   "outputs": [
    {
     "data": {
      "text/html": [
       "<script>\n",
       "    code_show=true; \n",
       "    function code_toggle() {\n",
       "        if (code_show){\n",
       "        $(\"div.input\").hide();\n",
       "        } else {\n",
       "        $(\"div.input\").show();\n",
       "        }\n",
       "    code_show = !code_show\n",
       "    } \n",
       "    $( document ).ready(code_toggle);\n",
       "    </script>\n",
       "    The raw code for this IPython notebook is by default hidden for easier reading.\n",
       "    To toggle on/off the raw code, click <a href=\"javascript:code_toggle()\">here</a>."
      ],
      "text/plain": [
       "<IPython.core.display.HTML object>"
      ]
     },
     "execution_count": 3,
     "metadata": {},
     "output_type": "execute_result"
    }
   ],
   "source": [
    "hide_code()"
   ]
  },
  {
   "cell_type": "code",
   "execution_count": 4,
   "id": "5fbee34b",
   "metadata": {},
   "outputs": [],
   "source": [
    "import sys\n",
    "import os\n",
    "\n",
    "import sympy as sp\n",
    "from sympy.interactive import printing\n",
    "import matplotlib.pyplot as plt\n",
    "import numpy as np\n",
    "import pandas as pd\n",
    "import seaborn as sns\n",
    "\n",
    "import ipywidgets as widgets\n",
    "from ipywidgets import interact, interactive, interactive_output\n",
    "from IPython import display\n",
    "\n",
    "from tqdm.notebook import trange, tqdm"
   ]
  },
  {
   "cell_type": "code",
   "execution_count": 5,
   "id": "0483b602",
   "metadata": {},
   "outputs": [],
   "source": [
    "from amm import (\n",
    "    default_simple_setup, default_compound_setup, simple_sim, default_compund_setup_2, \n",
    "    Simulation, AMM, UniswapPool, CompoundAmm, define_uniswap_deposit_single\n",
    ")"
   ]
  },
  {
   "cell_type": "code",
   "execution_count": 6,
   "id": "8bcffba4",
   "metadata": {},
   "outputs": [],
   "source": [
    "import diffrax\n",
    "import jax\n",
    "import jax.numpy as jnp"
   ]
  },
  {
   "cell_type": "code",
   "execution_count": 7,
   "id": "7c7d2875",
   "metadata": {},
   "outputs": [],
   "source": [
    "printing.init_printing(use_latex=True)"
   ]
  },
  {
   "cell_type": "code",
   "execution_count": 8,
   "id": "665fafa4",
   "metadata": {},
   "outputs": [],
   "source": [
    "x_c, x_l, x_s, w_c, w_l, w_s, v, C = sp.symbols(\n",
    "    'x_c x_l x_s w_c w_l w_s v C', positive=True\n",
    ")"
   ]
  },
  {
   "cell_type": "code",
   "execution_count": 9,
   "id": "fe32b39b",
   "metadata": {},
   "outputs": [],
   "source": [
    "x_p, x_d = sp.symbols('x_p x_d', positive=True)"
   ]
  },
  {
   "cell_type": "code",
   "execution_count": 10,
   "id": "fdf33872",
   "metadata": {},
   "outputs": [],
   "source": [
    "p_l_s, p_s_s = sp.symbols('p_l p_s', positive=True)"
   ]
  },
  {
   "cell_type": "markdown",
   "id": "5bd5b7e1",
   "metadata": {},
   "source": [
    "# What is Mettalex?\n",
    "Mettalex is a DeFi system consisting of:\n",
    "\n",
    "* an underlying asset for which linear exposure to price movements is desired, both long and short.  This is represented by pairs of long and short position tokens acting as delta-1 derivatives. \n",
    "* a vault that locks collateral backing a pair of position tokens\n",
    "* an autonomous market maker (AMM) that allows position tokens to be bought and sold at fair value based on the underlying asset price, depending on sentiment and liquidity.\n",
    "\n"
   ]
  },
  {
   "cell_type": "markdown",
   "id": "7a699d82",
   "metadata": {},
   "source": [
    "The initial implementation of Mettalex uses the existing Balancer smart contracts to implement the AMM.  This is done by using a private Balancer pool for coin, long and short tokens.\n",
    "\n",
    "The pool weights are adjusted to keep the sum of long and short token prices equal to the collateral backing the long and short pair.  For technical reasons this requires extra components from the Yearn ecosystem to supply liquidity to the AMM and update weights in response to trades or changes in the underlying asset price.\n",
    "\n",
    "The Balancer pool gives desired behaviour for small trades however the swap-reweight mechanism results in slippage for large trades.  The mechanism is also computationally intensive and hence incurrs larger gas fees than is desirable.  \n",
    "\n",
    "An improvement of the Mettalex system would be to develop an AMM designed specifically for the use with position token pairs including the price constraints.  "
   ]
  },
  {
   "cell_type": "markdown",
   "id": "c2147259",
   "metadata": {},
   "source": [
    "## Value of AMM token balance\n",
    "Below we show the overall balance of the AMM for $x_c$ coin, $x_p$ pairs of long and short tokens, and excess (or lack) of short tokens $x_d$.\n",
    "\n",
    "We see that the \"safe\" balance of the AMM consists of $x_c$ and $C$ times the number of token pairs, where C is the collateral backing each pair.  The difference amount $x_d$ represents market risk taken on by the AMM as the value of the this component will change as the underlying asset price changes.  It is expected that overall there will be balanced trading volumes so on average $x_d \\rightarrow 0$."
   ]
  },
  {
   "cell_type": "code",
   "execution_count": 11,
   "id": "c686b4f7",
   "metadata": {},
   "outputs": [],
   "source": [
    "amm_sym = default_simple_setup(x_c, x_p, x_p + x_d, v, C)\n",
    "amm_sym.cumulative_tokens = [C*x_d*v, -x_d, 0] "
   ]
  },
  {
   "cell_type": "code",
   "execution_count": 12,
   "id": "21468686",
   "metadata": {},
   "outputs": [
    {
     "data": {
      "text/plain": [
       "AMM Balance: (C*x_d*x_p + C*x_p**2 + v*x_c*x_d + x_c*x_p)/(v*x_d + x_p)\n",
       " = C*x_p + x_c (safe) + C*x_d*x_p*(1 - v)/(v*x_d + x_p) (risk)\n",
       " = x_c coin\n",
       "    + x_p long @ price C*v*(x_d + x_p)/(v*x_d + x_p)\n",
       "      (value C*v*x_p*(x_d + x_p)/(v*x_d + x_p))\n",
       "    + x_d + x_p short @ price C*x_p*(1 - v)/(v*x_d + x_p)\n",
       "      (value C*x_p*(-v*x_d - v*x_p + x_d + x_p)/(v*x_d + x_p))\n",
       "  Cumulative Trades:  Assets C*v*x_d  Maximum Liabilities C*x_d\n",
       "  Trade Equity: C*v*x_d - C*x_d\n",
       "  LP Token Price: 1"
      ]
     },
     "execution_count": 12,
     "metadata": {},
     "output_type": "execute_result"
    }
   ],
   "source": [
    "amm_sym"
   ]
  },
  {
   "cell_type": "markdown",
   "id": "df35d9cd",
   "metadata": {},
   "source": [
    "## General state of AMM and response to swaps\n",
    "Below we show the initial state of the AMM for balance of $x_c$ coin, $x_l$ long position token, $x_s$ short position token, $C$ coins backing a position token pair, and the underlying asset price lying fraction $v$ in the range between band floor and cap."
   ]
  },
  {
   "cell_type": "code",
   "execution_count": 13,
   "id": "33ba4654",
   "metadata": {},
   "outputs": [
    {
     "data": {
      "text/plain": [
       "AMM Balance: (C*x_l*x_s - v*x_c*x_l + v*x_c*x_s + x_c*x_l)/(-v*x_l + v*x_s + x_l)\n",
       " = C*x_l + x_c (safe) + C*x_l*(-v*x_l + v*x_s + x_l - x_s)/(v*x_l - v*x_s - x_l) (risk)\n",
       " = x_c coin\n",
       "    + x_l long @ price C*v*x_s/(-v*x_l + v*x_s + x_l)\n",
       "      (value C*v*x_l*x_s/(-v*x_l + v*x_s + x_l))\n",
       "    + x_s short @ price C*x_l*(v - 1)/(v*x_l - v*x_s - x_l)\n",
       "      (value C*x_l*x_s*(v - 1)/(v*x_l - v*x_s - x_l))\n",
       "  Cumulative Trades:  Assets 0  Maximum Liabilities 0\n",
       "  Trade Equity: 0\n",
       "  LP Token Price: 1"
      ]
     },
     "execution_count": 13,
     "metadata": {},
     "output_type": "execute_result"
    }
   ],
   "source": [
    "amm0 = default_simple_setup(x_c, x_l, x_s, v, C)\n",
    "# amm0.cumulative_tokens = [sp.Integer(0), sp.Integer(0), sp.Integer(0)] \n",
    "amm0"
   ]
  },
  {
   "cell_type": "markdown",
   "id": "035c8bbc",
   "metadata": {},
   "source": [
    "We see that the spot price of the long and short tokens is always equal to the underlying collateral $C$.  We also see that at when long and short token balances are equal the prices are in line with fair value."
   ]
  },
  {
   "cell_type": "code",
   "execution_count": 14,
   "id": "047a132e",
   "metadata": {},
   "outputs": [
    {
     "data": {
      "image/png": "[encoded data removed]",
      "text/latex": [
       "$\\displaystyle p_{l} = \\frac{C v x_{s}}{- v x_{l} + v x_{s} + x_{l}}$"
      ],
      "text/plain": [
       "           C⋅v⋅xₛ     \n",
       "pₗ = ─────────────────\n",
       "     -v⋅xₗ + v⋅xₛ + xₗ"
      ]
     },
     "execution_count": 14,
     "metadata": {},
     "output_type": "execute_result"
    }
   ],
   "source": [
    "eqn_spot_long = sp.Eq(p_l_s, amm0.spot_price('long'))\n",
    "eqn_spot_long"
   ]
  },
  {
   "cell_type": "code",
   "execution_count": 15,
   "id": "2553b707",
   "metadata": {},
   "outputs": [
    {
     "data": {
      "image/png": "[encoded data removed]",
      "text/latex": [
       "$\\displaystyle p_{s} = \\frac{C x_{l} \\left(v - 1\\right)}{v x_{l} - v x_{s} - x_{l}}$"
      ],
      "text/plain": [
       "       C⋅xₗ⋅(v - 1)  \n",
       "pₛ = ────────────────\n",
       "     v⋅xₗ - v⋅xₛ - xₗ"
      ]
     },
     "execution_count": 15,
     "metadata": {},
     "output_type": "execute_result"
    }
   ],
   "source": [
    "eqn_spot_short = sp.Eq(p_s_s, amm0.spot_price('short')).simplify()\n",
    "eqn_spot_short"
   ]
  },
  {
   "cell_type": "code",
   "execution_count": 16,
   "id": "76bfaaa0",
   "metadata": {},
   "outputs": [
    {
     "data": {
      "image/png": "[encoded data removed]",
      "text/latex": [
       "$\\displaystyle p_{l} + p_{s} = C$"
      ],
      "text/plain": [
       "pₗ + pₛ = C"
      ]
     },
     "execution_count": 16,
     "metadata": {},
     "output_type": "execute_result"
    }
   ],
   "source": [
    "eqn_spot_sum = sp.Eq(\n",
    "    p_l_s + p_s_s, \n",
    "    (amm0.spot_price('long') + amm0.spot_price('short')).simplify())\n",
    "eqn_spot_sum"
   ]
  },
  {
   "cell_type": "code",
   "execution_count": 17,
   "id": "49b1d913",
   "metadata": {},
   "outputs": [
    {
     "data": {
      "image/png": "[encoded data removed]",
      "text/latex": [
       "$\\displaystyle \\lim_{x_{l} \\to x_{s}^+} p_{l} = C v$"
      ],
      "text/plain": [
       "  lim  pₗ = C⋅v\n",
       "xₗ─→xₛ⁺        "
      ]
     },
     "execution_count": 17,
     "metadata": {},
     "output_type": "execute_result"
    }
   ],
   "source": [
    "eqn_spot_long_limit = sp.Eq(\n",
    "    sp.Limit(p_l_s, x_l, x_s), amm0.spot_price('long').subs({x_s: x_l}).simplify())\n",
    "eqn_spot_long_limit"
   ]
  },
  {
   "cell_type": "code",
   "execution_count": 18,
   "id": "ac9b828c",
   "metadata": {},
   "outputs": [
    {
     "data": {
      "image/png": "[encoded data removed]",
      "text/latex": [
       "$\\displaystyle \\lim_{x_{l} \\to x_{s}^+} p_{s} = C \\left(1 - v\\right)$"
      ],
      "text/plain": [
       "  lim  pₛ = C⋅(1 - v)\n",
       "xₗ─→xₛ⁺              "
      ]
     },
     "execution_count": 18,
     "metadata": {},
     "output_type": "execute_result"
    }
   ],
   "source": [
    "eqn_spot_short_limit = sp.Eq(\n",
    "    sp.Limit(p_s_s, x_l, x_s), amm0.spot_price('short').subs({x_s: x_l}).simplify())\n",
    "eqn_spot_short_limit"
   ]
  },
  {
   "cell_type": "code",
   "execution_count": 19,
   "id": "d5f75970",
   "metadata": {},
   "outputs": [],
   "source": [
    "# print(sp.latex(eqn_spot_long, mode='inline'))"
   ]
  },
  {
   "cell_type": "markdown",
   "id": "84415d65",
   "metadata": {},
   "source": [
    "### Balancer Pool Weights\n",
    "The prices are achieved by dynamically adjusting the Balancer pool weights in response to trades or moves in the underlying asset price.  Below we show the equations for the weights."
   ]
  },
  {
   "cell_type": "code",
   "execution_count": 20,
   "id": "85843529",
   "metadata": {},
   "outputs": [
    {
     "data": {
      "image/png": "[encoded data removed]",
      "text/latex": [
       "$\\displaystyle \\Delta = C x_{l} x_{s} - v x_{c} x_{l} + v x_{c} x_{s} + x_{c} x_{l}$"
      ],
      "text/plain": [
       "Δ = C⋅xₗ⋅xₛ - v⋅x_c⋅xₗ + v⋅x_c⋅xₛ + x_c⋅xₗ"
      ]
     },
     "execution_count": 20,
     "metadata": {},
     "output_type": "execute_result"
    }
   ],
   "source": [
    "d_w = sp.denom(amm0.weights[0])\n",
    "d_w_s = sp.symbols('Delta')\n",
    "eqn_balancer_weight_denom = sp.Eq(d_w_s, d_w)\n",
    "eqn_balancer_weight_denom"
   ]
  },
  {
   "cell_type": "code",
   "execution_count": 21,
   "id": "6f0dbce2",
   "metadata": {},
   "outputs": [],
   "source": [
    "eqn_balancer_coin_wt_numer, eqn_balancer_long_wt_numer, eqn_balancer_short_wt_numer = [\n",
    "    sp.Eq(w_sym, (w*d_w).simplify().collect([x_c, x_l, x_s])/d_w_s) \n",
    "    for w_sym, w in zip([w_c, w_l, w_s], amm0.weights)]"
   ]
  },
  {
   "cell_type": "code",
   "execution_count": 22,
   "id": "7d6eb0ff",
   "metadata": {},
   "outputs": [
    {
     "data": {
      "image/png": "[encoded data removed]",
      "text/latex": [
       "$\\displaystyle w_{c} = \\frac{x_{c} \\left(v x_{s} + x_{l} \\left(1 - v\\right)\\right)}{\\Delta}$"
      ],
      "text/plain": [
       "      x_c⋅(v⋅xₛ + xₗ⋅(1 - v))\n",
       "w_c = ───────────────────────\n",
       "                 Δ           "
      ]
     },
     "execution_count": 22,
     "metadata": {},
     "output_type": "execute_result"
    }
   ],
   "source": [
    "eqn_balancer_coin_wt_numer"
   ]
  },
  {
   "cell_type": "code",
   "execution_count": 23,
   "id": "17d14228",
   "metadata": {},
   "outputs": [
    {
     "data": {
      "image/png": "[encoded data removed]",
      "text/latex": [
       "$\\displaystyle w_{l} = \\frac{C v x_{l} x_{s}}{\\Delta}$"
      ],
      "text/plain": [
       "     C⋅v⋅xₗ⋅xₛ\n",
       "wₗ = ─────────\n",
       "         Δ    "
      ]
     },
     "execution_count": 23,
     "metadata": {},
     "output_type": "execute_result"
    }
   ],
   "source": [
    "eqn_balancer_long_wt_numer"
   ]
  },
  {
   "cell_type": "code",
   "execution_count": 24,
   "id": "e44354ff",
   "metadata": {},
   "outputs": [
    {
     "data": {
      "image/png": "[encoded data removed]",
      "text/latex": [
       "$\\displaystyle w_{s} = \\frac{C x_{l} x_{s} \\left(1 - v\\right)}{\\Delta}$"
      ],
      "text/plain": [
       "     C⋅xₗ⋅xₛ⋅(1 - v)\n",
       "wₛ = ───────────────\n",
       "            Δ       "
      ]
     },
     "execution_count": 24,
     "metadata": {},
     "output_type": "execute_result"
    }
   ],
   "source": [
    "eqn_balancer_short_wt_numer"
   ]
  },
  {
   "cell_type": "markdown",
   "id": "5d59ccf4",
   "metadata": {},
   "source": [
    "### Effect of trades on token balances and weights\n",
    "The section below looks at how the token balances and weights change after swap-reweight operation"
   ]
  },
  {
   "cell_type": "markdown",
   "id": "fd0646c6",
   "metadata": {},
   "source": [
    "Comparison with present implementation of same total trade size split multiple trades to do rebalancing "
   ]
  },
  {
   "cell_type": "code",
   "execution_count": 25,
   "id": "847af039",
   "metadata": {},
   "outputs": [
    {
     "data": {
      "text/plain": [
       "AMM Balance: 109527.24\n",
       " = 101040.11 (safe) + 8487.13 (risk)\n",
       " = 20000.00 coin + 810.40 long @ 55.24 (44763.62) + 1000.00 short @ 44.76 (44763.62)\n",
       "  Cumulative Trades:  Assets 10000.00  Maximum Liabilities 18959.89\n",
       "  Trade Equity: -8959.89\n",
       "  LP Token Price: 1.00"
      ]
     },
     "execution_count": 25,
     "metadata": {},
     "output_type": "execute_result"
    }
   ],
   "source": [
    "amm_n = default_simple_setup()\n",
    "n_trades = 100\n",
    "total_traded = 10000.\n",
    "for i in range(n_trades):\n",
    "    _ = amm_n.swap('coin', total_traded/n_trades, 'long')\n",
    "amm_n"
   ]
  },
  {
   "cell_type": "markdown",
   "id": "7c7b5419",
   "metadata": {},
   "source": [
    "# Position Token Price Changes\n",
    "We can actually work with the expressions for the position token spot prices directly by differentiating\n",
    "with respect to the asset price $v$.  This gives: "
   ]
  },
  {
   "cell_type": "code",
   "execution_count": 26,
   "id": "f01fd5d6",
   "metadata": {},
   "outputs": [
    {
     "data": {
      "image/png": "[encoded data removed]",
      "text/latex": [
       "$\\displaystyle \\frac{d}{d v} \\operatorname{p_{l}}{\\left(v \\right)} = \\frac{C x_{l} x_{s}}{\\left(- v x_{l} + v x_{s} + x_{l}\\right)^{2}}$"
      ],
      "text/plain": [
       "d                 C⋅xₗ⋅xₛ       \n",
       "──(pₗ(v)) = ────────────────────\n",
       "dv                             2\n",
       "            (-v⋅xₗ + v⋅xₛ + xₗ) "
      ]
     },
     "execution_count": 26,
     "metadata": {},
     "output_type": "execute_result"
    }
   ],
   "source": [
    "eqn_spot_long_deriv = sp.Eq(\n",
    "    sp.UnevaluatedExpr(sp.Function('p_l')(v).diff(v)), \n",
    "    amm0.spot_price('long').diff(v).simplify())\n",
    "eqn_spot_long_deriv"
   ]
  },
  {
   "cell_type": "code",
   "execution_count": 27,
   "id": "ecce3261",
   "metadata": {},
   "outputs": [
    {
     "data": {
      "image/png": "[encoded data removed]",
      "text/latex": [
       "$\\displaystyle \\frac{d}{d v} \\operatorname{p_{s}}{\\left(v \\right)} = - \\frac{C x_{l} x_{s}}{\\left(- v x_{l} + v x_{s} + x_{l}\\right)^{2}}$"
      ],
      "text/plain": [
       "d                -C⋅xₗ⋅xₛ       \n",
       "──(pₛ(v)) = ────────────────────\n",
       "dv                             2\n",
       "            (-v⋅xₗ + v⋅xₛ + xₗ) "
      ]
     },
     "execution_count": 27,
     "metadata": {},
     "output_type": "execute_result"
    }
   ],
   "source": [
    "eqn_spot_short_deriv = sp.Eq(\n",
    "    sp.UnevaluatedExpr(sp.Function('p_s')(v).diff(v)), \n",
    "    amm0.spot_price('short').diff(v).simplify())\n",
    "eqn_spot_short_deriv"
   ]
  },
  {
   "cell_type": "markdown",
   "id": "b78a6605",
   "metadata": {},
   "source": [
    "In the limit of equal long and short position tokens this leads to the desired linear dependence of spot price change with respect to the underlying asset price:"
   ]
  },
  {
   "cell_type": "code",
   "execution_count": 28,
   "id": "7724d552",
   "metadata": {},
   "outputs": [
    {
     "data": {
      "image/png": "[encoded data removed]",
      "text/latex": [
       "$\\displaystyle \\lim_{x_{l} \\to x_{s}^+} \\frac{d}{d v} \\operatorname{p_{l}}{\\left(v \\right)} = C$"
      ],
      "text/plain": [
       "       d            \n",
       "  lim  ──(pₗ(v)) = C\n",
       "xₗ─→xₛ⁺dv           "
      ]
     },
     "execution_count": 28,
     "metadata": {},
     "output_type": "execute_result"
    }
   ],
   "source": [
    "eqn_spot_long_deriv_limit = sp.Eq(\n",
    "    sp.Limit(sp.UnevaluatedExpr(sp.Function('p_l')(v).diff(v)), x_l, x_s), \n",
    "    amm0.spot_price('long').diff(v).subs({x_l: x_s}).simplify())\n",
    "eqn_spot_long_deriv_limit"
   ]
  },
  {
   "cell_type": "code",
   "execution_count": 29,
   "id": "56739bb3",
   "metadata": {},
   "outputs": [
    {
     "data": {
      "image/png": "[encoded data removed]",
      "text/latex": [
       "$\\displaystyle \\lim_{x_{l} \\to x_{s}^+} \\frac{d}{d v} \\operatorname{p_{s}}{\\left(v \\right)} = - C$"
      ],
      "text/plain": [
       "       d             \n",
       "  lim  ──(pₛ(v)) = -C\n",
       "xₗ─→xₛ⁺dv            "
      ]
     },
     "execution_count": 29,
     "metadata": {},
     "output_type": "execute_result"
    }
   ],
   "source": [
    "eqn_spot_short_deriv_limit = sp.Eq(\n",
    "    sp.Limit(sp.UnevaluatedExpr(sp.Function('p_s')(v).diff(v)), x_l, x_s),\n",
    "    amm0.spot_price('short').diff(v).subs({x_l: x_s}).simplify())\n",
    "eqn_spot_short_deriv_limit"
   ]
  },
  {
   "cell_type": "markdown",
   "id": "e86024a9",
   "metadata": {},
   "source": [
    "We can simplify the general form of the spot price derivatives above by introducing a scaling parameter $a$ for the short token balance, $a=1$ corresponds to equal long and short token balances."
   ]
  },
  {
   "cell_type": "code",
   "execution_count": 30,
   "id": "6d03bc6a",
   "metadata": {},
   "outputs": [
    {
     "data": {
      "image/png": "[encoded data removed]",
      "text/latex": [
       "$\\displaystyle \\left( x_{l} = x_{p}, \\  x_{s} = a x_{p}, \\  a = \\frac{x_{d} + x_{p}}{x_{p}}\\right)$"
      ],
      "text/plain": [
       "⎛                        x_d + xₚ⎞\n",
       "⎜xₗ = xₚ, xₛ = a⋅xₚ, a = ────────⎟\n",
       "⎝                           xₚ   ⎠"
      ]
     },
     "execution_count": 30,
     "metadata": {},
     "output_type": "execute_result"
    }
   ],
   "source": [
    "a = sp.symbols('a', real=True)\n",
    "eqn_list_token_rescale = (\n",
    "    sp.Eq(x_l, x_p), sp.Eq(x_s, a*x_p), \n",
    "    sp.Eq(a, sp.solve(sp.Eq(a*x_p, x_p + x_d), a)[0]))\n",
    "eqn_list_token_rescale"
   ]
  },
  {
   "cell_type": "code",
   "execution_count": 31,
   "id": "038f4860",
   "metadata": {},
   "outputs": [],
   "source": [
    "# for eqn in eqn_list_token_rescale:\n",
    "#     print(sp.latex(eqn, mode='inline'))"
   ]
  },
  {
   "cell_type": "code",
   "execution_count": 32,
   "id": "866905f7",
   "metadata": {},
   "outputs": [
    {
     "data": {
      "image/png": "[encoded data removed]",
      "text/latex": [
       "$\\displaystyle \\frac{d}{d v} \\operatorname{p_{l}}{\\left(v \\right)} = \\frac{C a}{\\left(a v - v + 1\\right)^{2}}$"
      ],
      "text/plain": [
       "d                C⋅a      \n",
       "──(pₗ(v)) = ──────────────\n",
       "dv                       2\n",
       "            (a⋅v - v + 1) "
      ]
     },
     "execution_count": 32,
     "metadata": {},
     "output_type": "execute_result"
    }
   ],
   "source": [
    "eqn_spot_long_deriv_rescale = sp.Eq(sp.UnevaluatedExpr(sp.Function('p_l')(v).diff(v)),\n",
    "      amm0.spot_price('long').diff(v).subs({x_l: x_p, x_s: x_p*a}).simplify())\n",
    "eqn_spot_long_deriv_rescale"
   ]
  },
  {
   "cell_type": "code",
   "execution_count": 33,
   "id": "c57f1ac9",
   "metadata": {},
   "outputs": [
    {
     "data": {
      "image/png": "[encoded data removed]",
      "text/latex": [
       "$\\displaystyle \\frac{d}{d v} \\operatorname{p_{l}}{\\left(v \\right)} = \\frac{C a}{\\left(a v - v + 1\\right)^{2}}$"
      ],
      "text/plain": [
       "d                C⋅a      \n",
       "──(pₗ(v)) = ──────────────\n",
       "dv                       2\n",
       "            (a⋅v - v + 1) "
      ]
     },
     "execution_count": 33,
     "metadata": {},
     "output_type": "execute_result"
    }
   ],
   "source": [
    "eqn_spot_short_deriv_rescale = sp.Eq(sp.UnevaluatedExpr(sp.Function('p_s')(v).diff(v)),\n",
    "      amm0.spot_price('short').diff(v).subs({x_l: x_p, x_s: x_p*a}).simplify())\n",
    "eqn_spot_long_deriv_rescale"
   ]
  },
  {
   "cell_type": "markdown",
   "id": "8e21669e",
   "metadata": {},
   "source": [
    "We see that the spot prices give the desired $\\pm C$ sensitivity to underlying asset price changes (i.e. \"futures like\") when $a=1$ or when:"
   ]
  },
  {
   "cell_type": "code",
   "execution_count": 34,
   "id": "697f27e6",
   "metadata": {},
   "outputs": [
    {
     "data": {
      "image/png": "[encoded data removed]",
      "text/latex": [
       "$\\displaystyle a = \\frac{\\left(v - 1\\right)^{2}}{v^{2}}$"
      ],
      "text/plain": [
       "           2\n",
       "    (v - 1) \n",
       "a = ────────\n",
       "        2   \n",
       "       v    "
      ]
     },
     "execution_count": 34,
     "metadata": {},
     "output_type": "execute_result"
    }
   ],
   "source": [
    "eqn_delta1_scaled_balance = sp.Eq(\n",
    "    a, sp.expand(sp.solve(sp.Eq(a, (a*v-v+1)**2), a)[1]).factor())\n",
    "eqn_delta1_scaled_balance"
   ]
  },
  {
   "cell_type": "markdown",
   "id": "f493b0a5",
   "metadata": {},
   "source": [
    "Away from the midpoint of the band at $v=0.5$ the token balances needed for unit slope vary such that\n",
    "\n",
    "* at $v=0.1$  (i.e. close to floor) need 81 times as much short token as long token\n",
    "* at $v=0.9$  (i.e. close to cap) need 81 times as much long token as short token"
   ]
  },
  {
   "cell_type": "code",
   "execution_count": 35,
   "id": "99c064c5",
   "metadata": {},
   "outputs": [
    {
     "data": {
      "image/png": "[encoded data removed]",
      "text/plain": [
       "<Figure size 432x288 with 1 Axes>"
      ]
     },
     "metadata": {
      "needs_background": "light"
     },
     "output_type": "display_data"
    }
   ],
   "source": [
    "v_np = np.linspace(0.1, 0.9, 100)\n",
    "a_f = sp.lambdify(v, sp.expand(sp.solve(sp.Eq(a, (a*v-v+1)**2), a)[1]).factor(),  )\n",
    "_ = plt.semilogy(v_np, a_f(v_np))\n",
    "_ = plt.grid()\n",
    "_ = plt.xlabel('$v$')\n",
    "_ = plt.ylabel('$a$')\n",
    "_ = plt.title('$a ( = x_s/x_l )$ vs $v$')"
   ]
  },
  {
   "cell_type": "markdown",
   "id": "3c481a1f",
   "metadata": {},
   "source": [
    "Check that there's no value of a that leads to divergence of price gradient\n",
    "as the underlying price changes. This would occur if the denominator of spot price gradient went to zero.\n",
    "\n",
    "We see that a would need to be < 0 for this to occur, as v is in range (0,1) so this is ok."
   ]
  },
  {
   "cell_type": "code",
   "execution_count": 36,
   "id": "48603f5a",
   "metadata": {},
   "outputs": [
    {
     "data": {
      "image/png": "[encoded data removed]",
      "text/latex": [
       "$\\displaystyle a = \\frac{v - 1}{v}$"
      ],
      "text/plain": [
       "    v - 1\n",
       "a = ─────\n",
       "      v  "
      ]
     },
     "execution_count": 36,
     "metadata": {},
     "output_type": "execute_result"
    }
   ],
   "source": [
    "sp.Eq(a, sp.solve(\n",
    "        sp.denom(amm0.spot_price('long').diff(v).subs({x_l: x_p, x_s: x_p*a}).simplify()), a\n",
    "    )[0])"
   ]
  },
  {
   "cell_type": "markdown",
   "id": "7db7d105",
   "metadata": {},
   "source": [
    "# Closed Form Solutions for Swaps\n",
    "The linearized form of the state change after a swap can actually be solved in closed form!\n",
    "\n",
    "**This is very important**\n",
    "\n",
    "The main consequence is that we may be able to replace the existing Balancer swap followed by reweight Balancer pool with the simpler direct approach.  This would reduce slippage and gas costs. (could also make pooled liquidity easier to implement)\n",
    "\n",
    "A secondary consequence is the marketing angle, new AMM equations/invariants get a lot of interest (or at least used to)\n",
    "\n",
    "A tertiary consequence is it could be easier to reason about the AMM behaviour in this form, so as to understand risks etc\n",
    "\n",
    "Still need to include fees, determine equations for other swaps (coin->short, long->coin, short->coin), and ideally an invariant but I feel like the bulk of the problem is solved"
   ]
  },
  {
   "cell_type": "markdown",
   "id": "b94f8d5e",
   "metadata": {},
   "source": [
    "## General Form"
   ]
  },
  {
   "cell_type": "code",
   "execution_count": 37,
   "id": "ce300e0e",
   "metadata": {},
   "outputs": [],
   "source": [
    "def simplify_token_balance(amm, token_name, var=None):\n",
    "    f = sp.symbols('f', positive=True)\n",
    "    var = var or f\n",
    "    ind = amm.token_names.index(token_name)\n",
    "    amm.tokens[ind] = sp.exp(\n",
    "        sp.expand_log(\n",
    "            sp.log(amm.tokens[ind].subs({1.: sp.Integer(1)})), force=True\n",
    "        ).simplify() \n",
    "    ).series(var, n=2).removeO().simplify()"
   ]
  },
  {
   "cell_type": "code",
   "execution_count": 38,
   "id": "7eece8ae",
   "metadata": {},
   "outputs": [],
   "source": [
    "def solve_swap(tok_in, tok_out):\n",
    "    amm = default_simple_setup(x_c, x_l, x_s, v, C)\n",
    "    amm_tok0 = amm.tokens.copy()\n",
    "    ind_in = amm.token_names.index(tok_in)\n",
    "    x_in = amm_tok0[ind_in]\n",
    "    ind_out = amm.token_names.index(tok_out)\n",
    "    x_out = amm_tok0[ind_out]\n",
    "     \n",
    "    f = sp.symbols('f', positive=True)\n",
    "    _ = amm.swap(tok_in, f, tok_out)\n",
    "    simplify_token_balance(amm, tok_out)\n",
    "    dout_din = [((amm.tokens[i] - amm_tok0[i])/f).simplify() for i in range(3)]\n",
    "    d_in = sp.symbols(x_in.name.replace('x', 'Delta'), real=True)\n",
    "\n",
    "    x_out_f = sp.Function(x_out.name)\n",
    "    x_out_0 = sp.symbols(x_out.name + '0', positive=True)\n",
    "    x_out_rhs = dout_din[ind_out].subs({x_out: x_out_f(d_in)})\n",
    "    x_out_ode = sp.Eq(x_out_f(d_in).diff(), x_out_rhs)\n",
    "    x_out_sol = sp.dsolve(\n",
    "        x_out_ode, ics={x_out_f(0): x_out_0}).simplify()\n",
    "        \n",
    "    x_out_sol_f = sp.lambdify(\n",
    "        [d_in] + amm_tok0 + [v, C], x_out_sol.rhs.subs({x_out_0: x_out}), 'numpy'\n",
    "    )\n",
    "\n",
    "    # Reverse solution to find amount of out token that needs to be swapped for in token\n",
    "    # e.g. get L -> C swap from C -> L swap solution\n",
    "    # i.e. getExpectedAmountIn of \n",
    "    d_out = sp.symbols(x_out.name.replace('x', 'Delta'), real=True)\n",
    "    x_in_sol = sp.Eq(d_in, sp.solve(\n",
    "        x_out_sol.subs(\n",
    "            {x_out_f(d_in): x_out}\n",
    "        ), d_in\n",
    "    )[0].subs({x_out: x_out_0 + d_out}).subs({x_out_0: x_out}).simplify())\n",
    "    x_in_sol_f = sp.lambdify(\n",
    "        [d_out] + amm_tok0 + [v, C], x_in_sol.rhs, 'numpy'\n",
    "    )\n",
    "    \n",
    "    # For consistency look at change in out balance i.e. getExpectedAmountOut for amount in \n",
    "    x_out_diff_sol = sp.Eq(d_out, (x_out_sol.rhs - x_out_0).simplify().subs({x_out_0: x_out}))\n",
    "    x_out_diff_sol_f = sp.lambdify(\n",
    "        [d_in] + amm_tok0 + [v, C], x_out_diff_sol.rhs, 'numpy'\n",
    "    )\n",
    "    \n",
    "    x_in_diff_sol = sp.Eq(d_in, sp.solve(x_out_diff_sol, d_in)[0])\n",
    "    x_in_diff_sol_f = sp.lambdify(\n",
    "        [d_out] + amm_tok0 + [v, C], x_in_diff_sol.rhs, 'numpy'\n",
    "    )\n",
    "    \n",
    "    return (\n",
    "        x_out_sol, x_out_sol_f, x_out_ode, \n",
    "        x_in_sol, x_in_sol_f, x_out_diff_sol, x_in_diff_sol, x_out_diff_sol_f, x_in_diff_sol_f\n",
    "    )"
   ]
  },
  {
   "cell_type": "code",
   "execution_count": 39,
   "id": "847f6c25",
   "metadata": {},
   "outputs": [],
   "source": [
    "class MettalexSwap:\n",
    "    def __init__(self, tok_in, tok_out):\n",
    "        (\n",
    "            self._x_out_sol, \n",
    "            self._x_out_sol_f, \n",
    "            self._x_out_ode, \n",
    "            self._x_in_sol, \n",
    "            self._x_in_sol_f, \n",
    "            self._x_out_diff_sol, \n",
    "            self._x_in_diff_sol, \n",
    "            self._x_out_diff_sol_f, \n",
    "            self._x_in_diff_sol_f\n",
    "        ) = solve_swap(tok_in, tok_out)\n",
    "        \n",
    "    def ode(self):\n",
    "        return self._x_out_ode\n",
    "    \n",
    "    def out_balance_eqn(self):\n",
    "        return self._x_out_sol\n",
    "    \n",
    "    def out_balance_fun(self, *args):\n",
    "        return self._x_out_sol_f(*args)\n",
    "    \n",
    "    def out_from_in_eqn(self):\n",
    "        # Return (positive) amount swapped out\n",
    "        return sp.Eq(self._x_out_diff_sol.lhs, (-self._x_out_diff_sol.rhs).simplify())\n",
    "    \n",
    "    def in_from_out_eqn(self):\n",
    "        # Return (positive) amount swapped out\n",
    "        return sp.Eq(self._x_in_diff_sol.lhs, (-self._x_in_diff_sol.rhs).simplify())\n",
    "    \n",
    "    def out_from_in_fun(self, *args):\n",
    "        return -self._x_out_diff_sol_f(*args)\n",
    "    \n",
    "    def in_from_out_fun(self, *args):\n",
    "        return -self._x_in_diff_sol_f(*args)\n",
    "    "
   ]
  },
  {
   "cell_type": "code",
   "execution_count": 40,
   "id": "78eb7855",
   "metadata": {},
   "outputs": [],
   "source": [
    "def get_eqn_symbols(eqn):\n",
    "    return {a.name: a for a in eqn.atoms() if hasattr(a, 'name')}"
   ]
  },
  {
   "cell_type": "markdown",
   "id": "49ba09ca",
   "metadata": {},
   "source": [
    "### Swap Coin for Long"
   ]
  },
  {
   "cell_type": "code",
   "execution_count": 41,
   "id": "34cb6667",
   "metadata": {},
   "outputs": [],
   "source": [
    "c2l_swap = MettalexSwap('coin', 'long')"
   ]
  },
  {
   "cell_type": "markdown",
   "id": "409c9d5f",
   "metadata": {},
   "source": [
    "Spot price of long token $p_l$ is a function of only the long and short token balances.  For a swap from coin to long token the long token balance can be treated as a function of the coin balance.  It is then possible to solve an ordinary differential equation (ODE) to determine the dependence of the long token balance on amount of coin swapped in to the AMM."
   ]
  },
  {
   "cell_type": "code",
   "execution_count": 42,
   "id": "20f8a221",
   "metadata": {},
   "outputs": [
    {
     "data": {
      "image/png": "[encoded data removed]",
      "text/latex": [
       "$\\displaystyle p_{l} = \\frac{C v x_{s}}{v x_{s} - v \\operatorname{x_{l}}{\\left(\\Delta_{c} \\right)} + \\operatorname{x_{l}}{\\left(\\Delta_{c} \\right)}}$"
      ],
      "text/plain": [
       "               C⋅v⋅xₛ          \n",
       "pₗ = ──────────────────────────\n",
       "     v⋅xₛ - v⋅xₗ(Δ_c) + xₗ(Δ_c)"
      ]
     },
     "execution_count": 42,
     "metadata": {},
     "output_type": "execute_result"
    }
   ],
   "source": [
    "eqn_c2l_spot_price = sp.Eq(p_l_s, (-1/c2l_swap.ode().rhs).simplify())\n",
    "eqn_c2l_spot_price"
   ]
  },
  {
   "cell_type": "code",
   "execution_count": 43,
   "id": "42bfffad",
   "metadata": {},
   "outputs": [
    {
     "data": {
      "image/png": "[encoded data removed]",
      "text/latex": [
       "$\\displaystyle \\frac{d}{d \\Delta_{c}} \\operatorname{x_{l}}{\\left(\\Delta_{c} \\right)} = \\frac{- v x_{s} + v \\operatorname{x_{l}}{\\left(\\Delta_{c} \\right)} - \\operatorname{x_{l}}{\\left(\\Delta_{c} \\right)}}{C v x_{s}}$"
      ],
      "text/plain": [
       " d              -v⋅xₛ + v⋅xₗ(Δ_c) - xₗ(Δ_c)\n",
       "────(xₗ(Δ_c)) = ───────────────────────────\n",
       "dΔ_c                       C⋅v⋅xₛ          "
      ]
     },
     "execution_count": 43,
     "metadata": {},
     "output_type": "execute_result"
    }
   ],
   "source": [
    "c2l_swap.ode()"
   ]
  },
  {
   "cell_type": "markdown",
   "id": "ae810c94",
   "metadata": {},
   "source": [
    "Expression for AMM balance of Long tokens after swapping coin in"
   ]
  },
  {
   "cell_type": "code",
   "execution_count": 44,
   "id": "64d80f46",
   "metadata": {},
   "outputs": [
    {
     "data": {
      "image/png": "[encoded data removed]",
      "text/latex": [
       "$\\displaystyle \\operatorname{x_{l}}{\\left(\\Delta_{c} \\right)} = \\frac{v x_{s} + \\left(v x_{l0} - v x_{s} - x_{l0}\\right) e^{\\frac{\\Delta_{c} \\left(v - 1\\right)}{C v x_{s}}}}{v - 1}$"
      ],
      "text/plain": [
       "                                       Δ_c⋅(v - 1)\n",
       "                                       ───────────\n",
       "                                          C⋅v⋅xₛ  \n",
       "          v⋅xₛ + (v⋅xₗ₀ - v⋅xₛ - xₗ₀)⋅ℯ           \n",
       "xₗ(Δ_c) = ────────────────────────────────────────\n",
       "                           v - 1                  "
      ]
     },
     "execution_count": 44,
     "metadata": {},
     "output_type": "execute_result"
    }
   ],
   "source": [
    "c2l_swap.out_balance_eqn()"
   ]
  },
  {
   "cell_type": "markdown",
   "id": "c95ae0ae",
   "metadata": {},
   "source": [
    "Expression for long tokens swapped out after swapping in coin  (NB: the result is a positive number)"
   ]
  },
  {
   "cell_type": "code",
   "execution_count": 45,
   "id": "37afc8ed",
   "metadata": {},
   "outputs": [
    {
     "data": {
      "image/png": "[encoded data removed]",
      "text/latex": [
       "$\\displaystyle \\Delta_{l} = \\frac{- v x_{s} + x_{l} \\left(v - 1\\right) + \\left(- v x_{l} + v x_{s} + x_{l}\\right) e^{\\frac{\\Delta_{c} \\left(v - 1\\right)}{C v x_{s}}}}{v - 1}$"
      ],
      "text/plain": [
       "                                               Δ_c⋅(v - 1)\n",
       "                                               ───────────\n",
       "                                                  C⋅v⋅xₛ  \n",
       "     -v⋅xₛ + xₗ⋅(v - 1) + (-v⋅xₗ + v⋅xₛ + xₗ)⋅ℯ           \n",
       "Δₗ = ─────────────────────────────────────────────────────\n",
       "                             v - 1                        "
      ]
     },
     "execution_count": 45,
     "metadata": {},
     "output_type": "execute_result"
    }
   ],
   "source": [
    "c2l_swap.out_from_in_eqn()\n",
    "# sol_c2l_d"
   ]
  },
  {
   "cell_type": "markdown",
   "id": "17096eec",
   "metadata": {},
   "source": [
    "Expression for coins swapped out after swapping in long tokens (NB: the result is a positive number)"
   ]
  },
  {
   "cell_type": "code",
   "execution_count": 46,
   "id": "a25b9201",
   "metadata": {},
   "outputs": [
    {
     "data": {
      "image/png": "[encoded data removed]",
      "text/latex": [
       "$\\displaystyle \\Delta_{c} = - \\frac{C v x_{s} \\log{\\left(- \\frac{\\Delta_{l} \\left(v - 1\\right) - v x_{s} + x_{l} \\left(v - 1\\right)}{- v x_{l} + v x_{s} + x_{l}} \\right)}}{v - 1}$"
      ],
      "text/plain": [
       "                 ⎛-(Δₗ⋅(v - 1) - v⋅xₛ + xₗ⋅(v - 1)) ⎞ \n",
       "      -C⋅v⋅xₛ⋅log⎜──────────────────────────────────⎟ \n",
       "                 ⎝        -v⋅xₗ + v⋅xₛ + xₗ         ⎠ \n",
       "Δ_c = ────────────────────────────────────────────────\n",
       "                           v - 1                      "
      ]
     },
     "execution_count": 46,
     "metadata": {},
     "output_type": "execute_result"
    }
   ],
   "source": [
    "c2l_swap.in_from_out_eqn()"
   ]
  },
  {
   "cell_type": "markdown",
   "id": "5d2d3cec",
   "metadata": {},
   "source": [
    "Long tokens left after buying \\$10000 worth"
   ]
  },
  {
   "cell_type": "code",
   "execution_count": 47,
   "id": "4b3f99d8",
   "metadata": {},
   "outputs": [
    {
     "data": {
      "image/png": "[encoded data removed]",
      "text/latex": [
       "$\\displaystyle 809.674836071919$"
      ],
      "text/plain": [
       "809.6748360719191"
      ]
     },
     "execution_count": 47,
     "metadata": {},
     "output_type": "execute_result"
    }
   ],
   "source": [
    "c2l_swap.out_balance_fun(10000, 10000, 1000, 1000, 0.5, 100)"
   ]
  },
  {
   "cell_type": "markdown",
   "id": "b148dedf",
   "metadata": {},
   "source": [
    "Check this agrees with amount swapped out"
   ]
  },
  {
   "cell_type": "code",
   "execution_count": 48,
   "id": "f16e2087",
   "metadata": {},
   "outputs": [
    {
     "data": {
      "image/png": "[encoded data removed]",
      "text/latex": [
       "$\\displaystyle 190.325163928081$"
      ],
      "text/plain": [
       "190.32516392808088"
      ]
     },
     "execution_count": 48,
     "metadata": {},
     "output_type": "execute_result"
    }
   ],
   "source": [
    "c2l_swap.out_from_in_fun(\n",
    "    10000, # Swap in 10_000 coin for x long\n",
    "    10000, \n",
    "    1000, \n",
    "    1000, 0.5, 100)"
   ]
  },
  {
   "cell_type": "markdown",
   "id": "b67383e0",
   "metadata": {},
   "source": [
    "Compare with current implementation breaking the \\\\$10000 into 10000 trades of \\\\$1 each to avoid slippage"
   ]
  },
  {
   "cell_type": "code",
   "execution_count": 49,
   "id": "ff7e913d",
   "metadata": {},
   "outputs": [
    {
     "data": {
      "text/plain": [
       "AMM Balance: 109483.35\n",
       " = 100968.21 (safe) + 8515.14 (risk)\n",
       " = 20000.00 coin + 809.68 long @ 55.26 (44741.68) + 1000.00 short @ 44.74 (44741.68)\n",
       "  Cumulative Trades:  Assets 10000.00  Maximum Liabilities 19031.79\n",
       "  Trade Equity: -9031.79\n",
       "  LP Token Price: 1.00"
      ]
     },
     "execution_count": 49,
     "metadata": {},
     "output_type": "execute_result"
    }
   ],
   "source": [
    "amm_n = default_simple_setup()\n",
    "n_trades = 10000\n",
    "total_traded = 10_000\n",
    "for i in range(n_trades):\n",
    "    _ = amm_n.swap('coin', total_traded/n_trades, 'long')\n",
    "amm_n"
   ]
  },
  {
   "cell_type": "markdown",
   "id": "e7a37e51",
   "metadata": {},
   "source": [
    "For further comparison we see that doing the trade in a single block results in a large amount of slippage with the current implementation:"
   ]
  },
  {
   "cell_type": "code",
   "execution_count": 50,
   "id": "cc1511ef",
   "metadata": {},
   "outputs": [
    {
     "data": {
      "text/plain": [
       "AMM Balance: 113079.61\n",
       " = 107055.06 (safe) + 6024.55 (risk)\n",
       " = 20000.00 coin + 870.55 long @ 53.46 (46539.80) + 1000.00 short @ 46.54 (46539.80)\n",
       "  Cumulative Trades:  Assets 10000.00  Maximum Liabilities 12944.94\n",
       "  Trade Equity: -2944.94\n",
       "  LP Token Price: 1.03"
      ]
     },
     "execution_count": 50,
     "metadata": {},
     "output_type": "execute_result"
    }
   ],
   "source": [
    "amm_n = default_simple_setup()\n",
    "n_trades = 1\n",
    "total_traded = 10_000\n",
    "for i in range(n_trades):\n",
    "    _ = amm_n.swap('coin', total_traded/n_trades, 'long')\n",
    "amm_n"
   ]
  },
  {
   "cell_type": "markdown",
   "id": "e4e9edcd",
   "metadata": {},
   "source": [
    "Long tokens balance of AMM after extracting \\\\$10000 worth of coin "
   ]
  },
  {
   "cell_type": "code",
   "execution_count": 51,
   "id": "34e9f86d",
   "metadata": {},
   "outputs": [
    {
     "data": {
      "image/png": "[encoded data removed]",
      "text/latex": [
       "$\\displaystyle 1210.3418361513$"
      ],
      "text/plain": [
       "1210.3418361512954"
      ]
     },
     "execution_count": 51,
     "metadata": {},
     "output_type": "execute_result"
    }
   ],
   "source": [
    "c2l_swap.out_balance_fun(-10000, 10000, 1000, 1000, 0.5, 100)"
   ]
  },
  {
   "cell_type": "markdown",
   "id": "75d31560",
   "metadata": {},
   "source": [
    "Check this agrees with the output amount of coins obtained by swapping in 210 long tokens"
   ]
  },
  {
   "cell_type": "code",
   "execution_count": 52,
   "id": "208c7fad",
   "metadata": {},
   "outputs": [
    {
     "data": {
      "image/png": "[encoded data removed]",
      "text/latex": [
       "$\\displaystyle 10000.0000000002$"
      ],
      "text/plain": [
       "10000.00000000021"
      ]
     },
     "execution_count": 52,
     "metadata": {},
     "output_type": "execute_result"
    }
   ],
   "source": [
    "c2l_swap.in_from_out_fun(\n",
    "    210.3418361513, # Swap in 210 long for x coin\n",
    "    10000, 1000, 1000, 0.5, 100)"
   ]
  },
  {
   "cell_type": "markdown",
   "id": "bbb66a03",
   "metadata": {},
   "source": [
    "### Swap Coin for Short"
   ]
  },
  {
   "cell_type": "code",
   "execution_count": 53,
   "id": "aee9b9c4",
   "metadata": {},
   "outputs": [],
   "source": [
    "c2s_swap = MettalexSwap('coin', 'short')"
   ]
  },
  {
   "cell_type": "markdown",
   "id": "1e926a15",
   "metadata": {},
   "source": [
    "The spot price of short token as a function of coin swapped in similarly defines an ODE that can be solved for short token balance."
   ]
  },
  {
   "cell_type": "code",
   "execution_count": 54,
   "id": "b43e46b0",
   "metadata": {},
   "outputs": [
    {
     "data": {
      "image/png": "[encoded data removed]",
      "text/latex": [
       "$\\displaystyle p_{s} = \\frac{C x_{l} \\left(v - 1\\right)}{v x_{l} - v \\operatorname{x_{s}}{\\left(\\Delta_{c} \\right)} - x_{l}}$"
      ],
      "text/plain": [
       "          C⋅xₗ⋅(v - 1)    \n",
       "pₛ = ─────────────────────\n",
       "     v⋅xₗ - v⋅xₛ(Δ_c) - xₗ"
      ]
     },
     "execution_count": 54,
     "metadata": {},
     "output_type": "execute_result"
    }
   ],
   "source": [
    "eqn_c2s_spot_price = sp.Eq(p_s_s, (-1/c2s_swap.ode().rhs).simplify())\n",
    "eqn_c2s_spot_price"
   ]
  },
  {
   "cell_type": "code",
   "execution_count": 55,
   "id": "809f1dd2",
   "metadata": {},
   "outputs": [
    {
     "data": {
      "image/png": "[encoded data removed]",
      "text/latex": [
       "$\\displaystyle \\frac{d}{d \\Delta_{c}} \\operatorname{x_{s}}{\\left(\\Delta_{c} \\right)} = \\frac{v \\operatorname{x_{s}}{\\left(\\Delta_{c} \\right)} - x_{l} \\left(v - 1\\right)}{C x_{l} \\left(v - 1\\right)}$"
      ],
      "text/plain": [
       " d              v⋅xₛ(Δ_c) - xₗ⋅(v - 1)\n",
       "────(xₛ(Δ_c)) = ──────────────────────\n",
       "dΔ_c                 C⋅xₗ⋅(v - 1)     "
      ]
     },
     "execution_count": 55,
     "metadata": {},
     "output_type": "execute_result"
    }
   ],
   "source": [
    "c2s_swap.ode()"
   ]
  },
  {
   "cell_type": "code",
   "execution_count": 56,
   "id": "576c01b6",
   "metadata": {},
   "outputs": [
    {
     "data": {
      "image/png": "[encoded data removed]",
      "text/latex": [
       "$\\displaystyle \\operatorname{x_{s}}{\\left(\\Delta_{c} \\right)} = \\frac{v x_{l} - x_{l} + \\left(- v x_{l} + v x_{s0} + x_{l}\\right) e^{\\frac{\\Delta_{c} v}{C x_{l} \\left(v - 1\\right)}}}{v}$"
      ],
      "text/plain": [
       "                                               Δ_c⋅v    \n",
       "                                            ────────────\n",
       "                                            C⋅xₗ⋅(v - 1)\n",
       "          v⋅xₗ - xₗ + (-v⋅xₗ + v⋅xₛ₀ + xₗ)⋅ℯ            \n",
       "xₛ(Δ_c) = ──────────────────────────────────────────────\n",
       "                                v                       "
      ]
     },
     "execution_count": 56,
     "metadata": {},
     "output_type": "execute_result"
    }
   ],
   "source": [
    "c2s_swap.out_balance_eqn() # sol_c2s"
   ]
  },
  {
   "cell_type": "code",
   "execution_count": 57,
   "id": "76699bce",
   "metadata": {},
   "outputs": [
    {
     "data": {
      "image/png": "[encoded data removed]",
      "text/latex": [
       "$\\displaystyle \\Delta_{s} = \\frac{- v x_{l} + v x_{s} + x_{l} + \\left(v x_{l} - v x_{s} - x_{l}\\right) e^{\\frac{\\Delta_{c} v}{C x_{l} \\left(v - 1\\right)}}}{v}$"
      ],
      "text/plain": [
       "                                                Δ_c⋅v    \n",
       "                                             ────────────\n",
       "                                             C⋅xₗ⋅(v - 1)\n",
       "     -v⋅xₗ + v⋅xₛ + xₗ + (v⋅xₗ - v⋅xₛ - xₗ)⋅ℯ            \n",
       "Δₛ = ────────────────────────────────────────────────────\n",
       "                              v                          "
      ]
     },
     "execution_count": 57,
     "metadata": {},
     "output_type": "execute_result"
    }
   ],
   "source": [
    "c2s_swap.out_from_in_eqn()"
   ]
  },
  {
   "cell_type": "code",
   "execution_count": 58,
   "id": "3133f4ae",
   "metadata": {},
   "outputs": [
    {
     "data": {
      "image/png": "[encoded data removed]",
      "text/latex": [
       "$\\displaystyle \\Delta_{c} = \\frac{C x_{l} \\left(1 - v\\right) \\log{\\left(\\frac{\\Delta_{s} v - v x_{l} + v x_{s} + x_{l}}{- v x_{l} + v x_{s} + x_{l}} \\right)}}{v}$"
      ],
      "text/plain": [
       "                      ⎛Δₛ⋅v - v⋅xₗ + v⋅xₛ + xₗ⎞\n",
       "      C⋅xₗ⋅(1 - v)⋅log⎜───────────────────────⎟\n",
       "                      ⎝   -v⋅xₗ + v⋅xₛ + xₗ   ⎠\n",
       "Δ_c = ─────────────────────────────────────────\n",
       "                          v                    "
      ]
     },
     "execution_count": 58,
     "metadata": {},
     "output_type": "execute_result"
    }
   ],
   "source": [
    "c2s_swap.in_from_out_eqn()"
   ]
  },
  {
   "cell_type": "markdown",
   "id": "cdd9c599",
   "metadata": {},
   "source": [
    "### Swap Long for Short"
   ]
  },
  {
   "cell_type": "markdown",
   "id": "a0820b9d",
   "metadata": {},
   "source": [
    "A direct swap from long to short tokens is not currently allowed by the Mettalex DEX but the ODE can be obtained by combining the coin to long and coin to short equations, or by using the existing implementation and linearizing.  The latter approach is used below however the result agrees with the former approach.  This is reassuring as it implies the absence of arbitrage possibilities."
   ]
  },
  {
   "cell_type": "code",
   "execution_count": 59,
   "id": "b4f07ed1",
   "metadata": {},
   "outputs": [],
   "source": [
    "l2s_swap = MettalexSwap('long', 'short')"
   ]
  },
  {
   "cell_type": "code",
   "execution_count": 60,
   "id": "28caa56c",
   "metadata": {},
   "outputs": [
    {
     "data": {
      "image/png": "[encoded data removed]",
      "text/latex": [
       "$\\displaystyle \\frac{d}{d \\Delta_{l}} \\operatorname{x_{s}}{\\left(\\Delta_{l} \\right)} = \\frac{v \\operatorname{x_{s}}{\\left(\\Delta_{l} \\right)}}{x_{l} \\left(v - 1\\right)}$"
      ],
      "text/plain": [
       " d             v⋅xₛ(Δₗ) \n",
       "───(xₛ(Δₗ)) = ──────────\n",
       "dΔₗ           xₗ⋅(v - 1)"
      ]
     },
     "execution_count": 60,
     "metadata": {},
     "output_type": "execute_result"
    }
   ],
   "source": [
    "l2s_swap.ode()"
   ]
  },
  {
   "cell_type": "code",
   "execution_count": 61,
   "id": "d663cfa4",
   "metadata": {},
   "outputs": [
    {
     "data": {
      "image/png": "[encoded data removed]",
      "text/latex": [
       "$\\displaystyle \\operatorname{x_{s}}{\\left(\\Delta_{l} \\right)} = x_{s0} e^{\\frac{\\Delta_{l} v}{x_{l} \\left(v - 1\\right)}}$"
      ],
      "text/plain": [
       "                 Δₗ⋅v   \n",
       "              ──────────\n",
       "              xₗ⋅(v - 1)\n",
       "xₛ(Δₗ) = xₛ₀⋅ℯ          "
      ]
     },
     "execution_count": 61,
     "metadata": {},
     "output_type": "execute_result"
    }
   ],
   "source": [
    "l2s_swap.out_balance_eqn()"
   ]
  },
  {
   "cell_type": "code",
   "execution_count": 62,
   "id": "7073c339",
   "metadata": {},
   "outputs": [
    {
     "data": {
      "image/png": "[encoded data removed]",
      "text/latex": [
       "$\\displaystyle 606.530659712633$"
      ],
      "text/plain": [
       "606.5306597126335"
      ]
     },
     "execution_count": 62,
     "metadata": {},
     "output_type": "execute_result"
    }
   ],
   "source": [
    "# Looks like we have slippage e.g. 500 L in gives < 400 S out - this is good!\n",
    "l2s_swap.out_balance_fun(500, 10000, 1000, 1000, 0.5, 100)"
   ]
  },
  {
   "cell_type": "code",
   "execution_count": 63,
   "id": "b819f3f1",
   "metadata": {},
   "outputs": [
    {
     "data": {
      "image/png": "[encoded data removed]",
      "text/latex": [
       "$\\displaystyle \\Delta_{s} = x_{s} \\left(1 - e^{\\frac{\\Delta_{l} v}{x_{l} \\left(v - 1\\right)}}\\right)$"
      ],
      "text/plain": [
       "        ⎛        Δₗ⋅v   ⎞\n",
       "        ⎜     ──────────⎟\n",
       "        ⎜     xₗ⋅(v - 1)⎟\n",
       "Δₛ = xₛ⋅⎝1 - ℯ          ⎠"
      ]
     },
     "execution_count": 63,
     "metadata": {},
     "output_type": "execute_result"
    }
   ],
   "source": [
    "l2s_swap.out_from_in_eqn()"
   ]
  },
  {
   "cell_type": "code",
   "execution_count": 64,
   "id": "0c0f8b56",
   "metadata": {},
   "outputs": [
    {
     "data": {
      "image/png": "[encoded data removed]",
      "text/latex": [
       "$\\displaystyle \\Delta_{l} = - \\frac{x_{l} \\left(v - 1\\right) \\log{\\left(\\frac{\\Delta_{s} + x_{s}}{x_{s}} \\right)}}{v}$"
      ],
      "text/plain": [
       "                    ⎛Δₛ + xₛ⎞ \n",
       "     -xₗ⋅(v - 1)⋅log⎜───────⎟ \n",
       "                    ⎝   xₛ  ⎠ \n",
       "Δₗ = ─────────────────────────\n",
       "                 v            "
      ]
     },
     "execution_count": 64,
     "metadata": {},
     "output_type": "execute_result"
    }
   ],
   "source": [
    "l2s_swap.in_from_out_eqn()"
   ]
  },
  {
   "cell_type": "markdown",
   "id": "2aab19a9",
   "metadata": {},
   "source": [
    "### Swap Short for Long"
   ]
  },
  {
   "cell_type": "code",
   "execution_count": 65,
   "id": "588f5554",
   "metadata": {},
   "outputs": [],
   "source": [
    "s2l_swap = MettalexSwap('short', 'long')"
   ]
  },
  {
   "cell_type": "code",
   "execution_count": 66,
   "id": "2469ff51",
   "metadata": {},
   "outputs": [
    {
     "data": {
      "image/png": "[encoded data removed]",
      "text/latex": [
       "$\\displaystyle \\operatorname{x_{l}}{\\left(\\Delta_{s} \\right)} = x_{l0} e^{\\frac{\\Delta_{s} \\left(v - 1\\right)}{v x_{s}}}$"
      ],
      "text/plain": [
       "              Δₛ⋅(v - 1)\n",
       "              ──────────\n",
       "                 v⋅xₛ   \n",
       "xₗ(Δₛ) = xₗ₀⋅ℯ          "
      ]
     },
     "execution_count": 66,
     "metadata": {},
     "output_type": "execute_result"
    }
   ],
   "source": [
    "s2l_swap.out_balance_eqn()"
   ]
  },
  {
   "cell_type": "markdown",
   "id": "e86daa70",
   "metadata": {},
   "source": [
    "## Checking for arbitrage opportunities"
   ]
  },
  {
   "cell_type": "markdown",
   "id": "030d2c17",
   "metadata": {},
   "source": [
    "Check that swap C->L then L->C returns to original state.  Swap in $\\Delta_c$ coin then swap in $-\\Delta_c$ coin starting from the new state."
   ]
  },
  {
   "cell_type": "code",
   "execution_count": 67,
   "id": "69af037d",
   "metadata": {},
   "outputs": [],
   "source": [
    "d_c = sp.symbols('Delta_c', real=True)"
   ]
  },
  {
   "cell_type": "code",
   "execution_count": 68,
   "id": "e779f2cd",
   "metadata": {},
   "outputs": [
    {
     "data": {
      "text/plain": [
       "{'x_s': x_s, 'v': v, 'Delta_c': Delta_c, 'x_l0': x_l0, 'C': C}"
      ]
     },
     "execution_count": 68,
     "metadata": {},
     "output_type": "execute_result"
    }
   ],
   "source": [
    "sol_c2l_v = get_eqn_symbols(c2l_swap.out_balance_eqn())\n",
    "sol_c2l_v"
   ]
  },
  {
   "cell_type": "code",
   "execution_count": 69,
   "id": "fdf29c6b",
   "metadata": {},
   "outputs": [
    {
     "data": {
      "image/png": "[encoded data removed]",
      "text/latex": [
       "$\\displaystyle \\frac{v x_{s} + \\left(v x_{l} - v x_{s} - x_{l}\\right) e^{\\frac{\\Delta_{c} \\left(v - 1\\right)}{C v x_{s}}}}{v - 1}$"
      ],
      "text/plain": [
       "                           Δ_c⋅(v - 1)\n",
       "                           ───────────\n",
       "                              C⋅v⋅xₛ  \n",
       "v⋅xₛ + (v⋅xₗ - v⋅xₛ - xₗ)⋅ℯ           \n",
       "──────────────────────────────────────\n",
       "                v - 1                 "
      ]
     },
     "execution_count": 69,
     "metadata": {},
     "output_type": "execute_result"
    }
   ],
   "source": [
    "x_l_1 = c2l_swap.out_balance_eqn().rhs.subs(\n",
    "    {\n",
    "        sol_c2l_v['x_l0']: x_l,\n",
    "        sol_c2l_v['x_s']: x_s,\n",
    "        sol_c2l_v['Delta_c']: d_c,\n",
    "    }\n",
    ")\n",
    "x_l_1"
   ]
  },
  {
   "cell_type": "code",
   "execution_count": 70,
   "id": "1fde993b",
   "metadata": {},
   "outputs": [
    {
     "data": {
      "image/png": "[encoded data removed]",
      "text/latex": [
       "$\\displaystyle x_{l}$"
      ],
      "text/plain": [
       "xₗ"
      ]
     },
     "execution_count": 70,
     "metadata": {},
     "output_type": "execute_result"
    }
   ],
   "source": [
    "c2l_swap.out_balance_eqn().rhs.subs(\n",
    "    {\n",
    "        sol_c2l_v['x_l0']: x_l_1,\n",
    "        sol_c2l_v['x_s']: x_s,\n",
    "        sol_c2l_v['Delta_c']: -d_c,\n",
    "    }\n",
    ").simplify()"
   ]
  },
  {
   "cell_type": "markdown",
   "id": "fe9bf389",
   "metadata": {},
   "source": [
    "Looks ok, we start with $x_l$ long tokens and after both swaps return to that amount."
   ]
  },
  {
   "cell_type": "markdown",
   "id": "81c33e57",
   "metadata": {},
   "source": [
    "Now look at the C->L, L->S, S->C where in last step we remove same amount of coin as original swap in.\n",
    "\n",
    "In the L->S step we swap all of the long tokens extracted from the AMM in the first swap, this will be $x_{l_{0}} - x_{l_{1}}$ where $x_{l_{1}}$ is the long token balance in AMM after first swap "
   ]
  },
  {
   "cell_type": "code",
   "execution_count": 71,
   "id": "86487b07",
   "metadata": {},
   "outputs": [
    {
     "data": {
      "image/png": "[encoded data removed]",
      "text/latex": [
       "$\\displaystyle \\operatorname{x_{s}}{\\left(\\Delta_{l} \\right)} = x_{s0} e^{\\frac{\\Delta_{l} v}{x_{l} \\left(v - 1\\right)}}$"
      ],
      "text/plain": [
       "                 Δₗ⋅v   \n",
       "              ──────────\n",
       "              xₗ⋅(v - 1)\n",
       "xₛ(Δₗ) = xₛ₀⋅ℯ          "
      ]
     },
     "execution_count": 71,
     "metadata": {},
     "output_type": "execute_result"
    }
   ],
   "source": [
    "sol_l2s = l2s_swap.out_balance_eqn()\n",
    "sol_l2s"
   ]
  },
  {
   "cell_type": "code",
   "execution_count": 72,
   "id": "acde9d89",
   "metadata": {},
   "outputs": [
    {
     "data": {
      "text/plain": [
       "{'v': v, 'x_l': x_l, 'x_s0': x_s0, 'Delta_l': Delta_l}"
      ]
     },
     "execution_count": 72,
     "metadata": {},
     "output_type": "execute_result"
    }
   ],
   "source": [
    "sol_l2s_v = {a.name: a for a in sol_l2s.atoms() if hasattr(a, 'name')}\n",
    "sol_l2s_v"
   ]
  },
  {
   "cell_type": "code",
   "execution_count": 73,
   "id": "8575cfe9",
   "metadata": {},
   "outputs": [
    {
     "data": {
      "image/png": "[encoded data removed]",
      "text/latex": [
       "$\\displaystyle x_{l} - \\frac{v x_{s} + \\left(v x_{l} - v x_{s} - x_{l}\\right) e^{\\frac{\\Delta_{c} \\left(v - 1\\right)}{C v x_{s}}}}{v - 1}$"
      ],
      "text/plain": [
       "                                Δ_c⋅(v - 1)\n",
       "                                ───────────\n",
       "                                   C⋅v⋅xₛ  \n",
       "     v⋅xₛ + (v⋅xₗ - v⋅xₛ - xₗ)⋅ℯ           \n",
       "xₗ - ──────────────────────────────────────\n",
       "                     v - 1                 "
      ]
     },
     "execution_count": 73,
     "metadata": {},
     "output_type": "execute_result"
    }
   ],
   "source": [
    "d_x_l_1 = x_l - x_l_1  # Long tokens swapped out in first C-> L step\n",
    "d_x_l_1"
   ]
  },
  {
   "cell_type": "code",
   "execution_count": 74,
   "id": "38f948b2",
   "metadata": {},
   "outputs": [
    {
     "data": {
      "image/png": "[encoded data removed]",
      "text/latex": [
       "$\\displaystyle x_{s} e^{\\frac{v \\left(\\frac{v x_{s} + \\left(v x_{l} - v x_{s} - x_{l}\\right) e^{\\frac{\\Delta_{c} \\left(v - 1\\right)}{C v x_{s}}}}{v - 1} - \\frac{v x_{s} + \\left(- v x_{s} + \\frac{v \\left(v x_{s} + \\left(v x_{l} - v x_{s} - x_{l}\\right) e^{\\frac{\\Delta_{c} \\left(v - 1\\right)}{C v x_{s}}}\\right)}{v - 1} - \\frac{v x_{s} + \\left(v x_{l} - v x_{s} - x_{l}\\right) e^{\\frac{\\Delta_{c} \\left(v - 1\\right)}{C v x_{s}}}}{v - 1}\\right) e^{\\frac{\\Delta_{c} \\left(v - 1\\right)}{C v x_{s}}}}{v - 1}\\right)}{v x_{s} + \\left(v x_{l} - v x_{s} - x_{l}\\right) e^{\\frac{\\Delta_{c} \\left(v - 1\\right)}{C v x_{s}}}}}$"
      ],
      "text/plain": [
       "      ⎛                                                ⎛          ⎛           \n",
       "      ⎜                                                ⎜          ⎜           \n",
       "      ⎜                           Δ_c⋅(v - 1)          ⎜          ⎜           \n",
       "      ⎜                           ───────────          ⎜        v⋅⎝v⋅xₛ + (v⋅x\n",
       "      ⎜                              C⋅v⋅xₛ     v⋅xₛ + ⎜-v⋅xₛ + ──────────────\n",
       "      ⎜v⋅xₛ + (v⋅xₗ - v⋅xₛ - xₗ)⋅ℯ                     ⎝                      \n",
       "    v⋅⎜────────────────────────────────────── - ──────────────────────────────\n",
       "      ⎝                v - 1                                                  \n",
       "    ──────────────────────────────────────────────────────────────────────────\n",
       "                                                                              \n",
       "                                                                              \n",
       "                                                                              \n",
       "                                                                v⋅xₛ + (v⋅xₗ -\n",
       "xₛ⋅ℯ                                                                          \n",
       "\n",
       "                Δ_c⋅(v - 1)⎞                              Δ_c⋅(v - 1)⎞        \n",
       "                ───────────⎟                              ───────────⎟  Δ_c⋅(v\n",
       "                   C⋅v⋅xₛ  ⎟                                 C⋅v⋅xₛ  ⎟  ──────\n",
       "ₗ - v⋅xₛ - xₗ)⋅ℯ           ⎠   v⋅xₛ + (v⋅xₗ - v⋅xₛ - xₗ)⋅ℯ           ⎟     C⋅v\n",
       "──────────────────────────── - ──────────────────────────────────────⎟⋅ℯ      \n",
       "    v - 1                                      v - 1                 ⎠        \n",
       "──────────────────────────────────────────────────────────────────────────────\n",
       "                        v - 1                                                 \n",
       "──────────────────────────────────────────────────────────────────────────────\n",
       "             Δ_c⋅(v - 1)                                                      \n",
       "             ───────────                                                      \n",
       "                C⋅v⋅xₛ                                                        \n",
       " v⋅xₛ - xₗ)⋅ℯ                                                                 \n",
       "                                                                              \n",
       "\n",
       "     ⎞\n",
       " - 1)⎟\n",
       "─────⎟\n",
       "⋅xₛ  ⎟\n",
       "     ⎟\n",
       "     ⎟\n",
       "─────⎟\n",
       "     ⎠\n",
       "──────\n",
       "      \n",
       "      \n",
       "      \n",
       "      \n",
       "      "
      ]
     },
     "execution_count": 74,
     "metadata": {},
     "output_type": "execute_result"
    }
   ],
   "source": [
    "# Swap the long tokens for short, this returns long token balance to original \n",
    "x_s_1 = sol_l2s.rhs.subs(\n",
    "    {\n",
    "        sol_l2s_v['x_l']: x_l_1,\n",
    "        sol_l2s_v['x_s0']: x_s,\n",
    "        sol_l2s_v['Delta_l']: d_x_l_1,\n",
    "    }\n",
    ")\n",
    "x_s_1"
   ]
  },
  {
   "cell_type": "code",
   "execution_count": 75,
   "id": "092ad137",
   "metadata": {},
   "outputs": [],
   "source": [
    "sol_c2s = c2s_swap.out_balance_eqn()"
   ]
  },
  {
   "cell_type": "code",
   "execution_count": 76,
   "id": "7e412a1a",
   "metadata": {},
   "outputs": [
    {
     "data": {
      "text/plain": [
       "{'v': v, 'x_l': x_l, 'x_s0': x_s0, 'Delta_c': Delta_c, 'C': C}"
      ]
     },
     "execution_count": 76,
     "metadata": {},
     "output_type": "execute_result"
    }
   ],
   "source": [
    "sol_c2s_v = {a.name: a for a in sol_c2s.atoms() if hasattr(a, 'name')}\n",
    "sol_c2s_v"
   ]
  },
  {
   "cell_type": "code",
   "execution_count": 77,
   "id": "336f1285",
   "metadata": {},
   "outputs": [
    {
     "data": {
      "image/png": "[encoded data removed]",
      "text/latex": [
       "$\\displaystyle \\frac{\\left(- v x_{l} + v x_{s} e^{\\frac{v \\left(- v x_{s} \\left(v - 1\\right) + \\left(v - 1\\right) \\left(v x_{s} - \\left(- v x_{l} + v x_{s} + x_{l}\\right) e^{\\frac{\\Delta_{c} \\left(v - 1\\right)}{C v x_{s}}}\\right) + \\left(v x_{s} \\left(v - 1\\right) + v x_{s} - v \\left(v x_{s} - \\left(- v x_{l} + v x_{s} + x_{l}\\right) e^{\\frac{\\Delta_{c} \\left(v - 1\\right)}{C v x_{s}}}\\right) - \\left(- v x_{l} + v x_{s} + x_{l}\\right) e^{\\frac{\\Delta_{c} \\left(v - 1\\right)}{C v x_{s}}}\\right) e^{\\frac{\\Delta_{c} \\left(v - 1\\right)}{C v x_{s}}}\\right)}{\\left(v - 1\\right)^{2} \\left(v x_{s} - \\left(- v x_{l} + v x_{s} + x_{l}\\right) e^{\\frac{\\Delta_{c} \\left(v - 1\\right)}{C v x_{s}}}\\right)}} - v x_{s} e^{\\frac{\\Delta_{c} v}{C x_{l} \\left(v - 1\\right)}} + x_{l} \\left(v - 1\\right) e^{\\frac{\\Delta_{c} v}{C x_{l} \\left(v - 1\\right)}} + x_{l}\\right) e^{- \\frac{\\Delta_{c} v}{C x_{l} \\left(v - 1\\right)}}}{v}$"
      ],
      "text/plain": [
       "⎛                ⎛                        ⎛                            Δ_c⋅(v \n",
       "⎜                ⎜                        ⎜                            ───────\n",
       "⎜                ⎜                        ⎜                               C⋅v⋅\n",
       "⎜              v⋅⎝-v⋅xₛ⋅(v - 1) + (v - 1)⋅⎝v⋅xₛ - (-v⋅xₗ + v⋅xₛ + xₗ)⋅ℯ       \n",
       "⎜              ───────────────────────────────────────────────────────────────\n",
       "⎜                                                                             \n",
       "⎜                                                                             \n",
       "⎜                                                                             \n",
       "⎜                                                                             \n",
       "⎝-v⋅xₗ + v⋅xₛ⋅ℯ                                                               \n",
       "──────────────────────────────────────────────────────────────────────────────\n",
       "                                                                              \n",
       "\n",
       "- 1)⎞   ⎛                        ⎛                            Δ_c⋅(v - 1)⎞    \n",
       "────⎟   ⎜                        ⎜                            ───────────⎟    \n",
       "xₛ  ⎟   ⎜                        ⎜                               C⋅v⋅xₛ  ⎟    \n",
       "    ⎠ + ⎝v⋅xₛ⋅(v - 1) + v⋅xₛ - v⋅⎝v⋅xₛ - (-v⋅xₗ + v⋅xₛ + xₗ)⋅ℯ           ⎠ - (\n",
       "──────────────────────────────────────────────────────────────────────────────\n",
       "               ⎛                            Δ_c⋅(v - 1)⎞                      \n",
       "               ⎜                            ───────────⎟                      \n",
       "             2 ⎜                               C⋅v⋅xₛ  ⎟                      \n",
       "      (v - 1) ⋅⎝v⋅xₛ - (-v⋅xₗ + v⋅xₛ + xₗ)⋅ℯ           ⎠                      \n",
       "                                                                              \n",
       "──────────────────────────────────────────────────────────────────────────────\n",
       "                                                        v                     \n",
       "\n",
       "                    Δ_c⋅(v - 1)⎞  Δ_c⋅(v - 1)⎞                                \n",
       "                    ───────────⎟  ───────────⎟                                \n",
       "                       C⋅v⋅xₛ  ⎟     C⋅v⋅xₛ  ⎟                                \n",
       "-v⋅xₗ + v⋅xₛ + xₗ)⋅ℯ           ⎠⋅ℯ           ⎠                                \n",
       "──────────────────────────────────────────────                                \n",
       "                                                                              \n",
       "                                                          Δ_c⋅v               \n",
       "                                                       ────────────           \n",
       "                                                       C⋅xₗ⋅(v - 1)           \n",
       "                                               - v⋅xₛ⋅ℯ             + xₗ⋅(v - \n",
       "──────────────────────────────────────────────────────────────────────────────\n",
       "                                                                              \n",
       "\n",
       "                     ⎞              \n",
       "                     ⎟              \n",
       "                     ⎟              \n",
       "                     ⎟              \n",
       "                     ⎟              \n",
       "                     ⎟              \n",
       "       Δ_c⋅v         ⎟    -Δ_c⋅v    \n",
       "    ────────────     ⎟  ────────────\n",
       "    C⋅xₗ⋅(v - 1)     ⎟  C⋅xₗ⋅(v - 1)\n",
       "1)⋅ℯ             + xₗ⎠⋅ℯ            \n",
       "────────────────────────────────────\n",
       "                                    "
      ]
     },
     "execution_count": 77,
     "metadata": {},
     "output_type": "execute_result"
    }
   ],
   "source": [
    "x_s_2 = sol_c2s.rhs.subs(\n",
    "    {\n",
    "        sol_c2s_v['x_l']: x_l,\n",
    "        sol_c2s_v['x_s0']: x_s_1,\n",
    "        sol_c2s_v['Delta_c']: -d_c,\n",
    "    }\n",
    ")\n",
    "(x_s_2 - x_s).simplify()"
   ]
  },
  {
   "cell_type": "markdown",
   "id": "bfa77355",
   "metadata": {},
   "source": [
    "Not immediately simplifying to zero - try some numeric values"
   ]
  },
  {
   "cell_type": "code",
   "execution_count": 78,
   "id": "709b03f1",
   "metadata": {},
   "outputs": [
    {
     "data": {
      "text/plain": [
       "{'x_s': x_s, 'v': v, 'x_l': x_l, 'Delta_c': Delta_c, 'C': C}"
      ]
     },
     "execution_count": 78,
     "metadata": {},
     "output_type": "execute_result"
    }
   ],
   "source": [
    "x_s_2_v = {a.name: a for a in x_s_2.atoms() if hasattr(a, 'name')}\n",
    "x_s_2_v"
   ]
  },
  {
   "cell_type": "code",
   "execution_count": 79,
   "id": "dd705d4c",
   "metadata": {},
   "outputs": [
    {
     "data": {
      "image/png": "[encoded data removed]",
      "text/latex": [
       "$\\displaystyle -0.00187316757558165$"
      ],
      "text/plain": [
       "-0.00187316757558165"
      ]
     },
     "execution_count": 79,
     "metadata": {},
     "output_type": "execute_result"
    }
   ],
   "source": [
    "x_s_0 = 1000\n",
    "x_s_2.subs(\n",
    "    {\n",
    "        x_s_2_v['x_l']: 1000,\n",
    "        x_s_2_v['x_s']: x_s_0,\n",
    "        x_s_2_v['Delta_c']: 100,\n",
    "        x_s_2_v['C']: 100,\n",
    "        x_s_2_v['v']: 0.8,\n",
    "    }\n",
    ").simplify() - x_s_0"
   ]
  },
  {
   "cell_type": "markdown",
   "id": "ab97495c",
   "metadata": {},
   "source": [
    "Ok, looks like it is zero up to numerical precision.  Good!"
   ]
  },
  {
   "cell_type": "markdown",
   "id": "b13e685b",
   "metadata": {},
   "source": [
    "# Appendix\n",
    "Some helper code to generate $\\LaTeX$ forms of the key swap equations."
   ]
  },
  {
   "cell_type": "code",
   "execution_count": 80,
   "id": "00ba2816",
   "metadata": {},
   "outputs": [
    {
     "name": "stdout",
     "output_type": "stream",
     "text": [
      "Coin to Long swap: $\\Delta_{l} = \\frac{- v x_{s} + x_{l} \\left(v - 1\\right) + \\left(- v x_{l} + v x_{s} + x_{l}\\right) e^{\\frac{\\Delta_{c} \\left(v - 1\\right)}{C v x_{s}}}}{v - 1}$\n",
      "\n",
      "Long to Coin swap: $\\Delta_{c} = - \\frac{C v x_{s} \\log{\\left(- \\frac{\\Delta_{l} \\left(v - 1\\right) - v x_{s} + x_{l} \\left(v - 1\\right)}{- v x_{l} + v x_{s} + x_{l}} \\right)}}{v - 1}$\n",
      "\n",
      "Coin to Short swap: $\\Delta_{s} = \\left(- v x_{l} + v x_{s} + x_{l} + \\left(v x_{l} - v x_{s} - x_{l}\\right) e^{\\frac{\\Delta_{c} v}{C x_{l} \\left(v - 1\\right)}}\\right) / v$\n",
      "\n",
      "Short to Coin swap: $\\Delta_{c} = C x_{l} \\left(1 - v\\right) \\log{\\left(\\frac{\\Delta_{s} v - v x_{l} + v x_{s} + x_{l}}{- v x_{l} + v x_{s} + x_{l}} \\right)} / v$\n",
      "\n",
      "Long to Short swap: $\\Delta_{s} = x_{s} \\left(1 - e^{\\frac{\\Delta_{l} v}{x_{l} \\left(v - 1\\right)}}\\right)$\n",
      "\n",
      "Short to Long swap: $\\Delta_{l} = x_{l} \\left(1 - e^{\\Delta_{s} \\left(v - 1\\right) / v x_{s}}\\right)$\n",
      "\n"
     ]
    }
   ],
   "source": [
    "print(f\"Coin to Long swap: {sp.latex(c2l_swap.out_from_in_eqn(), mode='inline')}\\n\")\n",
    "print(f\"Long to Coin swap: {sp.latex(c2l_swap.in_from_out_eqn(), mode='inline')}\\n\")\n",
    "print(f\"Coin to Short swap: {sp.latex(c2s_swap.out_from_in_eqn(), mode='inline')}\\n\")\n",
    "print(f\"Short to Coin swap: {sp.latex(c2s_swap.in_from_out_eqn(), mode='inline')}\\n\")\n",
    "print(f\"Long to Short swap: {sp.latex(l2s_swap.out_from_in_eqn(), mode='inline')}\\n\")\n",
    "print(f\"Short to Long swap: {sp.latex(s2l_swap.out_from_in_eqn(), mode='inline')}\\n\")"
   ]
  },
  {
   "cell_type": "markdown",
   "id": "8be67c24",
   "metadata": {},
   "source": [
    "# Two Token Mettalex - swap and mint concurrently\n",
    "The need for coin in the AMM can be avoided if the coin swapped in to the AMM is immediately used to mint long and short token pairs.  This reduces the DEX to a custom AMM for long and short token swaps plus the existing vault for converting coin to long and short token pairs.  \n",
    "\n",
    "Going through the math below it looks like the final simple closed form solution unfortunately doesn't retain the desired spot price depence for the position tokens."
   ]
  },
  {
   "cell_type": "code",
   "execution_count": 81,
   "id": "3adb920c",
   "metadata": {},
   "outputs": [],
   "source": [
    "v, C = sp.symbols('v C', positive=True)\n",
    "s = sp.symbols('s', real=True)\n",
    "x_l, x_s = sp.symbols('x_l x_s', cls=sp.Function)\n",
    "x_l0, x_s0 = sp.symbols('x_l0 x_s0', nonnegative=True)\n",
    "t, u = sp.symbols('t u', real=True)"
   ]
  },
  {
   "cell_type": "markdown",
   "id": "0af48515",
   "metadata": {},
   "source": [
    "Consider coin to long swap.  The amount of short token held by the AMM increases linearly as coin is swapped in and used for minting long and short token pairs."
   ]
  },
  {
   "cell_type": "code",
   "execution_count": 82,
   "id": "8bda86b0",
   "metadata": {},
   "outputs": [
    {
     "data": {
      "image/png": "[encoded data removed]",
      "text/latex": [
       "$\\displaystyle \\frac{d}{d s} \\operatorname{x_{s}}{\\left(s \\right)} = \\frac{1}{C}$"
      ],
      "text/plain": [
       "d           1\n",
       "──(xₛ(s)) = ─\n",
       "ds          C"
      ]
     },
     "execution_count": 82,
     "metadata": {},
     "output_type": "execute_result"
    }
   ],
   "source": [
    "eqn_x_s_mint_swap = sp.Eq(x_s(s).diff(), 1/C)\n",
    "eqn_x_s_mint_swap"
   ]
  },
  {
   "cell_type": "markdown",
   "id": "aca413d9",
   "metadata": {},
   "source": [
    "The amount of long token held by AMM is assumed to decrease at same rate as described above, but now has an extra term for the long tokens minted from input coin.  Looking at the final result for position token spot prices this may not be correct."
   ]
  },
  {
   "cell_type": "code",
   "execution_count": 83,
   "id": "d919616e",
   "metadata": {},
   "outputs": [
    {
     "data": {
      "image/png": "[encoded data removed]",
      "text/latex": [
       "$\\displaystyle \\frac{d}{d s} \\operatorname{x_{l}}{\\left(s \\right)} = \\frac{1}{C} + \\frac{v \\left(\\operatorname{x_{l}}{\\left(s \\right)} - \\operatorname{x_{s}}{\\left(s \\right)}\\right) - \\operatorname{x_{l}}{\\left(s \\right)}}{C v \\operatorname{x_{s}}{\\left(s \\right)}}$"
      ],
      "text/plain": [
       "d           1   v⋅(xₗ(s) - xₛ(s)) - xₗ(s)\n",
       "──(xₗ(s)) = ─ + ─────────────────────────\n",
       "ds          C           C⋅v⋅xₛ(s)        "
      ]
     },
     "execution_count": 83,
     "metadata": {},
     "output_type": "execute_result"
    }
   ],
   "source": [
    "eqn_x_l_mint_swap = sp.Eq(x_l(s).diff(), 1/C + ( v*(x_l(s) - x_s(s)) - x_l(s))/(C*v*x_s(s)))\n",
    "eqn_x_l_mint_swap"
   ]
  },
  {
   "cell_type": "markdown",
   "id": "d816f30c",
   "metadata": {},
   "source": [
    "Solve for the short token balance"
   ]
  },
  {
   "cell_type": "code",
   "execution_count": 84,
   "id": "2de1a82a",
   "metadata": {},
   "outputs": [
    {
     "data": {
      "image/png": "[encoded data removed]",
      "text/latex": [
       "$\\displaystyle \\operatorname{x_{s}}{\\left(s \\right)} = x_{s0} + \\frac{s}{C}$"
      ],
      "text/plain": [
       "              s\n",
       "xₛ(s) = xₛ₀ + ─\n",
       "              C"
      ]
     },
     "execution_count": 84,
     "metadata": {},
     "output_type": "execute_result"
    }
   ],
   "source": [
    "x_s_sol = sp.dsolve(eqn_x_s_mint_swap, ics={x_s(0): x_s0})\n",
    "x_s_sol"
   ]
  },
  {
   "cell_type": "markdown",
   "id": "b234f129",
   "metadata": {},
   "source": [
    "Substitute the solution for short token balance as a function of coin swapped in $s$ into the ODE for long token balance"
   ]
  },
  {
   "cell_type": "code",
   "execution_count": 85,
   "id": "010fbb1d",
   "metadata": {},
   "outputs": [
    {
     "data": {
      "image/png": "[encoded data removed]",
      "text/latex": [
       "$\\displaystyle \\frac{d}{d s} \\operatorname{x_{l}}{\\left(s \\right)} = \\frac{1}{C} + \\frac{v \\left(- x_{s0} + \\operatorname{x_{l}}{\\left(s \\right)} - \\frac{s}{C}\\right) - \\operatorname{x_{l}}{\\left(s \\right)}}{C v \\left(x_{s0} + \\frac{s}{C}\\right)}$"
      ],
      "text/plain": [
       "                  ⎛               s⎞        \n",
       "                v⋅⎜-xₛ₀ + xₗ(s) - ─⎟ - xₗ(s)\n",
       "d           1     ⎝               C⎠        \n",
       "──(xₗ(s)) = ─ + ────────────────────────────\n",
       "ds          C              ⎛      s⎞        \n",
       "                       C⋅v⋅⎜xₛ₀ + ─⎟        \n",
       "                           ⎝      C⎠        "
      ]
     },
     "execution_count": 85,
     "metadata": {},
     "output_type": "execute_result"
    }
   ],
   "source": [
    "eqn_x_l_mint_swap_subs = eqn_x_l_mint_swap.subs({x_s(s): x_s_sol.rhs})\n",
    "eqn_x_l_mint_swap_subs"
   ]
  },
  {
   "cell_type": "markdown",
   "id": "780935d9",
   "metadata": {},
   "source": [
    "Solve the ODE"
   ]
  },
  {
   "cell_type": "code",
   "execution_count": 86,
   "id": "03d75aef",
   "metadata": {},
   "outputs": [
    {
     "data": {
      "image/png": "[encoded data removed]",
      "text/latex": [
       "$\\displaystyle \\operatorname{x_{l}}{\\left(s \\right)} = \\frac{x_{l0} \\left(C x_{s0} + s\\right) e^{\\frac{\\log{\\left(C \\right)} + \\log{\\left(x_{s0} \\right)} - \\log{\\left(C x_{s0} + s \\right)}}{v}}}{C x_{s0}}$"
      ],
      "text/plain": [
       "                         log(C) + log(xₛ₀) - log(C⋅xₛ₀ + s)\n",
       "                         ──────────────────────────────────\n",
       "                                         v                 \n",
       "        xₗ₀⋅(C⋅xₛ₀ + s)⋅ℯ                                  \n",
       "xₗ(s) = ───────────────────────────────────────────────────\n",
       "                               C⋅xₛ₀                       "
      ]
     },
     "execution_count": 86,
     "metadata": {},
     "output_type": "execute_result"
    }
   ],
   "source": [
    "sol_x_l_mint_swap = sp.dsolve(eqn_x_l_mint_swap_subs, ics={x_l(0): x_l0}).simplify()\n",
    "sol_x_l_mint_swap"
   ]
  },
  {
   "cell_type": "markdown",
   "id": "67aecd54",
   "metadata": {},
   "source": [
    "SImplify result"
   ]
  },
  {
   "cell_type": "code",
   "execution_count": 87,
   "id": "92a22295",
   "metadata": {},
   "outputs": [
    {
     "data": {
      "image/png": "[encoded data removed]",
      "text/latex": [
       "$\\displaystyle \\operatorname{x_{l}}{\\left(s \\right)} = \\frac{x_{l0} \\left(\\frac{C x_{s0}}{C x_{s0} + s}\\right)^{\\frac{1}{v}} \\left(C x_{s0} + s\\right)}{C x_{s0}}$"
      ],
      "text/plain": [
       "                ___________            \n",
       "               ╱   C⋅xₛ₀               \n",
       "        xₗ₀⋅v ╱  ───────── ⋅(C⋅xₛ₀ + s)\n",
       "            ╲╱   C⋅xₛ₀ + s             \n",
       "xₗ(s) = ───────────────────────────────\n",
       "                     C⋅xₛ₀             "
      ]
     },
     "execution_count": 87,
     "metadata": {},
     "output_type": "execute_result"
    }
   ],
   "source": [
    "non_exp_factor_x_l = x_l0*(C*x_s0 + s)/(C*x_s0)\n",
    "# sp.powsimp((\n",
    "sol_x_l_mint_swap_rhs_exp_simp = sp.exp(\n",
    "    sp.logcombine(\n",
    "        sp.expand_log(\n",
    "            sp.log(sol_x_l_mint_swap.rhs/(non_exp_factor_x_l)), force=True\n",
    "        ), force=True\n",
    "    )\n",
    ")*non_exp_factor_x_l \n",
    "sp.Eq(sol_x_l_mint_swap.lhs, sol_x_l_mint_swap_rhs_exp_simp)"
   ]
  },
  {
   "cell_type": "code",
   "execution_count": 88,
   "id": "547872d3",
   "metadata": {},
   "outputs": [],
   "source": [
    "sol_x_l_mint_swap_rhs_full_simp = sp.powsimp((sol_x_l_mint_swap_rhs_exp_simp /x_l0).subs({C*x_s0: t}).subs({t/(s+t): u, (s+t)/t: 1/u})).subs({u: t/(s+t)}).subs({t: C*x_s0})*x_l0\n",
    "eqn_x_l_swap_mint_sol = sp.Eq(sol_x_l_mint_swap.lhs, sol_x_l_mint_swap_rhs_full_simp)\n",
    "eqn_x_s_swap_mint_sol = x_s_sol"
   ]
  },
  {
   "cell_type": "markdown",
   "id": "c80048a2",
   "metadata": {},
   "source": [
    "Final form for AMM long and short token balances after swapping in $s$ coin"
   ]
  },
  {
   "cell_type": "code",
   "execution_count": 89,
   "id": "9c4f281c",
   "metadata": {},
   "outputs": [
    {
     "data": {
      "image/png": "[encoded data removed]",
      "text/latex": [
       "$\\displaystyle \\operatorname{x_{l}}{\\left(s \\right)} = x_{l0} \\left(\\frac{C x_{s0}}{C x_{s0} + s}\\right)^{-1 + \\frac{1}{v}}$"
      ],
      "text/plain": [
       "                            1\n",
       "                       -1 + ─\n",
       "                            v\n",
       "            ⎛  C⋅xₛ₀  ⎞      \n",
       "xₗ(s) = xₗ₀⋅⎜─────────⎟      \n",
       "            ⎝C⋅xₛ₀ + s⎠      "
      ]
     },
     "execution_count": 89,
     "metadata": {},
     "output_type": "execute_result"
    }
   ],
   "source": [
    "eqn_x_l_swap_mint_sol"
   ]
  },
  {
   "cell_type": "code",
   "execution_count": 90,
   "id": "d721203d",
   "metadata": {},
   "outputs": [
    {
     "data": {
      "image/png": "[encoded data removed]",
      "text/latex": [
       "$\\displaystyle \\operatorname{x_{s}}{\\left(s \\right)} = x_{s0} + \\frac{s}{C}$"
      ],
      "text/plain": [
       "              s\n",
       "xₛ(s) = xₛ₀ + ─\n",
       "              C"
      ]
     },
     "execution_count": 90,
     "metadata": {},
     "output_type": "execute_result"
    }
   ],
   "source": [
    "eqn_x_s_swap_mint_sol"
   ]
  },
  {
   "cell_type": "markdown",
   "id": "e2ca5133",
   "metadata": {},
   "source": [
    "Check the spot price - looks like this does not equal the expected $v C$"
   ]
  },
  {
   "cell_type": "code",
   "execution_count": 91,
   "id": "2d6aabf5",
   "metadata": {},
   "outputs": [
    {
     "data": {
      "image/png": "[encoded data removed]",
      "text/latex": [
       "$\\displaystyle p_{l} = - \\frac{C v x_{s0}}{x_{l0} \\left(v - 1\\right)}$"
      ],
      "text/plain": [
       "      -C⋅v⋅xₛ₀  \n",
       "pₗ = ───────────\n",
       "     xₗ₀⋅(v - 1)"
      ]
     },
     "execution_count": 91,
     "metadata": {},
     "output_type": "execute_result"
    }
   ],
   "source": [
    "sp.Eq(p_l_s, -1/eqn_x_l_swap_mint_sol.rhs.series(s, n=2).coeff(s).simplify())"
   ]
  },
  {
   "cell_type": "markdown",
   "id": "3ad322f1",
   "metadata": {},
   "source": [
    "So this isn't quite the correct form of the system of ODEs.  The mistake was adding the newly minted long tokens to the AMM, should they go to the user?  Unclear whether this would fix things and in any event SymPy struggles to solve the resulting ODE.  "
   ]
  },
  {
   "cell_type": "code",
   "execution_count": 92,
   "id": "70cba2cf",
   "metadata": {},
   "outputs": [
    {
     "data": {
      "image/png": "[encoded data removed]",
      "text/latex": [
       "$\\displaystyle \\frac{d}{d s} \\operatorname{x_{l}}{\\left(s \\right)} = \\frac{v \\left(- x_{s0} + \\operatorname{x_{l}}{\\left(s \\right)} - \\frac{s}{C}\\right) - \\operatorname{x_{l}}{\\left(s \\right)}}{C v \\left(x_{s0} + \\frac{s}{C}\\right)}$"
      ],
      "text/plain": [
       "              ⎛               s⎞        \n",
       "            v⋅⎜-xₛ₀ + xₗ(s) - ─⎟ - xₗ(s)\n",
       "d             ⎝               C⎠        \n",
       "──(xₗ(s)) = ────────────────────────────\n",
       "ds                     ⎛      s⎞        \n",
       "                   C⋅v⋅⎜xₛ₀ + ─⎟        \n",
       "                       ⎝      C⎠        "
      ]
     },
     "execution_count": 92,
     "metadata": {},
     "output_type": "execute_result"
    }
   ],
   "source": [
    "eqn_x_l_mint_swap_correct = sp.Eq(x_l(s).diff(), ( v*(x_l(s) - x_s(s)) - x_l(s))/(C*v*x_s(s))).subs({x_s(s): x_s_sol.rhs})\n",
    "eqn_x_l_mint_swap_correct"
   ]
  },
  {
   "cell_type": "code",
   "execution_count": 93,
   "id": "bab70805",
   "metadata": {},
   "outputs": [],
   "source": [
    "# Hangs\n",
    "# sol_x_l_mint_swap_correct = sp.dsolve(eqn_x_l_mint_swap_correct, ics={x_l(0): x_l0}).simplify()\n",
    "# sol_x_l_mint_swap_correct"
   ]
  },
  {
   "cell_type": "markdown",
   "id": "abef0837",
   "metadata": {},
   "source": [
    "# Two Token Mettalex - mint L + S, swap unwanted\n",
    "An alternative two token AMM approach is to only allow swaps between long and short tokens using the existing solution.  This means a trader desiring say long exposure will mint long and short token pairs, then swap the unwanted short tokens for long.  This case is considered below."
   ]
  },
  {
   "cell_type": "markdown",
   "id": "b994fd97",
   "metadata": {},
   "source": [
    "## Swap C $\\rightarrow$ L via C $\\rightarrow$ L + S mint\n",
    "First we see the amount of long tokens returned in exchange for $\\Delta_s$ short tokens"
   ]
  },
  {
   "cell_type": "code",
   "execution_count": 94,
   "id": "b5aaeb9d",
   "metadata": {},
   "outputs": [
    {
     "data": {
      "image/png": "[encoded data removed]",
      "text/latex": [
       "$\\displaystyle \\Delta_{l} = x_{l} \\left(1 - e^{\\frac{\\Delta_{s} \\left(v - 1\\right)}{v x_{s}}}\\right)$"
      ],
      "text/plain": [
       "        ⎛     Δₛ⋅(v - 1)⎞\n",
       "        ⎜     ──────────⎟\n",
       "        ⎜        v⋅xₛ   ⎟\n",
       "Δₗ = xₗ⋅⎝1 - ℯ          ⎠"
      ]
     },
     "execution_count": 94,
     "metadata": {},
     "output_type": "execute_result"
    }
   ],
   "source": [
    "s2l_swap.out_from_in_eqn()"
   ]
  },
  {
   "cell_type": "code",
   "execution_count": 95,
   "id": "5f4697de",
   "metadata": {},
   "outputs": [
    {
     "data": {
      "text/plain": [
       "{'x_s': x_s, 'v': v, 'x_l': x_l, 'Delta_l': Delta_l, 'Delta_s': Delta_s}"
      ]
     },
     "execution_count": 95,
     "metadata": {},
     "output_type": "execute_result"
    }
   ],
   "source": [
    "s2l_swap_syms = get_eqn_symbols(s2l_swap.out_from_in_eqn())\n",
    "s2l_swap_syms"
   ]
  },
  {
   "cell_type": "markdown",
   "id": "f3c12cbc",
   "metadata": {},
   "source": [
    "Total amount of long token returned to user for $s$ coin in will be $s/C$ long tokens from minting plus result of swapping $s/C$ short tokens minted for long tokens."
   ]
  },
  {
   "cell_type": "code",
   "execution_count": 96,
   "id": "869ef17c",
   "metadata": {},
   "outputs": [
    {
     "data": {
      "image/png": "[encoded data removed]",
      "text/latex": [
       "$\\displaystyle \\operatorname{x_{l}}{\\left(s \\right)} = \\frac{C x_{l} \\left(1 - e^{\\frac{s \\left(v - 1\\right)}{C v x_{s}}}\\right) + s}{C}$"
      ],
      "text/plain": [
       "             ⎛     s⋅(v - 1)⎞    \n",
       "             ⎜     ─────────⎟    \n",
       "             ⎜       C⋅v⋅xₛ ⎟    \n",
       "        C⋅xₗ⋅⎝1 - ℯ         ⎠ + s\n",
       "xₗ(s) = ─────────────────────────\n",
       "                    C            "
      ]
     },
     "execution_count": 96,
     "metadata": {},
     "output_type": "execute_result"
    }
   ],
   "source": [
    "eqn_mint_s2l_swap = sp.Eq(\n",
    "    x_l(s), (s/C + s2l_swap.out_from_in_eqn().rhs.subs({s2l_swap_syms['Delta_s']: s/C})).simplify()\n",
    ")\n",
    "eqn_mint_s2l_swap"
   ]
  },
  {
   "cell_type": "markdown",
   "id": "c309498d",
   "metadata": {},
   "source": [
    "The long token spot price now appears to have correct form"
   ]
  },
  {
   "cell_type": "code",
   "execution_count": 97,
   "id": "08962dd7",
   "metadata": {},
   "outputs": [
    {
     "data": {
      "image/png": "[encoded data removed]",
      "text/latex": [
       "$\\displaystyle p_{l} = \\frac{C v x_{s}}{- v x_{l} + v x_{s} + x_{l}}$"
      ],
      "text/plain": [
       "           C⋅v⋅xₛ     \n",
       "pₗ = ─────────────────\n",
       "     -v⋅xₗ + v⋅xₛ + xₗ"
      ]
     },
     "execution_count": 97,
     "metadata": {},
     "output_type": "execute_result"
    }
   ],
   "source": [
    "sp.Eq(p_l_s, 1/eqn_mint_s2l_swap.rhs.series(s, n=2).coeff(s).simplify())"
   ]
  },
  {
   "cell_type": "code",
   "execution_count": 98,
   "id": "30033353",
   "metadata": {},
   "outputs": [],
   "source": [
    "mint_s2l_swap_f = sp.lambdify(\n",
    "    [s, s2l_swap_syms['x_l'], s2l_swap_syms['x_s'], v, C], \n",
    "    eqn_mint_s2l_swap.rhs, 'numpy'\n",
    ")"
   ]
  },
  {
   "cell_type": "markdown",
   "id": "682513b2",
   "metadata": {},
   "source": [
    "Look at swap 10,000 coin for long token at spot price of $v=0.5$ using the mint-swap approach with 1000 long and 1000 short tokens initially in AMM (and no coin).  With no slippage 200 long tokens would be optained."
   ]
  },
  {
   "cell_type": "code",
   "execution_count": 99,
   "id": "7c2a2cc3",
   "metadata": {},
   "outputs": [
    {
     "data": {
      "image/png": "[encoded data removed]",
      "text/latex": [
       "$\\displaystyle 195.16258196404$"
      ],
      "text/plain": [
       "195.16258196404047"
      ]
     },
     "execution_count": 99,
     "metadata": {},
     "output_type": "execute_result"
    }
   ],
   "source": [
    "mint_s2l_swap_f(10_000, 1000, 1000, 0.5, 100) "
   ]
  },
  {
   "cell_type": "markdown",
   "id": "df4b0e31",
   "metadata": {},
   "source": [
    "Compare with the closed form derived above, assuming 100000 coin as well as the long and short tokens in the amm.  This is double the liquidity compared to the mint-swap approach however we see the slippage is increased. "
   ]
  },
  {
   "cell_type": "code",
   "execution_count": 100,
   "id": "0fee2ccb",
   "metadata": {},
   "outputs": [
    {
     "data": {
      "image/png": "[encoded data removed]",
      "text/latex": [
       "$\\displaystyle 190.325163928081$"
      ],
      "text/plain": [
       "190.32516392808088"
      ]
     },
     "execution_count": 100,
     "metadata": {},
     "output_type": "execute_result"
    }
   ],
   "source": [
    "c2l_swap.out_from_in_fun(10_000, 100_000, 1000, 1000, 0.5, 100)"
   ]
  },
  {
   "cell_type": "markdown",
   "id": "82efdc9a",
   "metadata": {},
   "source": [
    "Finally, compare with existing implementation of Balancer swap then reweight.  We see increased slippage if the order is executed as a single swap, although this could be reduced by breaking the order into smaller pieces."
   ]
  },
  {
   "cell_type": "code",
   "execution_count": 101,
   "id": "22105b31",
   "metadata": {},
   "outputs": [
    {
     "data": {
      "text/plain": [
       "DEX: Trade 10000.00 coin for 173.55 long at initial spot 50.00 (-fair price = 0.00), trade price 57.62, post-trade spot 66.55, final spot 54.75"
      ]
     },
     "execution_count": 101,
     "metadata": {},
     "output_type": "execute_result"
    }
   ],
   "source": [
    "default_simple_setup(100_000, 1000, 1000, 0.5, 100).swap('coin', 10_000, 'long')"
   ]
  },
  {
   "cell_type": "markdown",
   "id": "0024d33c",
   "metadata": {},
   "source": [
    "# Swap L $\\rightarrow$ C via L $\\rightarrow$ S swap, redeem L + S"
   ]
  },
  {
   "cell_type": "code",
   "execution_count": 102,
   "id": "69972f09",
   "metadata": {},
   "outputs": [
    {
     "data": {
      "image/png": "[encoded data removed]",
      "text/latex": [
       "$\\displaystyle \\Delta_{s} = x_{s} \\left(1 - e^{\\frac{\\Delta_{l} v}{x_{l} \\left(v - 1\\right)}}\\right)$"
      ],
      "text/plain": [
       "        ⎛        Δₗ⋅v   ⎞\n",
       "        ⎜     ──────────⎟\n",
       "        ⎜     xₗ⋅(v - 1)⎟\n",
       "Δₛ = xₛ⋅⎝1 - ℯ          ⎠"
      ]
     },
     "execution_count": 102,
     "metadata": {},
     "output_type": "execute_result"
    }
   ],
   "source": [
    "l2s_swap.out_from_in_eqn()"
   ]
  },
  {
   "cell_type": "code",
   "execution_count": 103,
   "id": "9598917c",
   "metadata": {},
   "outputs": [],
   "source": [
    "l2s_swap_syms = get_eqn_symbols(l2s_swap.out_from_in_eqn())"
   ]
  },
  {
   "cell_type": "markdown",
   "id": "2a635d9a",
   "metadata": {},
   "source": [
    "Start with $s$ long tokens we fraction $a$ of these for short tokens with the constraint that the number of short tokens recevied must equal the unswapped long tokens $1-a$ in order to redeem as pairs."
   ]
  },
  {
   "cell_type": "code",
   "execution_count": 104,
   "id": "04d15306",
   "metadata": {},
   "outputs": [
    {
     "data": {
      "image/png": "[encoded data removed]",
      "text/latex": [
       "$\\displaystyle s \\left(1 - a\\right) = x_{s} \\left(1 - e^{\\frac{a s v}{x_{l} \\left(v - 1\\right)}}\\right)$"
      ],
      "text/plain": [
       "               ⎛       a⋅s⋅v   ⎞\n",
       "               ⎜     ──────────⎟\n",
       "               ⎜     xₗ⋅(v - 1)⎟\n",
       "s⋅(1 - a) = xₛ⋅⎝1 - ℯ          ⎠"
      ]
     },
     "execution_count": 104,
     "metadata": {},
     "output_type": "execute_result"
    }
   ],
   "source": [
    "eqn_l2c_pair = sp.Eq((1-a)*s, l2s_swap.out_from_in_eqn().rhs.subs({l2s_swap_syms['Delta_l']: a*s}))\n",
    "eqn_l2c_pair"
   ]
  },
  {
   "cell_type": "markdown",
   "id": "2f571715",
   "metadata": {},
   "source": [
    "Unfortunately the equation above does not have a closed form solution for $a$ so numerical methods must be used instead to deermine what fraction of the input long token to swap for short."
   ]
  },
  {
   "cell_type": "code",
   "execution_count": 105,
   "id": "46ca2126",
   "metadata": {},
   "outputs": [],
   "source": [
    "def f_l2c_swap_redeem(s_val, x_l_val, x_s_val, v_val, C_val):\n",
    "    return (eqn_l2c_pair.lhs - eqn_l2c_pair.rhs).subs(\n",
    "        {s: s_val, l2s_swap_syms['x_l']: x_l_val, l2s_swap_syms['x_s']: x_s_val,\n",
    "        v: v_val, C: C_val}\n",
    "    )"
   ]
  },
  {
   "cell_type": "code",
   "execution_count": 106,
   "id": "d523815f",
   "metadata": {},
   "outputs": [
    {
     "data": {
      "image/png": "[encoded data removed]",
      "text/latex": [
       "$\\displaystyle 0.506301736336863$"
      ],
      "text/plain": [
       "0.5063017363368635"
      ]
     },
     "execution_count": 106,
     "metadata": {},
     "output_type": "execute_result"
    }
   ],
   "source": [
    "s_val = 100\n",
    "a_s = float(sp.nsolve(f_l2c_swap_redeem(s_val, 1000, 1000, 0.5, 100), 0.5))\n",
    "a_s"
   ]
  },
  {
   "cell_type": "code",
   "execution_count": 107,
   "id": "52e60ffb",
   "metadata": {},
   "outputs": [
    {
     "data": {
      "image/png": "[encoded data removed]",
      "text/latex": [
       "$\\displaystyle 50.6301736336863$"
      ],
      "text/plain": [
       "50.63017363368635"
      ]
     },
     "execution_count": 107,
     "metadata": {},
     "output_type": "execute_result"
    }
   ],
   "source": [
    "a_s*s_val"
   ]
  },
  {
   "cell_type": "code",
   "execution_count": 108,
   "id": "f4b46c18",
   "metadata": {},
   "outputs": [
    {
     "data": {
      "image/png": "[encoded data removed]",
      "text/latex": [
       "$\\displaystyle 49.3698263663136$"
      ],
      "text/plain": [
       "49.369826366313596"
      ]
     },
     "execution_count": 108,
     "metadata": {},
     "output_type": "execute_result"
    }
   ],
   "source": [
    "l2s_swap.out_from_in_fun(s_val*a_s, 100_000, 1000, 1000, 0.5, 100)"
   ]
  },
  {
   "cell_type": "code",
   "execution_count": 109,
   "id": "b5041148",
   "metadata": {},
   "outputs": [
    {
     "data": {
      "image/png": "[encoded data removed]",
      "text/latex": [
       "$\\displaystyle 49.3698263663137$"
      ],
      "text/plain": [
       "49.36982636631365"
      ]
     },
     "execution_count": 109,
     "metadata": {},
     "output_type": "execute_result"
    }
   ],
   "source": [
    "s_val*(1-a_s)"
   ]
  },
  {
   "cell_type": "code",
   "execution_count": 110,
   "id": "5dd610ff",
   "metadata": {},
   "outputs": [],
   "source": [
    "def l2c_swap_redeem_coin_out_f(s_val, x_l_val, x_s_val, v_val, C_val):\n",
    "    a_s = float(sp.nsolve(f_l2c_swap_redeem(s_val, x_l_val, x_s_val, v_val, C_val), 0.5))\n",
    "    return (1-a_s)*s_val*C_val, a_s"
   ]
  },
  {
   "cell_type": "code",
   "execution_count": 111,
   "id": "36edbc03",
   "metadata": {},
   "outputs": [
    {
     "data": {
      "image/png": "[encoded data removed]",
      "text/latex": [
       "$\\displaystyle 49.3698263663137$"
      ],
      "text/plain": [
       "49.36982636631365"
      ]
     },
     "execution_count": 111,
     "metadata": {},
     "output_type": "execute_result"
    }
   ],
   "source": [
    "s_val = 100\n",
    "# Price per token sold\n",
    "l2c_swap_redeem_coin_out_f(s_val, 1000, 1000, 0.5, 100)[0]/s_val"
   ]
  },
  {
   "cell_type": "code",
   "execution_count": null,
   "id": "d175674d",
   "metadata": {},
   "outputs": [],
   "source": []
  }
 ],
 "metadata": {
  "kernelspec": {
   "display_name": "Python 3",
   "language": "python",
   "name": "python3"
  },
  "language_info": {
   "codemirror_mode": {
    "name": "ipython",
    "version": 3
   },
   "file_extension": ".py",
   "mimetype": "text/x-python",
   "name": "python",
   "nbconvert_exporter": "python",
   "pygments_lexer": "ipython3",
   "version": "3.8.10"
  }
 },
 "nbformat": 4,
 "nbformat_minor": 5
}
